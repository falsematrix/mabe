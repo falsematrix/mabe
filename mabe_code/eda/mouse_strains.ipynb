{
 "cells": [
  {
   "cell_type": "code",
   "execution_count": null,
   "id": "f6f58094",
   "metadata": {},
   "outputs": [],
   "source": [
    "cd ../"
   ]
  },
  {
   "cell_type": "code",
   "execution_count": null,
   "id": "db7f2850",
   "metadata": {},
   "outputs": [],
   "source": [
    "%load_ext autoreload\n",
    "%autoreload 2"
   ]
  },
  {
   "cell_type": "code",
   "execution_count": null,
   "id": "8fd4665e",
   "metadata": {},
   "outputs": [],
   "source": [
    "import pandas as pd\n",
    "\n",
    "\n",
    "train_metadata = pd.read_csv(\"/Users/arbaaz/Downloads/mabe/ds/train.csv\")\n",
    "train_metadata.head()"
   ]
  },
  {
   "cell_type": "code",
   "execution_count": null,
   "id": "583650d2",
   "metadata": {},
   "outputs": [],
   "source": [
    "from data_utils import get_col_names\n",
    "\n",
    "\n",
    "cols = get_col_names(\"_strain\")\n",
    "cols"
   ]
  },
  {
   "cell_type": "code",
   "execution_count": null,
   "id": "08c5c292",
   "metadata": {},
   "outputs": [],
   "source": [
    "strains = set()\n",
    "\n",
    "for col in cols:\n",
    "    strains.update(train_metadata[col].dropna().unique())\n",
    "    \n",
    "strains"
   ]
  },
  {
   "cell_type": "code",
   "execution_count": null,
   "id": "5162e07b",
   "metadata": {},
   "outputs": [],
   "source": [
    "from collections import defaultdict\n",
    "import pandas as pd\n",
    "\n",
    "unique_strains = defaultdict(set)\n",
    "\n",
    "# get unique strains for all cols by lab\n",
    "\n",
    "for lab_id, grp in train_metadata.groupby(\"lab_id\"):\n",
    "\n",
    "    for col in cols:\n",
    "        unique_strains[lab_id].update(grp[col].dropna().unique())\n",
    "        \n",
    "pd.DataFrame({\n",
    "    \"lab_id\": list(unique_strains.keys()),\n",
    "    \"unique_strains\": [list(s) for s in unique_strains.values()]\n",
    "})"
   ]
  },
  {
   "cell_type": "code",
   "execution_count": null,
   "id": "91627419",
   "metadata": {},
   "outputs": [],
   "source": [
    "# unique strains for all mouses by labs\n",
    "\n",
    "strains_by_labs = defaultdict(lambda: defaultdict(set))\n",
    "\n",
    "for lab_id, grp in train_metadata.groupby(\"lab_id\"):\n",
    "    \n",
    "    for col in cols:\n",
    "        strains_by_labs[lab_id][col].update(grp[col].dropna().unique())\n",
    "        \n",
    "for lab_id, strains in strains_by_labs.items():\n",
    "    print(lab_id)\n",
    "\n",
    "    for col, strain in strains.items():\n",
    "            print(f\"{col}: {strain}\")\n",
    "\n",
    "    print()"
   ]
  },
  {
   "cell_type": "code",
   "execution_count": null,
   "id": "2f4c750c",
   "metadata": {},
   "outputs": [],
   "source": [
    "for idx, row in train_metadata.iterrows():\n",
    "    print(f\"{row[cols[0]]} || {row[cols[1]]} || {row[cols[2]]} || {row[cols[3]]}\")"
   ]
  },
  {
   "cell_type": "code",
   "execution_count": null,
   "id": "e94ea348",
   "metadata": {},
   "outputs": [],
   "source": [
    "# count of each unique strain global\n",
    "\n",
    "\n",
    "counts = (\n",
    "    train_metadata[cols]\n",
    "    .stack(dropna=True)            # long format, drops NA\n",
    "    .value_counts()                # frequency per unique strain\n",
    "    .sort_values(ascending=False)\n",
    ")\n",
    "print(counts)\n"
   ]
  },
  {
   "cell_type": "code",
   "execution_count": null,
   "id": "461d92a3",
   "metadata": {},
   "outputs": [],
   "source": [
    "# strain counts by lab "
   ]
  }
 ],
 "metadata": {
  "kernelspec": {
   "display_name": "Python 3",
   "language": "python",
   "name": "python3"
  },
  "language_info": {
   "codemirror_mode": {
    "name": "ipython",
    "version": 3
   },
   "file_extension": ".py",
   "mimetype": "text/x-python",
   "name": "python",
   "nbconvert_exporter": "python",
   "pygments_lexer": "ipython3",
   "version": "3.13.3"
  }
 },
 "nbformat": 4,
 "nbformat_minor": 5
}
