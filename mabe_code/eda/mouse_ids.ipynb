{
 "cells": [
  {
   "cell_type": "code",
   "execution_count": 1,
   "id": "89cfe9a2",
   "metadata": {},
   "outputs": [
    {
     "name": "stdout",
     "output_type": "stream",
     "text": [
      "/Users/arbaaz/Downloads/mabe/mabe_code\n"
     ]
    }
   ],
   "source": [
    "cd ../"
   ]
  },
  {
   "cell_type": "code",
   "execution_count": 2,
   "id": "cdf97ad4",
   "metadata": {},
   "outputs": [],
   "source": [
    "%load_ext autoreload\n",
    "%autoreload 2"
   ]
  },
  {
   "cell_type": "code",
   "execution_count": 3,
   "id": "56f86202",
   "metadata": {},
   "outputs": [
    {
     "data": {
      "text/plain": [
       "['.DS_Store',\n",
       " 'sample_submission.csv',\n",
       " 'test.csv',\n",
       " 'test_tracking',\n",
       " 'train.csv',\n",
       " 'train_annotation',\n",
       " 'train_tracking']"
      ]
     },
     "execution_count": 3,
     "metadata": {},
     "output_type": "execute_result"
    }
   ],
   "source": [
    "import os\n",
    "from data_utils import (\n",
    "    get_index, \n",
    "    get_file_names,\n",
    "    get_paths,\n",
    "    get_col_names, \n",
    "    sleep\n",
    ")\n",
    "\n",
    "\n",
    "path = \"/Users/arbaaz/Downloads/mabe/ds\"\n",
    "get_file_names(path)"
   ]
  },
  {
   "cell_type": "code",
   "execution_count": 4,
   "id": "222c513e",
   "metadata": {},
   "outputs": [
    {
     "data": {
      "text/plain": [
       "['AdaptableSnail',\n",
       " 'BoisterousParrot',\n",
       " 'CRIM13',\n",
       " 'CalMS21_supplemental',\n",
       " 'CalMS21_task1',\n",
       " 'CalMS21_task2',\n",
       " 'CautiousGiraffe',\n",
       " 'DeliriousFly',\n",
       " 'ElegantMink',\n",
       " 'GroovyShrew',\n",
       " 'InvincibleJellyfish',\n",
       " 'JovialSwallow',\n",
       " 'LyricalHare',\n",
       " 'NiftyGoldfinch',\n",
       " 'PleasantMeerkat',\n",
       " 'ReflectiveManatee',\n",
       " 'SparklingTapir',\n",
       " 'TranquilPanther',\n",
       " 'UppityFerret']"
      ]
     },
     "execution_count": 4,
     "metadata": {},
     "output_type": "execute_result"
    }
   ],
   "source": [
    "get_file_names(path+\"/train_annotation\")"
   ]
  },
  {
   "cell_type": "code",
   "execution_count": 5,
   "id": "eaa4a404",
   "metadata": {},
   "outputs": [
    {
     "data": {
      "text/html": [
       "<div>\n",
       "<style scoped>\n",
       "    .dataframe tbody tr th:only-of-type {\n",
       "        vertical-align: middle;\n",
       "    }\n",
       "\n",
       "    .dataframe tbody tr th {\n",
       "        vertical-align: top;\n",
       "    }\n",
       "\n",
       "    .dataframe thead th {\n",
       "        text-align: right;\n",
       "    }\n",
       "</style>\n",
       "<table border=\"1\" class=\"dataframe\">\n",
       "  <thead>\n",
       "    <tr style=\"text-align: right;\">\n",
       "      <th></th>\n",
       "      <th>lab_id</th>\n",
       "      <th>video_id</th>\n",
       "      <th>mouse1_strain</th>\n",
       "      <th>mouse1_color</th>\n",
       "      <th>mouse1_sex</th>\n",
       "      <th>mouse1_id</th>\n",
       "      <th>mouse1_age</th>\n",
       "      <th>mouse1_condition</th>\n",
       "      <th>mouse2_strain</th>\n",
       "      <th>mouse2_color</th>\n",
       "      <th>...</th>\n",
       "      <th>pix_per_cm_approx</th>\n",
       "      <th>video_width_pix</th>\n",
       "      <th>video_height_pix</th>\n",
       "      <th>arena_width_cm</th>\n",
       "      <th>arena_height_cm</th>\n",
       "      <th>arena_shape</th>\n",
       "      <th>arena_type</th>\n",
       "      <th>body_parts_tracked</th>\n",
       "      <th>behaviors_labeled</th>\n",
       "      <th>tracking_method</th>\n",
       "    </tr>\n",
       "  </thead>\n",
       "  <tbody>\n",
       "    <tr>\n",
       "      <th>0</th>\n",
       "      <td>AdaptableSnail</td>\n",
       "      <td>44566106</td>\n",
       "      <td>CD-1 (ICR)</td>\n",
       "      <td>white</td>\n",
       "      <td>male</td>\n",
       "      <td>10.0</td>\n",
       "      <td>8-12 weeks</td>\n",
       "      <td>wireless device</td>\n",
       "      <td>CD-1 (ICR)</td>\n",
       "      <td>white</td>\n",
       "      <td>...</td>\n",
       "      <td>16.0</td>\n",
       "      <td>1228</td>\n",
       "      <td>1068</td>\n",
       "      <td>60.0</td>\n",
       "      <td>60.0</td>\n",
       "      <td>square</td>\n",
       "      <td>familiar</td>\n",
       "      <td>[\"body_center\", \"ear_left\", \"ear_right\", \"head...</td>\n",
       "      <td>[\"mouse1,mouse2,approach\", \"mouse1,mouse2,atta...</td>\n",
       "      <td>DeepLabCut</td>\n",
       "    </tr>\n",
       "    <tr>\n",
       "      <th>1</th>\n",
       "      <td>AdaptableSnail</td>\n",
       "      <td>143861384</td>\n",
       "      <td>CD-1 (ICR)</td>\n",
       "      <td>white</td>\n",
       "      <td>male</td>\n",
       "      <td>3.0</td>\n",
       "      <td>8-12 weeks</td>\n",
       "      <td>NaN</td>\n",
       "      <td>CD-1 (ICR)</td>\n",
       "      <td>white</td>\n",
       "      <td>...</td>\n",
       "      <td>9.7</td>\n",
       "      <td>968</td>\n",
       "      <td>608</td>\n",
       "      <td>60.0</td>\n",
       "      <td>60.0</td>\n",
       "      <td>square</td>\n",
       "      <td>familiar</td>\n",
       "      <td>[\"body_center\", \"ear_left\", \"ear_right\", \"late...</td>\n",
       "      <td>[\"mouse1,mouse2,approach\", \"mouse1,mouse2,atta...</td>\n",
       "      <td>DeepLabCut</td>\n",
       "    </tr>\n",
       "    <tr>\n",
       "      <th>2</th>\n",
       "      <td>AdaptableSnail</td>\n",
       "      <td>209576908</td>\n",
       "      <td>CD-1 (ICR)</td>\n",
       "      <td>white</td>\n",
       "      <td>male</td>\n",
       "      <td>7.0</td>\n",
       "      <td>8-12 weeks</td>\n",
       "      <td>NaN</td>\n",
       "      <td>CD-1 (ICR)</td>\n",
       "      <td>white</td>\n",
       "      <td>...</td>\n",
       "      <td>16.0</td>\n",
       "      <td>1266</td>\n",
       "      <td>1100</td>\n",
       "      <td>60.0</td>\n",
       "      <td>60.0</td>\n",
       "      <td>square</td>\n",
       "      <td>familiar</td>\n",
       "      <td>[\"body_center\", \"ear_left\", \"ear_right\", \"late...</td>\n",
       "      <td>[\"mouse1,mouse2,approach\", \"mouse1,mouse2,atta...</td>\n",
       "      <td>DeepLabCut</td>\n",
       "    </tr>\n",
       "    <tr>\n",
       "      <th>3</th>\n",
       "      <td>AdaptableSnail</td>\n",
       "      <td>278643799</td>\n",
       "      <td>CD-1 (ICR)</td>\n",
       "      <td>white</td>\n",
       "      <td>male</td>\n",
       "      <td>11.0</td>\n",
       "      <td>8-12 weeks</td>\n",
       "      <td>wireless device</td>\n",
       "      <td>CD-1 (ICR)</td>\n",
       "      <td>white</td>\n",
       "      <td>...</td>\n",
       "      <td>16.0</td>\n",
       "      <td>1224</td>\n",
       "      <td>1100</td>\n",
       "      <td>60.0</td>\n",
       "      <td>60.0</td>\n",
       "      <td>square</td>\n",
       "      <td>familiar</td>\n",
       "      <td>[\"body_center\", \"ear_left\", \"ear_right\", \"head...</td>\n",
       "      <td>[\"mouse1,mouse2,approach\", \"mouse1,mouse2,atta...</td>\n",
       "      <td>DeepLabCut</td>\n",
       "    </tr>\n",
       "    <tr>\n",
       "      <th>4</th>\n",
       "      <td>AdaptableSnail</td>\n",
       "      <td>351967631</td>\n",
       "      <td>CD-1 (ICR)</td>\n",
       "      <td>white</td>\n",
       "      <td>male</td>\n",
       "      <td>14.0</td>\n",
       "      <td>8-12 weeks</td>\n",
       "      <td>NaN</td>\n",
       "      <td>CD-1 (ICR)</td>\n",
       "      <td>white</td>\n",
       "      <td>...</td>\n",
       "      <td>16.0</td>\n",
       "      <td>1204</td>\n",
       "      <td>1068</td>\n",
       "      <td>60.0</td>\n",
       "      <td>60.0</td>\n",
       "      <td>square</td>\n",
       "      <td>familiar</td>\n",
       "      <td>[\"body_center\", \"ear_left\", \"ear_right\", \"late...</td>\n",
       "      <td>[\"mouse1,mouse2,approach\", \"mouse1,mouse2,atta...</td>\n",
       "      <td>DeepLabCut</td>\n",
       "    </tr>\n",
       "  </tbody>\n",
       "</table>\n",
       "<p>5 rows × 38 columns</p>\n",
       "</div>"
      ],
      "text/plain": [
       "           lab_id   video_id mouse1_strain mouse1_color mouse1_sex  mouse1_id  \\\n",
       "0  AdaptableSnail   44566106    CD-1 (ICR)        white       male       10.0   \n",
       "1  AdaptableSnail  143861384    CD-1 (ICR)        white       male        3.0   \n",
       "2  AdaptableSnail  209576908    CD-1 (ICR)        white       male        7.0   \n",
       "3  AdaptableSnail  278643799    CD-1 (ICR)        white       male       11.0   \n",
       "4  AdaptableSnail  351967631    CD-1 (ICR)        white       male       14.0   \n",
       "\n",
       "   mouse1_age mouse1_condition mouse2_strain mouse2_color  ...  \\\n",
       "0  8-12 weeks  wireless device    CD-1 (ICR)        white  ...   \n",
       "1  8-12 weeks              NaN    CD-1 (ICR)        white  ...   \n",
       "2  8-12 weeks              NaN    CD-1 (ICR)        white  ...   \n",
       "3  8-12 weeks  wireless device    CD-1 (ICR)        white  ...   \n",
       "4  8-12 weeks              NaN    CD-1 (ICR)        white  ...   \n",
       "\n",
       "  pix_per_cm_approx  video_width_pix video_height_pix arena_width_cm  \\\n",
       "0              16.0             1228             1068           60.0   \n",
       "1               9.7              968              608           60.0   \n",
       "2              16.0             1266             1100           60.0   \n",
       "3              16.0             1224             1100           60.0   \n",
       "4              16.0             1204             1068           60.0   \n",
       "\n",
       "  arena_height_cm arena_shape arena_type  \\\n",
       "0            60.0      square   familiar   \n",
       "1            60.0      square   familiar   \n",
       "2            60.0      square   familiar   \n",
       "3            60.0      square   familiar   \n",
       "4            60.0      square   familiar   \n",
       "\n",
       "                                  body_parts_tracked  \\\n",
       "0  [\"body_center\", \"ear_left\", \"ear_right\", \"head...   \n",
       "1  [\"body_center\", \"ear_left\", \"ear_right\", \"late...   \n",
       "2  [\"body_center\", \"ear_left\", \"ear_right\", \"late...   \n",
       "3  [\"body_center\", \"ear_left\", \"ear_right\", \"head...   \n",
       "4  [\"body_center\", \"ear_left\", \"ear_right\", \"late...   \n",
       "\n",
       "                                   behaviors_labeled tracking_method  \n",
       "0  [\"mouse1,mouse2,approach\", \"mouse1,mouse2,atta...      DeepLabCut  \n",
       "1  [\"mouse1,mouse2,approach\", \"mouse1,mouse2,atta...      DeepLabCut  \n",
       "2  [\"mouse1,mouse2,approach\", \"mouse1,mouse2,atta...      DeepLabCut  \n",
       "3  [\"mouse1,mouse2,approach\", \"mouse1,mouse2,atta...      DeepLabCut  \n",
       "4  [\"mouse1,mouse2,approach\", \"mouse1,mouse2,atta...      DeepLabCut  \n",
       "\n",
       "[5 rows x 38 columns]"
      ]
     },
     "execution_count": 5,
     "metadata": {},
     "output_type": "execute_result"
    }
   ],
   "source": [
    "import pandas as pd\n",
    "\n",
    "\n",
    "train_metadata = pd.read_csv(\"/Users/arbaaz/Downloads/mabe/ds/train.csv\")\n",
    "train_metadata.head()"
   ]
  },
  {
   "cell_type": "code",
   "execution_count": 205,
   "id": "a075098e",
   "metadata": {},
   "outputs": [
    {
     "data": {
      "text/plain": [
       "368"
      ]
     },
     "execution_count": 205,
     "metadata": {},
     "output_type": "execute_result"
    }
   ],
   "source": [
    "train_meta = train_metadata.query(\"~lab_id.isin(@not_in_test)\")\n",
    "len(train_meta)"
   ]
  },
  {
   "cell_type": "code",
   "execution_count": null,
   "id": "4e7760fb",
   "metadata": {},
   "outputs": [
    {
     "name": "stdout",
     "output_type": "stream",
     "text": [
      "Error in GroovyShrew\n"
     ]
    }
   ],
   "source": [
    "# Checking if all ids of mouses are exlusive or not by lab\n",
    "\n",
    "id_cols = get_col_names(\"_id\")\n",
    "\n",
    "for id, grp in train_meta.groupby(\"lab_id\"):\n",
    "    all_ids_lsts = []\n",
    "    \n",
    "    for col in id_cols:\n",
    "        id_lst = grp[col].unique().tolist()\n",
    "        all_ids_lsts.append(id_lst)\n",
    "\n",
    "    all_ids = [x for lst in all_ids_lsts for x in lst]\n",
    "    \n",
    "    if not len(set(all_ids)) == len(all_ids):\n",
    "        print(f\"Error in {id}\")                          # this maybe incorrect "
   ]
  },
  {
   "cell_type": "code",
   "execution_count": 144,
   "id": "30b59b87",
   "metadata": {},
   "outputs": [
    {
     "data": {
      "text/plain": [
       "[[13.0, 18.0, 4.0, 15.0, 9.0, 19.0, 7.0],\n",
       " [16.0, 14.0, 8.0, 3.0, 6.0, 2.0, 1.0, 12.0, 4.0, 5.0],\n",
       " [nan],\n",
       " [nan]]"
      ]
     },
     "execution_count": 144,
     "metadata": {},
     "output_type": "execute_result"
    }
   ],
   "source": [
    "shrew = train_meta.groupby(\"lab_id\").get_group(\"GroovyShrew\")\n",
    "\n",
    "all_ids_lsts = []\n",
    "\n",
    "for col in id_cols:\n",
    "    id_lst = shrew[col].unique().tolist()\n",
    "    all_ids_lsts.append(id_lst)\n",
    "\n",
    "all_ids_lsts"
   ]
  },
  {
   "cell_type": "code",
   "execution_count": 157,
   "id": "9d9b9ee9",
   "metadata": {},
   "outputs": [],
   "source": [
    "pretrain_labs = [\n",
    "    \"MABe22_keypoints\",\n",
    "    \"MABe22_movies\",\n",
    "]"
   ]
  },
  {
   "cell_type": "code",
   "execution_count": 158,
   "id": "c343e805",
   "metadata": {},
   "outputs": [
    {
     "data": {
      "text/plain": [
       "array(['MABe22_keypoints', 'MABe22_movies'], dtype=object)"
      ]
     },
     "execution_count": 158,
     "metadata": {},
     "output_type": "execute_result"
    }
   ],
   "source": [
    "pretrain_meta = train_metadata.query(\"lab_id.isin(@pretrain_labs)\")\n",
    "pretrain_meta[\"lab_id\"].unique()"
   ]
  },
  {
   "cell_type": "code",
   "execution_count": null,
   "id": "61788343",
   "metadata": {},
   "outputs": [],
   "source": [
    "# Checking if all ids of mouses are exlusive or not by lab\n",
    "\n",
    "id_cols = get_col_names(\"_id\")\n",
    "\n",
    "for id, grp in pretrain_meta.groupby(\"lab_id\"):\n",
    "    all_ids_lsts = []\n",
    "    \n",
    "    for col in id_cols:\n",
    "        id_lst = grp[col].unique().tolist()\n",
    "        all_ids_lsts.append(id_lst)\n",
    "\n",
    "    all_ids = [x for lst in all_ids_lsts for x in lst]\n",
    "    \n",
    "    if not len(set(all_ids)) == len(all_ids):\n",
    "        print(f\"Error in {id}\")"
   ]
  },
  {
   "cell_type": "code",
   "execution_count": 164,
   "id": "77546478",
   "metadata": {},
   "outputs": [],
   "source": [
    "calcrim = [\n",
    "    \"CalMS21_supplemental\",\n",
    "    \"CalMS21_task1\",\n",
    "    \"CalMS21_task2\",\n",
    "    \"CRIM13\"\n",
    "]"
   ]
  },
  {
   "cell_type": "code",
   "execution_count": 203,
   "id": "d5a1416a",
   "metadata": {},
   "outputs": [
    {
     "data": {
      "text/plain": [
       "array(['CRIM13', 'CalMS21_supplemental', 'CalMS21_task1', 'CalMS21_task2'],\n",
       "      dtype=object)"
      ]
     },
     "execution_count": 203,
     "metadata": {},
     "output_type": "execute_result"
    }
   ],
   "source": [
    "calcrim_meta = train_metadata.query(\"lab_id.isin(@calcrim)\")\n",
    "calcrim_meta[\"lab_id\"].unique()"
   ]
  },
  {
   "cell_type": "code",
   "execution_count": null,
   "id": "b4ae90f8",
   "metadata": {},
   "outputs": [],
   "source": [
    "# Checking if all ids of mouses are exlusive or not by lab\n",
    "\n",
    "id_cols = get_col_names(\"_id\")\n",
    "\n",
    "for id, grp in calcrim_meta.groupby(\"lab_id\"):\n",
    "    all_ids_lsts = []\n",
    "    \n",
    "    for col in id_cols:\n",
    "        id_lst = grp[col].unique().tolist()\n",
    "        all_ids_lsts.append(id_lst)\n",
    "\n",
    "    all_ids = [x for lst in all_ids_lsts for x in lst]\n",
    "    \n",
    "    if not len(set(all_ids)) == len(all_ids):\n",
    "        print(f\"Error in {id}\")"
   ]
  },
  {
   "cell_type": "code",
   "execution_count": 223,
   "id": "d1b5b031",
   "metadata": {},
   "outputs": [
    {
     "data": {
      "text/plain": [
       "False"
      ]
     },
     "execution_count": 223,
     "metadata": {},
     "output_type": "execute_result"
    }
   ],
   "source": [
    "from collections import defaultdict\n",
    "\n",
    "\n",
    "all_ids_dict = defaultdict(set)\n",
    "\n",
    "# check global ids of all mouses unique or not\n",
    "\n",
    "for lab_id, grp in train_metadata.groupby(\"lab_id\"):\n",
    "    for col in id_cols:\n",
    "        all_ids_dict[col].update(grp[col].unique())\n",
    "        \n",
    "all_ids = [x for v in all_ids_dict.values() for x in v]\n",
    "\n",
    "len(set(all_ids)) == len(all_ids)"
   ]
  },
  {
   "cell_type": "code",
   "execution_count": 30,
   "id": "8f9b8b6b",
   "metadata": {},
   "outputs": [
    {
     "data": {
      "image/png": "[encoded data removed]",
      "text/plain": [
       "<Figure size 1200x600 with 1 Axes>"
      ]
     },
     "metadata": {},
     "output_type": "display_data"
    }
   ],
   "source": [
    "import matplotlib.pyplot as plt\n",
    "import pandas as pd\n",
    "\n",
    "# Get all columns containing \"_id\"\n",
    "id_cols = get_col_names(\"_id\")\n",
    "\n",
    "# Compute total unique mice per lab\n",
    "lab_totals = train_metadata.groupby(\"lab_id\")[id_cols].nunique().sum(axis=1)\n",
    "\n",
    "# Convert to DataFrame for plotting\n",
    "df_plot = lab_totals.reset_index()\n",
    "df_plot.columns = ['lab_id', 'total_mice']\n",
    "\n",
    "# Sort by total_mice ascending\n",
    "df_plot = df_plot.sort_values('total_mice', ascending=False)\n",
    "\n",
    "# Bar plot\n",
    "plt.figure(figsize=(12,6))\n",
    "plt.bar(df_plot['lab_id'], df_plot['total_mice'], color='skyblue')\n",
    "plt.xticks(rotation=90)\n",
    "plt.ylabel(\"Total unique mice\")\n",
    "plt.title(\"Total unique mice per lab (ascending)\")\n",
    "plt.show()\n"
   ]
  },
  {
   "cell_type": "code",
   "execution_count": 19,
   "id": "aaceacfb",
   "metadata": {},
   "outputs": [
    {
     "name": "stdout",
     "output_type": "stream",
     "text": [
      "[nan]\n",
      "[nan]\n",
      "[nan]\n",
      "[nan]\n",
      "[nan]\n",
      "[nan]\n",
      "[nan]\n",
      "[nan]\n"
     ]
    }
   ],
   "source": [
    "from data_utils import pretrain_labs\n",
    "\n",
    "\n",
    "x = train_metadata.groupby(\"lab_id\").get_group(pretrain_labs[0])\n",
    "\n",
    "for l in pretrain_labs:\n",
    "    x = train_metadata.groupby(\"lab_id\").get_group(l)\n",
    "\n",
    "    for col in id_cols:\n",
    "        print(x[col].unique())"
   ]
  },
  {
   "cell_type": "code",
   "execution_count": 21,
   "id": "21f96f9c",
   "metadata": {},
   "outputs": [
    {
     "data": {
      "text/html": [
       "<div>\n",
       "<style scoped>\n",
       "    .dataframe tbody tr th:only-of-type {\n",
       "        vertical-align: middle;\n",
       "    }\n",
       "\n",
       "    .dataframe tbody tr th {\n",
       "        vertical-align: top;\n",
       "    }\n",
       "\n",
       "    .dataframe thead th {\n",
       "        text-align: right;\n",
       "    }\n",
       "</style>\n",
       "<table border=\"1\" class=\"dataframe\">\n",
       "  <thead>\n",
       "    <tr style=\"text-align: right;\">\n",
       "      <th></th>\n",
       "      <th>mouse1_id</th>\n",
       "      <th>mouse2_id</th>\n",
       "      <th>mouse3_id</th>\n",
       "      <th>mouse4_id</th>\n",
       "    </tr>\n",
       "    <tr>\n",
       "      <th>lab_id</th>\n",
       "      <th></th>\n",
       "      <th></th>\n",
       "      <th></th>\n",
       "      <th></th>\n",
       "    </tr>\n",
       "  </thead>\n",
       "  <tbody>\n",
       "    <tr>\n",
       "      <th>AdaptableSnail</th>\n",
       "      <td>10</td>\n",
       "      <td>10</td>\n",
       "      <td>10</td>\n",
       "      <td>7</td>\n",
       "    </tr>\n",
       "    <tr>\n",
       "      <th>BoisterousParrot</th>\n",
       "      <td>4</td>\n",
       "      <td>4</td>\n",
       "      <td>0</td>\n",
       "      <td>0</td>\n",
       "    </tr>\n",
       "    <tr>\n",
       "      <th>CRIM13</th>\n",
       "      <td>4</td>\n",
       "      <td>0</td>\n",
       "      <td>0</td>\n",
       "      <td>0</td>\n",
       "    </tr>\n",
       "    <tr>\n",
       "      <th>CalMS21_supplemental</th>\n",
       "      <td>79</td>\n",
       "      <td>0</td>\n",
       "      <td>0</td>\n",
       "      <td>0</td>\n",
       "    </tr>\n",
       "    <tr>\n",
       "      <th>CalMS21_task1</th>\n",
       "      <td>32</td>\n",
       "      <td>0</td>\n",
       "      <td>0</td>\n",
       "      <td>0</td>\n",
       "    </tr>\n",
       "    <tr>\n",
       "      <th>CalMS21_task2</th>\n",
       "      <td>46</td>\n",
       "      <td>0</td>\n",
       "      <td>0</td>\n",
       "      <td>0</td>\n",
       "    </tr>\n",
       "    <tr>\n",
       "      <th>CautiousGiraffe</th>\n",
       "      <td>7</td>\n",
       "      <td>0</td>\n",
       "      <td>0</td>\n",
       "      <td>0</td>\n",
       "    </tr>\n",
       "    <tr>\n",
       "      <th>DeliriousFly</th>\n",
       "      <td>1</td>\n",
       "      <td>0</td>\n",
       "      <td>0</td>\n",
       "      <td>0</td>\n",
       "    </tr>\n",
       "    <tr>\n",
       "      <th>ElegantMink</th>\n",
       "      <td>19</td>\n",
       "      <td>19</td>\n",
       "      <td>0</td>\n",
       "      <td>0</td>\n",
       "    </tr>\n",
       "    <tr>\n",
       "      <th>GroovyShrew</th>\n",
       "      <td>7</td>\n",
       "      <td>10</td>\n",
       "      <td>0</td>\n",
       "      <td>0</td>\n",
       "    </tr>\n",
       "    <tr>\n",
       "      <th>InvincibleJellyfish</th>\n",
       "      <td>33</td>\n",
       "      <td>0</td>\n",
       "      <td>0</td>\n",
       "      <td>0</td>\n",
       "    </tr>\n",
       "    <tr>\n",
       "      <th>JovialSwallow</th>\n",
       "      <td>9</td>\n",
       "      <td>0</td>\n",
       "      <td>0</td>\n",
       "      <td>0</td>\n",
       "    </tr>\n",
       "    <tr>\n",
       "      <th>LyricalHare</th>\n",
       "      <td>10</td>\n",
       "      <td>0</td>\n",
       "      <td>0</td>\n",
       "      <td>0</td>\n",
       "    </tr>\n",
       "    <tr>\n",
       "      <th>MABe22_keypoints</th>\n",
       "      <td>0</td>\n",
       "      <td>0</td>\n",
       "      <td>0</td>\n",
       "      <td>0</td>\n",
       "    </tr>\n",
       "    <tr>\n",
       "      <th>MABe22_movies</th>\n",
       "      <td>0</td>\n",
       "      <td>0</td>\n",
       "      <td>0</td>\n",
       "      <td>0</td>\n",
       "    </tr>\n",
       "    <tr>\n",
       "      <th>NiftyGoldfinch</th>\n",
       "      <td>11</td>\n",
       "      <td>11</td>\n",
       "      <td>0</td>\n",
       "      <td>0</td>\n",
       "    </tr>\n",
       "    <tr>\n",
       "      <th>PleasantMeerkat</th>\n",
       "      <td>8</td>\n",
       "      <td>8</td>\n",
       "      <td>0</td>\n",
       "      <td>0</td>\n",
       "    </tr>\n",
       "    <tr>\n",
       "      <th>ReflectiveManatee</th>\n",
       "      <td>11</td>\n",
       "      <td>0</td>\n",
       "      <td>0</td>\n",
       "      <td>0</td>\n",
       "    </tr>\n",
       "    <tr>\n",
       "      <th>SparklingTapir</th>\n",
       "      <td>18</td>\n",
       "      <td>0</td>\n",
       "      <td>0</td>\n",
       "      <td>0</td>\n",
       "    </tr>\n",
       "    <tr>\n",
       "      <th>TranquilPanther</th>\n",
       "      <td>12</td>\n",
       "      <td>0</td>\n",
       "      <td>0</td>\n",
       "      <td>0</td>\n",
       "    </tr>\n",
       "    <tr>\n",
       "      <th>UppityFerret</th>\n",
       "      <td>21</td>\n",
       "      <td>0</td>\n",
       "      <td>0</td>\n",
       "      <td>0</td>\n",
       "    </tr>\n",
       "  </tbody>\n",
       "</table>\n",
       "</div>"
      ],
      "text/plain": [
       "                      mouse1_id  mouse2_id  mouse3_id  mouse4_id\n",
       "lab_id                                                          \n",
       "AdaptableSnail               10         10         10          7\n",
       "BoisterousParrot              4          4          0          0\n",
       "CRIM13                        4          0          0          0\n",
       "CalMS21_supplemental         79          0          0          0\n",
       "CalMS21_task1                32          0          0          0\n",
       "CalMS21_task2                46          0          0          0\n",
       "CautiousGiraffe               7          0          0          0\n",
       "DeliriousFly                  1          0          0          0\n",
       "ElegantMink                  19         19          0          0\n",
       "GroovyShrew                   7         10          0          0\n",
       "InvincibleJellyfish          33          0          0          0\n",
       "JovialSwallow                 9          0          0          0\n",
       "LyricalHare                  10          0          0          0\n",
       "MABe22_keypoints              0          0          0          0\n",
       "MABe22_movies                 0          0          0          0\n",
       "NiftyGoldfinch               11         11          0          0\n",
       "PleasantMeerkat               8          8          0          0\n",
       "ReflectiveManatee            11          0          0          0\n",
       "SparklingTapir               18          0          0          0\n",
       "TranquilPanther              12          0          0          0\n",
       "UppityFerret                 21          0          0          0"
      ]
     },
     "execution_count": 21,
     "metadata": {},
     "output_type": "execute_result"
    }
   ],
   "source": [
    "train_metadata.groupby(\"lab_id\")[id_cols].nunique()"
   ]
  },
  {
   "cell_type": "code",
   "execution_count": 27,
   "id": "600fddbd",
   "metadata": {},
   "outputs": [
    {
     "data": {
      "text/plain": [
       "lab_id\n",
       "DeliriousFly               6\n",
       "BoisterousParrot           8\n",
       "CautiousGiraffe           10\n",
       "NiftyGoldfinch            11\n",
       "AdaptableSnail            17\n",
       "GroovyShrew               17\n",
       "ElegantMink               19\n",
       "ReflectiveManatee         20\n",
       "UppityFerret              21\n",
       "CRIM13                    21\n",
       "LyricalHare               24\n",
       "TranquilPanther           25\n",
       "InvincibleJellyfish       33\n",
       "PleasantMeerkat           36\n",
       "JovialSwallow             52\n",
       "SparklingTapir            69\n",
       "CalMS21_task2             76\n",
       "CalMS21_task1            101\n",
       "CalMS21_supplemental     297\n",
       "MABe22_movies           2606\n",
       "MABe22_keypoints        5320\n",
       "dtype: int64"
      ]
     },
     "execution_count": 27,
     "metadata": {},
     "output_type": "execute_result"
    }
   ],
   "source": [
    "train_metadata.groupby(\"lab_id\").size().sort_values(ascending=True)"
   ]
  },
  {
   "cell_type": "code",
   "execution_count": 32,
   "id": "214eca6e",
   "metadata": {},
   "outputs": [
    {
     "data": {
      "text/plain": [
       "array([  44566106,  143861384,  209576908, ..., 1960237444, 2045808129,\n",
       "       2104375029], shape=(8789,))"
      ]
     },
     "execution_count": 32,
     "metadata": {},
     "output_type": "execute_result"
    }
   ],
   "source": [
    "train_metadata[\"video_id\"].unique()"
   ]
  },
  {
   "cell_type": "code",
   "execution_count": 40,
   "id": "4f3f803e",
   "metadata": {},
   "outputs": [
    {
     "data": {
      "text/plain": [
       "0"
      ]
     },
     "execution_count": 40,
     "metadata": {},
     "output_type": "execute_result"
    }
   ],
   "source": [
    "count = 0\n",
    "\n",
    "# checking if ids are not unique in any row\n",
    "\n",
    "for idx, row in train_metadata.iterrows():\n",
    "    ids = []\n",
    "    \n",
    "    for col in id_cols:\n",
    "        ids.append(row[col])   \n",
    "    \n",
    "    if len(ids) != len(set(ids)):\n",
    "        count += 1        \n",
    "count"
   ]
  },
  {
   "cell_type": "code",
   "execution_count": 18,
   "id": "57109981",
   "metadata": {},
   "outputs": [
    {
     "data": {
      "text/plain": [
       "0"
      ]
     },
     "execution_count": 18,
     "metadata": {},
     "output_type": "execute_result"
    }
   ],
   "source": [
    "# check inter id col uniquess by each row because each row represents a single video of a lab \n",
    "# this should be unique if not an error \n",
    "\n",
    "count = 0\n",
    "id_cols = get_col_names(\"_id\")\n",
    "\n",
    "for idx, row in train_metadata.iterrows():\n",
    "    ids = set()\n",
    "    \n",
    "    for col in id_cols:\n",
    "        ids.add(row[col])\n",
    "    \n",
    "    if not len(ids) == 4:\n",
    "        count += 1\n",
    "        \n",
    "count"
   ]
  },
  {
   "cell_type": "code",
   "execution_count": 49,
   "id": "d6cec0d6",
   "metadata": {},
   "outputs": [
    {
     "name": "stdout",
     "output_type": "stream",
     "text": [
      "                      all_four  triple  double  single  none\n",
      "AdaptableSnail              10       7       0       0     0\n",
      "BoisterousParrot             0       0       8       0     0\n",
      "ElegantMink                  0       0      19       0     0\n",
      "GroovyShrew                  0       0      17       0     0\n",
      "NiftyGoldfinch               0       0      11       0     0\n",
      "PleasantMeerkat              0       0      36       0     0\n",
      "CRIM13                       0       0       0      21     0\n",
      "CalMS21_supplemental         0       0       0     297     0\n",
      "CalMS21_task1                0       0       0     101     0\n",
      "CalMS21_task2                0       0       0      76     0\n",
      "CautiousGiraffe              0       0       0      10     0\n",
      "DeliriousFly                 0       0       0       6     0\n",
      "InvincibleJellyfish          0       0       0      33     0\n",
      "JovialSwallow                0       0       0      52     0\n",
      "LyricalHare                  0       0       0      24     0\n",
      "ReflectiveManatee            0       0       0      20     0\n",
      "SparklingTapir               0       0       0      22    47\n",
      "TranquilPanther              0       0       0      25     0\n",
      "UppityFerret                 0       0       0      21     0\n",
      "MABe22_keypoints             0       0       0       0  5320\n",
      "MABe22_movies                0       0       0       0  2606\n"
     ]
    }
   ],
   "source": [
    "from collections import defaultdict\n",
    "\n",
    "# names and number of labs that contains all four ids upto only single id\n",
    "\n",
    "id_info_dict = defaultdict(lambda: defaultdict(int))\n",
    "\n",
    "for lab_id, grp in train_metadata.groupby(\"lab_id\"):\n",
    "    for _, row in grp.iterrows():\n",
    "\n",
    "        count = sum(not pd.isna(row[col]) for col in id_cols)\n",
    "            \n",
    "        if count == 4:\n",
    "            id_info_dict[lab_id][\"all_four\"] += 1\n",
    "        elif count == 3:\n",
    "            id_info_dict[lab_id][\"triple\"] += 1\n",
    "        elif count == 2:\n",
    "            id_info_dict[lab_id][\"double\"] += 1\n",
    "        elif count == 1:\n",
    "            id_info_dict[lab_id][\"single\"] += 1\n",
    "        elif count == 0:\n",
    "            id_info_dict[lab_id][\"none\"] += 1\n",
    "            \n",
    "df = pd.DataFrame.from_dict(\n",
    "    {k: dict(v) for k, v in id_info_dict.items()}, \n",
    "    orient='index'\n",
    ").fillna(0).astype(int)\n",
    "\n",
    "print(df)"
   ]
  },
  {
   "cell_type": "code",
   "execution_count": 64,
   "id": "f7c0beca",
   "metadata": {},
   "outputs": [
    {
     "name": "stdout",
     "output_type": "stream",
     "text": [
      "                      unique_id_count\n",
      "AdaptableSnail                     37\n",
      "BoisterousParrot                    8\n",
      "CRIM13                              4\n",
      "CalMS21_supplemental               79\n",
      "CalMS21_task1                      32\n",
      "CalMS21_task2                      46\n",
      "CautiousGiraffe                     7\n",
      "DeliriousFly                        1\n",
      "ElegantMink                        38\n",
      "GroovyShrew                        16\n",
      "InvincibleJellyfish                33\n",
      "JovialSwallow                       9\n",
      "LyricalHare                        10\n",
      "MABe22_keypoints                    0\n",
      "MABe22_movies                       0\n",
      "NiftyGoldfinch                     22\n",
      "PleasantMeerkat                    16\n",
      "ReflectiveManatee                  11\n",
      "SparklingTapir                     18\n",
      "TranquilPanther                    12\n",
      "UppityFerret                       21\n",
      "Average unique IDs per lab: 20.00\n"
     ]
    }
   ],
   "source": [
    "from statistics import mean\n",
    "\n",
    "\n",
    "# unique id count by lab id cols exclusive\n",
    "\n",
    "unique_ids_by_lab = defaultdict(set)\n",
    "\n",
    "for lab_id, grp in train_metadata.groupby(\"lab_id\"):\n",
    "    for col in id_cols:\n",
    "        unique_ids_by_lab[lab_id].update(grp[col].dropna().unique())\n",
    "        \n",
    "\n",
    "unique_id_count_dict = {k: {'unique_id_count': len(v)} for k, v in unique_ids_by_lab.items()}\n",
    "\n",
    "# Create DataFrame\n",
    "df = pd.DataFrame.from_dict(unique_id_count_dict, orient='index')\n",
    "\n",
    "print(df)\n",
    "\n",
    "unique_counts = [len(v) for v in unique_ids_by_lab.values()]\n",
    "\n",
    "# Compute average\n",
    "avg_unique_ids = mean(unique_counts)\n",
    "\n",
    "print(f\"Average unique IDs per lab: {avg_unique_ids:.2f}\")\n"
   ]
  },
  {
   "cell_type": "code",
   "execution_count": null,
   "id": "07ae6d46",
   "metadata": {},
   "outputs": [],
   "source": []
  }
 ],
 "metadata": {
  "kernelspec": {
   "display_name": "Python 3",
   "language": "python",
   "name": "python3"
  },
  "language_info": {
   "codemirror_mode": {
    "name": "ipython",
    "version": 3
   },
   "file_extension": ".py",
   "mimetype": "text/x-python",
   "name": "python",
   "nbconvert_exporter": "python",
   "pygments_lexer": "ipython3",
   "version": "3.13.3"
  }
 },
 "nbformat": 4,
 "nbformat_minor": 5
}
