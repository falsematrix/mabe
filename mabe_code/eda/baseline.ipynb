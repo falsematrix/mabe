{
 "cells": [
  {
   "cell_type": "code",
   "execution_count": 2,
   "id": "89cfe9a2",
   "metadata": {},
   "outputs": [
    {
     "name": "stdout",
     "output_type": "stream",
     "text": [
      "/Users/arbaaz/Downloads/mabe/mabe_code\n"
     ]
    }
   ],
   "source": [
    "cd ../"
   ]
  },
  {
   "cell_type": "code",
   "execution_count": 4,
   "id": "cdf97ad4",
   "metadata": {},
   "outputs": [],
   "source": [
    "%load_ext autoreload\n",
    "%autoreload 2"
   ]
  },
  {
   "cell_type": "code",
   "execution_count": 5,
   "id": "56f86202",
   "metadata": {},
   "outputs": [
    {
     "data": {
      "text/plain": [
       "['sample_submission.csv',\n",
       " 'test.csv',\n",
       " 'test_tracking',\n",
       " 'train.csv',\n",
       " 'train_annotation',\n",
       " 'train_tracking']"
      ]
     },
     "execution_count": 5,
     "metadata": {},
     "output_type": "execute_result"
    }
   ],
   "source": [
    "import os\n",
    "from data_utils import (\n",
    "    get_index, \n",
    "    get_file_names,\n",
    "    get_paths,\n",
    "    get_csv,\n",
    "    get_parqt,\n",
    "    get_col_names, \n",
    "    sleep\n",
    ")\n",
    "\n",
    "\n",
    "path = \"/Users/arbaaz/Downloads/mabe/ds\"\n",
    "get_file_names(path)"
   ]
  },
  {
   "cell_type": "code",
   "execution_count": 121,
   "id": "eaa4a404",
   "metadata": {},
   "outputs": [
    {
     "data": {
      "text/html": [
       "<div>\n",
       "<style scoped>\n",
       "    .dataframe tbody tr th:only-of-type {\n",
       "        vertical-align: middle;\n",
       "    }\n",
       "\n",
       "    .dataframe tbody tr th {\n",
       "        vertical-align: top;\n",
       "    }\n",
       "\n",
       "    .dataframe thead th {\n",
       "        text-align: right;\n",
       "    }\n",
       "</style>\n",
       "<table border=\"1\" class=\"dataframe\">\n",
       "  <thead>\n",
       "    <tr style=\"text-align: right;\">\n",
       "      <th></th>\n",
       "      <th>lab_id</th>\n",
       "      <th>video_id</th>\n",
       "      <th>mouse1_strain</th>\n",
       "      <th>mouse1_color</th>\n",
       "      <th>mouse1_sex</th>\n",
       "      <th>mouse1_id</th>\n",
       "      <th>mouse1_age</th>\n",
       "      <th>mouse1_condition</th>\n",
       "      <th>mouse2_strain</th>\n",
       "      <th>mouse2_color</th>\n",
       "      <th>...</th>\n",
       "      <th>pix_per_cm_approx</th>\n",
       "      <th>video_width_pix</th>\n",
       "      <th>video_height_pix</th>\n",
       "      <th>arena_width_cm</th>\n",
       "      <th>arena_height_cm</th>\n",
       "      <th>arena_shape</th>\n",
       "      <th>arena_type</th>\n",
       "      <th>body_parts_tracked</th>\n",
       "      <th>behaviors_labeled</th>\n",
       "      <th>tracking_method</th>\n",
       "    </tr>\n",
       "  </thead>\n",
       "  <tbody>\n",
       "    <tr>\n",
       "      <th>0</th>\n",
       "      <td>AdaptableSnail</td>\n",
       "      <td>44566106</td>\n",
       "      <td>CD-1 (ICR)</td>\n",
       "      <td>white</td>\n",
       "      <td>male</td>\n",
       "      <td>10.0</td>\n",
       "      <td>8-12 weeks</td>\n",
       "      <td>wireless device</td>\n",
       "      <td>CD-1 (ICR)</td>\n",
       "      <td>white</td>\n",
       "      <td>...</td>\n",
       "      <td>16.0</td>\n",
       "      <td>1228</td>\n",
       "      <td>1068</td>\n",
       "      <td>60.0</td>\n",
       "      <td>60.0</td>\n",
       "      <td>square</td>\n",
       "      <td>familiar</td>\n",
       "      <td>[\"body_center\", \"ear_left\", \"ear_right\", \"head...</td>\n",
       "      <td>[\"mouse1,mouse2,approach\", \"mouse1,mouse2,atta...</td>\n",
       "      <td>DeepLabCut</td>\n",
       "    </tr>\n",
       "    <tr>\n",
       "      <th>1</th>\n",
       "      <td>AdaptableSnail</td>\n",
       "      <td>143861384</td>\n",
       "      <td>CD-1 (ICR)</td>\n",
       "      <td>white</td>\n",
       "      <td>male</td>\n",
       "      <td>3.0</td>\n",
       "      <td>8-12 weeks</td>\n",
       "      <td>NaN</td>\n",
       "      <td>CD-1 (ICR)</td>\n",
       "      <td>white</td>\n",
       "      <td>...</td>\n",
       "      <td>9.7</td>\n",
       "      <td>968</td>\n",
       "      <td>608</td>\n",
       "      <td>60.0</td>\n",
       "      <td>60.0</td>\n",
       "      <td>square</td>\n",
       "      <td>familiar</td>\n",
       "      <td>[\"body_center\", \"ear_left\", \"ear_right\", \"late...</td>\n",
       "      <td>[\"mouse1,mouse2,approach\", \"mouse1,mouse2,atta...</td>\n",
       "      <td>DeepLabCut</td>\n",
       "    </tr>\n",
       "    <tr>\n",
       "      <th>2</th>\n",
       "      <td>AdaptableSnail</td>\n",
       "      <td>209576908</td>\n",
       "      <td>CD-1 (ICR)</td>\n",
       "      <td>white</td>\n",
       "      <td>male</td>\n",
       "      <td>7.0</td>\n",
       "      <td>8-12 weeks</td>\n",
       "      <td>NaN</td>\n",
       "      <td>CD-1 (ICR)</td>\n",
       "      <td>white</td>\n",
       "      <td>...</td>\n",
       "      <td>16.0</td>\n",
       "      <td>1266</td>\n",
       "      <td>1100</td>\n",
       "      <td>60.0</td>\n",
       "      <td>60.0</td>\n",
       "      <td>square</td>\n",
       "      <td>familiar</td>\n",
       "      <td>[\"body_center\", \"ear_left\", \"ear_right\", \"late...</td>\n",
       "      <td>[\"mouse1,mouse2,approach\", \"mouse1,mouse2,atta...</td>\n",
       "      <td>DeepLabCut</td>\n",
       "    </tr>\n",
       "    <tr>\n",
       "      <th>3</th>\n",
       "      <td>AdaptableSnail</td>\n",
       "      <td>278643799</td>\n",
       "      <td>CD-1 (ICR)</td>\n",
       "      <td>white</td>\n",
       "      <td>male</td>\n",
       "      <td>11.0</td>\n",
       "      <td>8-12 weeks</td>\n",
       "      <td>wireless device</td>\n",
       "      <td>CD-1 (ICR)</td>\n",
       "      <td>white</td>\n",
       "      <td>...</td>\n",
       "      <td>16.0</td>\n",
       "      <td>1224</td>\n",
       "      <td>1100</td>\n",
       "      <td>60.0</td>\n",
       "      <td>60.0</td>\n",
       "      <td>square</td>\n",
       "      <td>familiar</td>\n",
       "      <td>[\"body_center\", \"ear_left\", \"ear_right\", \"head...</td>\n",
       "      <td>[\"mouse1,mouse2,approach\", \"mouse1,mouse2,atta...</td>\n",
       "      <td>DeepLabCut</td>\n",
       "    </tr>\n",
       "    <tr>\n",
       "      <th>4</th>\n",
       "      <td>AdaptableSnail</td>\n",
       "      <td>351967631</td>\n",
       "      <td>CD-1 (ICR)</td>\n",
       "      <td>white</td>\n",
       "      <td>male</td>\n",
       "      <td>14.0</td>\n",
       "      <td>8-12 weeks</td>\n",
       "      <td>NaN</td>\n",
       "      <td>CD-1 (ICR)</td>\n",
       "      <td>white</td>\n",
       "      <td>...</td>\n",
       "      <td>16.0</td>\n",
       "      <td>1204</td>\n",
       "      <td>1068</td>\n",
       "      <td>60.0</td>\n",
       "      <td>60.0</td>\n",
       "      <td>square</td>\n",
       "      <td>familiar</td>\n",
       "      <td>[\"body_center\", \"ear_left\", \"ear_right\", \"late...</td>\n",
       "      <td>[\"mouse1,mouse2,approach\", \"mouse1,mouse2,atta...</td>\n",
       "      <td>DeepLabCut</td>\n",
       "    </tr>\n",
       "  </tbody>\n",
       "</table>\n",
       "<p>5 rows × 38 columns</p>\n",
       "</div>"
      ],
      "text/plain": [
       "           lab_id   video_id mouse1_strain mouse1_color mouse1_sex  mouse1_id  \\\n",
       "0  AdaptableSnail   44566106    CD-1 (ICR)        white       male       10.0   \n",
       "1  AdaptableSnail  143861384    CD-1 (ICR)        white       male        3.0   \n",
       "2  AdaptableSnail  209576908    CD-1 (ICR)        white       male        7.0   \n",
       "3  AdaptableSnail  278643799    CD-1 (ICR)        white       male       11.0   \n",
       "4  AdaptableSnail  351967631    CD-1 (ICR)        white       male       14.0   \n",
       "\n",
       "   mouse1_age mouse1_condition mouse2_strain mouse2_color  ...  \\\n",
       "0  8-12 weeks  wireless device    CD-1 (ICR)        white  ...   \n",
       "1  8-12 weeks              NaN    CD-1 (ICR)        white  ...   \n",
       "2  8-12 weeks              NaN    CD-1 (ICR)        white  ...   \n",
       "3  8-12 weeks  wireless device    CD-1 (ICR)        white  ...   \n",
       "4  8-12 weeks              NaN    CD-1 (ICR)        white  ...   \n",
       "\n",
       "  pix_per_cm_approx  video_width_pix video_height_pix arena_width_cm  \\\n",
       "0              16.0             1228             1068           60.0   \n",
       "1               9.7              968              608           60.0   \n",
       "2              16.0             1266             1100           60.0   \n",
       "3              16.0             1224             1100           60.0   \n",
       "4              16.0             1204             1068           60.0   \n",
       "\n",
       "  arena_height_cm arena_shape arena_type  \\\n",
       "0            60.0      square   familiar   \n",
       "1            60.0      square   familiar   \n",
       "2            60.0      square   familiar   \n",
       "3            60.0      square   familiar   \n",
       "4            60.0      square   familiar   \n",
       "\n",
       "                                  body_parts_tracked  \\\n",
       "0  [\"body_center\", \"ear_left\", \"ear_right\", \"head...   \n",
       "1  [\"body_center\", \"ear_left\", \"ear_right\", \"late...   \n",
       "2  [\"body_center\", \"ear_left\", \"ear_right\", \"late...   \n",
       "3  [\"body_center\", \"ear_left\", \"ear_right\", \"head...   \n",
       "4  [\"body_center\", \"ear_left\", \"ear_right\", \"late...   \n",
       "\n",
       "                                   behaviors_labeled tracking_method  \n",
       "0  [\"mouse1,mouse2,approach\", \"mouse1,mouse2,atta...      DeepLabCut  \n",
       "1  [\"mouse1,mouse2,approach\", \"mouse1,mouse2,atta...      DeepLabCut  \n",
       "2  [\"mouse1,mouse2,approach\", \"mouse1,mouse2,atta...      DeepLabCut  \n",
       "3  [\"mouse1,mouse2,approach\", \"mouse1,mouse2,atta...      DeepLabCut  \n",
       "4  [\"mouse1,mouse2,approach\", \"mouse1,mouse2,atta...      DeepLabCut  \n",
       "\n",
       "[5 rows x 38 columns]"
      ]
     },
     "execution_count": 121,
     "metadata": {},
     "output_type": "execute_result"
    }
   ],
   "source": [
    "train_metadata = get_csv(\"/Users/arbaaz/Downloads/mabe/ds/train.csv\")\n",
    "train_metadata.head()"
   ]
  },
  {
   "cell_type": "code",
   "execution_count": 4,
   "id": "9e32a701",
   "metadata": {},
   "outputs": [
    {
     "data": {
      "text/plain": [
       "['AdaptableSnail',\n",
       " 'BoisterousParrot',\n",
       " 'CRIM13',\n",
       " 'CalMS21_supplemental',\n",
       " 'CalMS21_task1',\n",
       " 'CalMS21_task2',\n",
       " 'CautiousGiraffe',\n",
       " 'DeliriousFly',\n",
       " 'ElegantMink',\n",
       " 'GroovyShrew',\n",
       " 'InvincibleJellyfish',\n",
       " 'JovialSwallow',\n",
       " 'LyricalHare',\n",
       " 'MABe22_keypoints',\n",
       " 'MABe22_movies',\n",
       " 'NiftyGoldfinch',\n",
       " 'PleasantMeerkat',\n",
       " 'ReflectiveManatee',\n",
       " 'SparklingTapir',\n",
       " 'TranquilPanther',\n",
       " 'UppityFerret']"
      ]
     },
     "execution_count": 4,
     "metadata": {},
     "output_type": "execute_result"
    }
   ],
   "source": [
    "train_metadata[\"lab_id\"].unique().tolist()"
   ]
  },
  {
   "cell_type": "code",
   "execution_count": 5,
   "id": "4e8ccb04",
   "metadata": {},
   "outputs": [
    {
     "name": "stdout",
     "output_type": "stream",
     "text": [
      "['CD-1 (ICR)' 'C57Bl/6N' 'C57Bl/6J' '129/SvEvTac' 'C57Bl/6J x Ai148'\n",
      " 'BTBR' 'CD1' 'CFW']\n",
      "\n",
      "['CD-1 (ICR)' 'C57Bl/6N' 'BALB/c' 'C57Bl/6J' '129/SvEvTac' 'CFW' 'BTBR'\n",
      " 'CD1']\n",
      "\n",
      "['CD-1 (ICR)' nan 'BTBR' 'C57Bl/6J']\n",
      "\n",
      "['CD-1 (ICR)' nan]\n",
      "\n"
     ]
    }
   ],
   "source": [
    "cols = [\"mouse1_strain\", \"mouse2_strain\", \"mouse3_strain\", \"mouse4_strain\"]\n",
    "for col in cols:\n",
    "    print(train_metadata[col].unique())\n",
    "    print()"
   ]
  },
  {
   "cell_type": "code",
   "execution_count": 6,
   "id": "21bd5dfc",
   "metadata": {},
   "outputs": [
    {
     "name": "stdout",
     "output_type": "stream",
     "text": [
      "mouse1_color\n",
      "black            5418\n",
      "black and tan    3262\n",
      "white             103\n",
      "brown               7\n",
      "Name: count, dtype: int64\n",
      "\n",
      "mouse2_color\n",
      "black            4832\n",
      "black and tan    3262\n",
      "white             692\n",
      "brown               4\n",
      "Name: count, dtype: int64\n",
      "\n",
      "mouse3_color\n",
      "black            4664\n",
      "black and tan    3262\n",
      "white              17\n",
      "Name: count, dtype: int64\n",
      "\n",
      "mouse4_color\n",
      "white    10\n",
      "Name: count, dtype: int64\n",
      "\n"
     ]
    }
   ],
   "source": [
    "cols = get_col_names(\"_color\")\n",
    "\n",
    "for col in cols:\n",
    "    #print(train_metadata[col].unique())\n",
    "    print(train_metadata[col].value_counts())\n",
    "    print()"
   ]
  },
  {
   "cell_type": "code",
   "execution_count": 7,
   "id": "99e4be64",
   "metadata": {},
   "outputs": [
    {
     "name": "stdout",
     "output_type": "stream",
     "text": [
      "mouse1_sex\n",
      "male      8729\n",
      "female      50\n",
      "Name: count, dtype: int64\n",
      "\n",
      "mouse2_sex\n",
      "male      8423\n",
      "female     319\n",
      "Name: count, dtype: int64\n",
      "\n",
      "mouse3_sex\n",
      "male    7943\n",
      "Name: count, dtype: int64\n",
      "\n",
      "mouse4_sex\n",
      "male    10\n",
      "Name: count, dtype: int64\n",
      "\n"
     ]
    }
   ],
   "source": [
    "cols = get_col_names(\"_sex\")\n",
    "\n",
    "for col in cols:\n",
    "    print(train_metadata[col].value_counts())\n",
    "    print()"
   ]
  },
  {
   "cell_type": "code",
   "execution_count": 8,
   "id": "52cf68b6",
   "metadata": {},
   "outputs": [
    {
     "name": "stdout",
     "output_type": "stream",
     "text": [
      "mouse1_id\n",
      "6.0     48\n",
      "4.0     44\n",
      "5.0     40\n",
      "3.0     35\n",
      "9.0     31\n",
      "        ..\n",
      "80.0     2\n",
      "62.0     2\n",
      "77.0     2\n",
      "76.0     2\n",
      "79.0     2\n",
      "Name: count, Length: 80, dtype: int64\n",
      "\n",
      "[10.  3.  7. 11. 14. 12.  6.  5.  1.  4.  2. 55. 72. 42. 60. 19. 36. 74.\n",
      " 70. 65. 59. 68. 75. 40. 49. 67. 69. 73. 37. 32. 76. 29. 54. 56. 39. 58.\n",
      " 62. 46. 18. 35. 34. 52. 28. 20. 38. 63. 53. 80. 30. 13. 23. 66.  9. 77.\n",
      " 71. 25. 47. 27. 22. 31. 79. 48. 61.  8. 33. 41. 17. 43. 51. 64. 50. 45.\n",
      " 15. 44. 26. 57. 21. 24. 78. 16. nan]\n",
      "\n",
      "mouse2_id\n",
      "12.0    9\n",
      "16.0    8\n",
      "20.0    8\n",
      "17.0    7\n",
      "18.0    7\n",
      "15.0    6\n",
      "8.0     4\n",
      "10.0    4\n",
      "28.0    4\n",
      "2.0     3\n",
      "14.0    3\n",
      "24.0    3\n",
      "13.0    3\n",
      "19.0    3\n",
      "26.0    3\n",
      "4.0     2\n",
      "21.0    2\n",
      "44.0    2\n",
      "25.0    2\n",
      "5.0     2\n",
      "42.0    2\n",
      "40.0    2\n",
      "50.0    2\n",
      "6.0     2\n",
      "53.0    1\n",
      "35.0    1\n",
      "38.0    1\n",
      "47.0    1\n",
      "33.0    1\n",
      "31.0    1\n",
      "7.0     1\n",
      "1.0     1\n",
      "3.0     1\n",
      "9.0     1\n",
      "22.0    1\n",
      "48.0    1\n",
      "30.0    1\n",
      "36.0    1\n",
      "32.0    1\n",
      "Name: count, dtype: int64\n",
      "\n",
      "[24. 17. 21. 25. 28. 26. 20. 19. 15. 18. 12.  9.  7. 10. nan 50. 36. 14.\n",
      " 40. 30.  8.  4. 42. 48.  2. 22. 32. 44. 16.  3.  6.  1.  5. 31. 47. 38.\n",
      " 35. 53. 33. 13.]\n",
      "\n",
      "mouse3_id\n",
      "29.0    3\n",
      "38.0    2\n",
      "35.0    2\n",
      "39.0    2\n",
      "42.0    2\n",
      "40.0    2\n",
      "31.0    1\n",
      "34.0    1\n",
      "33.0    1\n",
      "32.0    1\n",
      "Name: count, dtype: int64\n",
      "\n",
      "[38. 31. 35. 39. 42. 40. 34. 33. 29. 32. nan]\n",
      "\n",
      "mouse4_id\n",
      "51.0    2\n",
      "48.0    2\n",
      "52.0    2\n",
      "44.0    1\n",
      "47.0    1\n",
      "46.0    1\n",
      "45.0    1\n",
      "Name: count, dtype: int64\n",
      "\n",
      "[51. 44. 48. nan 52. 47. 46. 45.]\n",
      "\n"
     ]
    }
   ],
   "source": [
    "cols = get_col_names(\"_id\")\n",
    "\n",
    "for c in cols:\n",
    "    print(train_metadata[c].value_counts())\n",
    "    print()\n",
    "    print(train_metadata[c].unique())\n",
    "    print()"
   ]
  },
  {
   "cell_type": "code",
   "execution_count": 9,
   "id": "5103a879",
   "metadata": {},
   "outputs": [
    {
     "name": "stdout",
     "output_type": "stream",
     "text": [
      "mouse1_age\n",
      "10-20 weeks    7926\n",
      "> 40 weeks       53\n",
      "17-21 weeks      52\n",
      "8-12 weeks       50\n",
      "8-26 weeks       24\n",
      "8 weeks          21\n",
      "7-14 weeks        8\n",
      "12 weeks          6\n",
      "Name: count, dtype: int64\n",
      "\n",
      "mouse2_age\n",
      "10-20 weeks    7926\n",
      "6-12 weeks       53\n",
      "8-13 weeks       52\n",
      "8-12 weeks       50\n",
      "8-57 weeks       24\n",
      "4-6 weeks        21\n",
      "7-14 weeks        8\n",
      "12 weeks          6\n",
      "Name: count, dtype: int64\n",
      "\n",
      "mouse3_age\n",
      "10-20 weeks    7926\n",
      "8-12 weeks       17\n",
      "Name: count, dtype: int64\n",
      "\n",
      "mouse4_age\n",
      "8-12 weeks    11\n",
      "Name: count, dtype: int64\n",
      "\n"
     ]
    }
   ],
   "source": [
    "for c in get_col_names(\"_age\"):\n",
    "    print(train_metadata[c].value_counts())\n",
    "    print()"
   ]
  },
  {
   "cell_type": "code",
   "execution_count": 10,
   "id": "02b88ea6",
   "metadata": {},
   "outputs": [
    {
     "name": "stdout",
     "output_type": "stream",
     "text": [
      "mouse1_condition\n",
      "cabled device                122\n",
      "cable                         92\n",
      "estrus                        25\n",
      "wireless device               20\n",
      "day 2- 23:00 (lights off)     19\n",
      "                            ... \n",
      "day 2- 22:04 (lights off)      1\n",
      "day 2- 05:49 (lights off)      1\n",
      "day 4- 01:51 (lights off)      1\n",
      "day 4- 03:50 (lights off)      1\n",
      "day 0- 09:40 (lights on)       1\n",
      "Name: count, Length: 3752, dtype: int64\n",
      "\n",
      "mouse2_condition\n",
      "wireless device              20\n",
      "day 2- 23:00 (lights off)    19\n",
      "hormone primed               15\n",
      "cabled device                15\n",
      "day 4- 00:00 (lights off)    15\n",
      "                             ..\n",
      "day 0- 09:19 (lights on)      1\n",
      "day 3- 17:27 (lights on)      1\n",
      "day 2- 01:53 (lights off)     1\n",
      "day 0- 20:15 (lights off)     1\n",
      "day 2- 03:21 (lights off)     1\n",
      "Name: count, Length: 3748, dtype: int64\n",
      "\n",
      "mouse3_condition\n",
      "day 2- 23:00 (lights off)    19\n",
      "day 4- 00:00 (lights off)    15\n",
      "day 2- 03:00 (lights off)    14\n",
      "day 4- 03:00 (lights off)    14\n",
      "day 1- 05:00 (lights off)    14\n",
      "                             ..\n",
      "day 0- 09:19 (lights on)      1\n",
      "day 3- 17:27 (lights on)      1\n",
      "day 2- 01:53 (lights off)     1\n",
      "day 0- 20:15 (lights off)     1\n",
      "day 2- 03:21 (lights off)     1\n",
      "Name: count, Length: 3743, dtype: int64\n",
      "\n",
      "mouse4_condition\n",
      "wireless device    3\n",
      "Name: count, dtype: int64\n",
      "\n"
     ]
    }
   ],
   "source": [
    "for c in get_col_names(\"_condition\"):\n",
    "    print(train_metadata[c].value_counts())\n",
    "    print()"
   ]
  },
  {
   "cell_type": "code",
   "execution_count": 11,
   "id": "0628d14b",
   "metadata": {},
   "outputs": [
    {
     "data": {
      "text/plain": [
       "frames_per_second\n",
       "30.00     8548\n",
       "25.00       57\n",
       "10.00       52\n",
       "120.00      36\n",
       "45.00       36\n",
       "60.00       18\n",
       "50.00       17\n",
       "24.99       14\n",
       "60.01        5\n",
       "24.98        3\n",
       "120.02       2\n",
       "24.62        1\n",
       "24.36        1\n",
       "Name: count, dtype: int64"
      ]
     },
     "execution_count": 11,
     "metadata": {},
     "output_type": "execute_result"
    }
   ],
   "source": [
    "train_metadata[\"frames_per_second\"].value_counts()"
   ]
  },
  {
   "cell_type": "code",
   "execution_count": 12,
   "id": "e27f42a7",
   "metadata": {},
   "outputs": [
    {
     "data": {
      "text/plain": [
       "(30.40601478953356, 6.441435088939598)"
      ]
     },
     "execution_count": 12,
     "metadata": {},
     "output_type": "execute_result"
    }
   ],
   "source": [
    "train_metadata[\"frames_per_second\"].mean(), train_metadata[\"frames_per_second\"].std()"
   ]
  },
  {
   "cell_type": "code",
   "execution_count": 13,
   "id": "e64362f3",
   "metadata": {},
   "outputs": [
    {
     "data": {
      "text/plain": [
       "video_duration_sec\n",
       "60.0     7927\n",
       "600.0      59\n",
       "900.0      53\n",
       "600.1      18\n",
       "600.2      13\n",
       "         ... \n",
       "235.1       1\n",
       "909.8       1\n",
       "591.5       1\n",
       "330.8       1\n",
       "600.3       1\n",
       "Name: count, Length: 635, dtype: int64"
      ]
     },
     "execution_count": 13,
     "metadata": {},
     "output_type": "execute_result"
    }
   ],
   "source": [
    "train_metadata[\"video_duration_sec\"].value_counts()"
   ]
  },
  {
   "cell_type": "code",
   "execution_count": 14,
   "id": "74717464",
   "metadata": {},
   "outputs": [
    {
     "data": {
      "text/plain": [
       "(134.67042093287827, 637.0911103356581)"
      ]
     },
     "execution_count": 14,
     "metadata": {},
     "output_type": "execute_result"
    }
   ],
   "source": [
    "train_metadata[\"video_duration_sec\"].mean(), train_metadata[\"video_duration_sec\"].std()"
   ]
  },
  {
   "cell_type": "code",
   "execution_count": 15,
   "id": "99328bcf",
   "metadata": {},
   "outputs": [
    {
     "data": {
      "text/plain": [
       "pix_per_cm_approx\n",
       "11.70    7927\n",
       "18.33     474\n",
       "15.30      52\n",
       "32.00      44\n",
       "15.80      36\n",
       "         ... \n",
       "19.00       1\n",
       "49.00       1\n",
       "58.00       1\n",
       "63.00       1\n",
       "56.00       1\n",
       "Name: count, Length: 62, dtype: int64"
      ]
     },
     "execution_count": 15,
     "metadata": {},
     "output_type": "execute_result"
    }
   ],
   "source": [
    "train_metadata[\"pix_per_cm_approx\"].value_counts()"
   ]
  },
  {
   "cell_type": "code",
   "execution_count": 16,
   "id": "e84e72d1",
   "metadata": {},
   "outputs": [
    {
     "data": {
      "text/plain": [
       "(12.43936518771331, 3.42677313048401)"
      ]
     },
     "execution_count": 16,
     "metadata": {},
     "output_type": "execute_result"
    }
   ],
   "source": [
    "train_metadata[\"pix_per_cm_approx\"].mean(), train_metadata[\"pix_per_cm_approx\"].std()"
   ]
  },
  {
   "cell_type": "code",
   "execution_count": 17,
   "id": "68e3b894",
   "metadata": {},
   "outputs": [
    {
     "data": {
      "text/plain": [
       "video_width_pix\n",
       "800     7926\n",
       "1024     491\n",
       "400       53\n",
       "640       42\n",
       "560       24\n",
       "        ... \n",
       "404        1\n",
       "545        1\n",
       "406        1\n",
       "408        1\n",
       "734        1\n",
       "Name: count, Length: 70, dtype: int64"
      ]
     },
     "execution_count": 17,
     "metadata": {},
     "output_type": "execute_result"
    }
   ],
   "source": [
    "train_metadata[\"video_width_pix\"].value_counts()"
   ]
  },
  {
   "cell_type": "code",
   "execution_count": 18,
   "id": "bc9df8bb",
   "metadata": {},
   "outputs": [
    {
     "data": {
      "text/plain": [
       "(813.6845278725825, 109.44153074240984)"
      ]
     },
     "execution_count": 18,
     "metadata": {},
     "output_type": "execute_result"
    }
   ],
   "source": [
    "train_metadata[\"video_width_pix\"].mean(), train_metadata[\"video_width_pix\"].std()"
   ]
  },
  {
   "cell_type": "code",
   "execution_count": 19,
   "id": "91711050",
   "metadata": {},
   "outputs": [
    {
     "name": "stdout",
     "output_type": "stream",
     "text": [
      "video_height_pix\n",
      "800     7926\n",
      "570      474\n",
      "480      112\n",
      "680       24\n",
      "492       20\n",
      "        ... \n",
      "309        1\n",
      "1226       1\n",
      "310        1\n",
      "2014       1\n",
      "301        1\n",
      "Name: count, Length: 67, dtype: int64\n",
      "\n"
     ]
    },
    {
     "data": {
      "text/plain": [
       "(790.4981797497156, 134.40335677808915)"
      ]
     },
     "execution_count": 19,
     "metadata": {},
     "output_type": "execute_result"
    }
   ],
   "source": [
    "col = \"video_height_pix\"\n",
    "\n",
    "print(train_metadata[col].value_counts())\n",
    "print()\n",
    "train_metadata[col].mean(), train_metadata[col].std()"
   ]
  },
  {
   "cell_type": "code",
   "execution_count": 20,
   "id": "90ed3bda",
   "metadata": {},
   "outputs": [
    {
     "name": "stdout",
     "output_type": "stream",
     "text": [
      "arena_width_cm\n",
      "52.0     7926\n",
      "35.0      540\n",
      "19.0       53\n",
      "15.0       52\n",
      "33.0       47\n",
      "120.0      36\n",
      "28.0       33\n",
      "38.0       27\n",
      "30.8       24\n",
      "60.0       17\n",
      "12.7       11\n",
      "50.0       10\n",
      "45.0        8\n",
      "45.7        6\n",
      "Name: count, dtype: int64\n",
      "\n"
     ]
    },
    {
     "data": {
      "text/plain": [
       "(50.47703071672355, 7.5563815627102)"
      ]
     },
     "execution_count": 20,
     "metadata": {},
     "output_type": "execute_result"
    }
   ],
   "source": [
    "col = \"arena_width_cm\"\n",
    "\n",
    "print(train_metadata[col].value_counts())\n",
    "print()\n",
    "train_metadata[col].mean(), train_metadata[col].std()"
   ]
  },
  {
   "cell_type": "code",
   "execution_count": 21,
   "id": "ce8cb395",
   "metadata": {},
   "outputs": [
    {
     "name": "stdout",
     "output_type": "stream",
     "text": [
      "arena_height_cm\n",
      "52.0     7926\n",
      "15.0      495\n",
      "28.5       53\n",
      "35.0       52\n",
      "20.0       45\n",
      "120.0      36\n",
      "18.0       33\n",
      "19.0       28\n",
      "22.2       24\n",
      "38.0       21\n",
      "60.0       17\n",
      "22.0       11\n",
      "46.0       11\n",
      "50.0       10\n",
      "45.0        8\n",
      "16.0        8\n",
      "18.5        6\n",
      "12.0        6\n",
      "Name: count, dtype: int64\n",
      "\n"
     ]
    },
    {
     "data": {
      "text/plain": [
       "(49.32005688282138, 10.687761717836116)"
      ]
     },
     "execution_count": 21,
     "metadata": {},
     "output_type": "execute_result"
    }
   ],
   "source": [
    "col = \"arena_height_cm\"\n",
    "\n",
    "print(train_metadata[col].value_counts())\n",
    "print()\n",
    "train_metadata[col].mean(), train_metadata[col].std()"
   ]
  },
  {
   "cell_type": "code",
   "execution_count": 22,
   "id": "97ad8f66",
   "metadata": {},
   "outputs": [
    {
     "name": "stdout",
     "output_type": "stream",
     "text": [
      "arena_shape\n",
      "square               7961\n",
      "rectangular           772\n",
      "split rectangluar      36\n",
      "circular               21\n",
      "Name: count, dtype: int64\n"
     ]
    }
   ],
   "source": [
    "col = \"arena_shape\"\n",
    "print(train_metadata[col].value_counts())"
   ]
  },
  {
   "cell_type": "code",
   "execution_count": 23,
   "id": "fff87cd1",
   "metadata": {},
   "outputs": [
    {
     "name": "stdout",
     "output_type": "stream",
     "text": [
      "arena_type\n",
      "neutral                8017\n",
      "resident-intruder       692\n",
      "divided territories      36\n",
      "familiar                 17\n",
      "CSDS                     17\n",
      "Name: count, dtype: int64\n"
     ]
    }
   ],
   "source": [
    "col = \"arena_type\"\n",
    "print(train_metadata[col].value_counts())"
   ]
  },
  {
   "cell_type": "code",
   "execution_count": 24,
   "id": "608e8c23",
   "metadata": {},
   "outputs": [
    {
     "name": "stdout",
     "output_type": "stream",
     "text": [
      "body_parts_tracked\n",
      "[\"body_center\", \"ear_left\", \"ear_right\", \"forepaw_left\", \"forepaw_right\", \"hindpaw_left\", \"hindpaw_right\", \"neck\", \"nose\", \"tail_base\", \"tail_midpoint\", \"tail_tip\"]                                                                                                                                                                                               7926\n",
      "[\"ear_left\", \"ear_right\", \"hip_left\", \"hip_right\", \"neck\", \"nose\", \"tail_base\"]                                                                                                                                                                                                                                                                                     634\n",
      "[\"body_center\", \"ear_left\", \"ear_right\", \"lateral_left\", \"lateral_right\", \"nose\", \"tail_base\"]                                                                                                                                                                                                                                                                       90\n",
      "[\"body_center\", \"ear_left\", \"ear_right\", \"lateral_left\", \"lateral_right\", \"nose\", \"tail_base\", \"tail_tip\"]                                                                                                                                                                                                                                                           42\n",
      "[\"ear_left\", \"ear_right\", \"nose\", \"tail_base\", \"tail_tip\"]                                                                                                                                                                                                                                                                                                           24\n",
      "[\"body_center\", \"ear_left\", \"ear_right\", \"hip_left\", \"hip_right\", \"lateral_left\", \"lateral_right\", \"nose\", \"spine_1\", \"spine_2\", \"tail_base\", \"tail_middle_1\", \"tail_middle_2\", \"tail_tip\"]                                                                                                                                                                          21\n",
      "[\"body_center\", \"ear_left\", \"ear_right\", \"nose\", \"tail_base\"]                                                                                                                                                                                                                                                                                                        19\n",
      "[\"ear_left\", \"ear_right\", \"head\", \"tail_base\"]                                                                                                                                                                                                                                                                                                                       17\n",
      "[\"body_center\", \"ear_left\", \"ear_right\", \"lateral_left\", \"lateral_right\", \"neck\", \"nose\", \"tail_base\", \"tail_midpoint\", \"tail_tip\"]                                                                                                                                                                                                                                  10\n",
      "[\"body_center\", \"ear_left\", \"ear_right\", \"headpiece_bottombackleft\", \"headpiece_bottombackright\", \"headpiece_bottomfrontleft\", \"headpiece_bottomfrontright\", \"headpiece_topbackleft\", \"headpiece_topbackright\", \"headpiece_topfrontleft\", \"headpiece_topfrontright\", \"lateral_left\", \"lateral_right\", \"neck\", \"nose\", \"tail_base\", \"tail_midpoint\", \"tail_tip\"]       7\n",
      "Name: count, dtype: int64\n"
     ]
    }
   ],
   "source": [
    "col = \"body_parts_tracked\"\n",
    "print(train_metadata[col].value_counts())"
   ]
  },
  {
   "cell_type": "code",
   "execution_count": 25,
   "id": "dfd5235e",
   "metadata": {},
   "outputs": [
    {
     "name": "stdout",
     "output_type": "stream",
     "text": [
      "behaviors_labeled\n",
      "[\"mouse1,mouse2,attack\", \"mouse1,mouse2,mount\", \"mouse1,mouse2,sniff\"]                                                                                                                                                                        80\n",
      "[\"mouse1,mouse2,sniff\", \"mouse1,mouse2,sniffgenital\"]                                                                                                                                                                                         74\n",
      "[\"mouse1,mouse2,attack\", \"mouse1,mouse2,chase\", \"mouse1,mouse2,sniff\"]                                                                                                                                                                        52\n",
      "[\"mouse1,mouse2,mount\", \"mouse1,mouse2,sniff\", \"mouse1,mouse2,sniffgenital\"]                                                                                                                                                                  36\n",
      "[\"mouse1,mouse2,allogroom\", \"mouse1,mouse2,attack\", \"mouse1,mouse2,dominancegroom\", \"mouse1,mouse2,escape\", \"mouse1,mouse2,sniff\", \"mouse1,mouse2,sniffgenital\", \"mouse1,self,dig\", \"mouse1,self,selfgroom\", \"mouse2,mouse1,sniffgenital\"]    33\n",
      "                                                                                                                                                                                                                                              ..\n",
      "[\"mouse1,mouse2,allogroom\", \"mouse1,mouse2,ejaculate\", \"mouse1,mouse2,intromit\", \"mouse1,mouse2,mount\", \"mouse1,mouse2,sniff\", \"mouse1,mouse2,sniffgenital\", \"mouse2,self,rear\", \"mouse2,self,selfgroom\"]                                      1\n",
      "[\"mouse1,mouse2,allogroom\", \"mouse1,mouse2,intromit\", \"mouse1,mouse2,mount\", \"mouse1,mouse2,sniff\", \"mouse1,mouse2,sniffgenital\", \"mouse2,self,rear\"]                                                                                          1\n",
      "[\"mouse1,mouse2,mount\", \"mouse1,mouse2,sniff\", \"mouse1,mouse2,sniffface\", \"mouse1,mouse2,sniffgenital\"]                                                                                                                                        1\n",
      "[\"mouse2,mouse1,defend\", \"mouse2,self,freeze\"]                                                                                                                                                                                                 1\n",
      "[\"mouse1,mouse2,allogroom\", \"mouse1,mouse2,ejaculate\", \"mouse1,mouse2,intromit\", \"mouse1,mouse2,mount\", \"mouse1,mouse2,sniff\", \"mouse1,mouse2,sniffgenital\", \"mouse2,self,rear\"]                                                               1\n",
      "Name: count, Length: 118, dtype: int64\n"
     ]
    }
   ],
   "source": [
    "col = \"behaviors_labeled\"\n",
    "print(train_metadata[col].value_counts())"
   ]
  },
  {
   "cell_type": "code",
   "execution_count": 26,
   "id": "de94f145",
   "metadata": {},
   "outputs": [
    {
     "name": "stdout",
     "output_type": "stream",
     "text": [
      "['[\"mouse1,mouse2,approach\", \"mouse1,mouse2,attack\", \"mouse1,mouse2,avoid\", \"mouse1,mouse2,chase\", \"mouse1,mouse2,chaseattack\", \"mouse1,mouse2,submit\", \"mouse1,mouse3,approach\", \"mouse1,mouse3,attack\", \"mouse1,mouse3,avoid\", \"mouse1,mouse3,chase\", \"mouse1,mouse3,chaseattack\", \"mouse1,mouse3,submit\", \"mouse1,mouse4,approach\", \"mouse1,mouse4,attack\", \"mouse1,mouse4,avoid\", \"mouse1,mouse4,chase\", \"mouse1,mouse4,chaseattack\", \"mouse1,mouse4,submit\", \"mouse1,self,rear\", \"mouse2,mouse1,approach\", \"mouse2,mouse1,attack\", \"mouse2,mouse1,avoid\", \"mouse2,mouse1,chase\", \"mouse2,mouse1,chaseattack\", \"mouse2,mouse1,submit\", \"mouse2,mouse3,approach\", \"mouse2,mouse3,attack\", \"mouse2,mouse3,avoid\", \"mouse2,mouse3,chase\", \"mouse2,mouse3,chaseattack\", \"mouse2,mouse3,submit\", \"mouse2,mouse4,approach\", \"mouse2,mouse4,attack\", \"mouse2,mouse4,avoid\", \"mouse2,mouse4,chase\", \"mouse2,mouse4,chaseattack\", \"mouse2,mouse4,submit\", \"mouse2,self,rear\", \"mouse3,mouse1,approach\", \"mouse3,mouse1,attack\", \"mouse3,mouse1,avoid\", \"mouse3,mouse1,chase\", \"mouse3,mouse1,chaseattack\", \"mouse3,mouse1,submit\", \"mouse3,mouse2,approach\", \"mouse3,mouse2,attack\", \"mouse3,mouse2,avoid\", \"mouse3,mouse2,chase\", \"mouse3,mouse2,chaseattack\", \"mouse3,mouse2,submit\", \"mouse3,mouse4,approach\", \"mouse3,mouse4,attack\", \"mouse3,mouse4,avoid\", \"mouse3,mouse4,chase\", \"mouse3,mouse4,chaseattack\", \"mouse3,mouse4,submit\", \"mouse3,self,rear\", \"mouse4,mouse1,approach\", \"mouse4,mouse1,attack\", \"mouse4,mouse1,avoid\", \"mouse4,mouse1,chase\", \"mouse4,mouse1,chaseattack\", \"mouse4,mouse1,submit\", \"mouse4,mouse2,approach\", \"mouse4,mouse2,attack\", \"mouse4,mouse2,avoid\", \"mouse4,mouse2,chase\", \"mouse4,mouse2,chaseattack\", \"mouse4,mouse2,submit\", \"mouse4,mouse3,approach\", \"mouse4,mouse3,attack\", \"mouse4,mouse3,avoid\", \"mouse4,mouse3,chase\", \"mouse4,mouse3,chaseattack\", \"mouse4,mouse3,submit\", \"mouse4,self,rear\"]'\n",
      " '[\"mouse1,mouse2,approach\", \"mouse1,mouse2,attack\", \"mouse1,mouse2,avoid\", \"mouse1,mouse2,chase\", \"mouse1,mouse2,chaseattack\", \"mouse1,mouse2,submit\", \"mouse1,mouse3,approach\", \"mouse1,mouse3,attack\", \"mouse1,mouse3,avoid\", \"mouse1,mouse3,chase\", \"mouse1,mouse3,chaseattack\", \"mouse1,mouse3,submit\", \"mouse1,self,rear\", \"mouse2,mouse1,approach\", \"mouse2,mouse1,attack\", \"mouse2,mouse1,avoid\", \"mouse2,mouse1,chase\", \"mouse2,mouse1,chaseattack\", \"mouse2,mouse1,submit\", \"mouse2,mouse3,approach\", \"mouse2,mouse3,attack\", \"mouse2,mouse3,avoid\", \"mouse2,mouse3,chase\", \"mouse2,mouse3,chaseattack\", \"mouse2,mouse3,submit\", \"mouse2,self,rear\", \"mouse3,mouse1,approach\", \"mouse3,mouse1,attack\", \"mouse3,mouse1,avoid\", \"mouse3,mouse1,chase\", \"mouse3,mouse1,chaseattack\", \"mouse3,mouse1,submit\", \"mouse3,mouse2,approach\", \"mouse3,mouse2,attack\", \"mouse3,mouse2,avoid\", \"mouse3,mouse2,chase\", \"mouse3,mouse2,chaseattack\", \"mouse3,mouse2,submit\", \"mouse3,self,rear\"]'\n",
      " '[\"mouse1,mouse2,approach\", \"mouse1,mouse2,attack\", \"mouse1,mouse2,avoid\", \"mouse1,mouse2,chase\", \"mouse1,mouse2,chaseattack\", \"mouse1,mouse2,submit\", \"mouse1,mouse3,approach\", \"mouse1,mouse3,attack\", \"mouse1,mouse3,avoid\", \"mouse1,mouse3,chase\", \"mouse1,mouse3,chaseattack\", \"mouse1,mouse3,submit\", \"mouse1,mouse4,avoid\", \"mouse1,self,rear\", \"mouse2,mouse1,approach\", \"mouse2,mouse1,attack\", \"mouse2,mouse1,avoid\", \"mouse2,mouse1,chase\", \"mouse2,mouse1,chaseattack\", \"mouse2,mouse1,submit\", \"mouse2,mouse3,approach\", \"mouse2,mouse3,attack\", \"mouse2,mouse3,avoid\", \"mouse2,mouse3,chase\", \"mouse2,mouse3,chaseattack\", \"mouse2,mouse3,submit\", \"mouse2,mouse4,attack\", \"mouse2,mouse4,avoid\", \"mouse2,mouse4,chase\", \"mouse2,mouse4,chaseattack\", \"mouse2,self,rear\", \"mouse3,mouse1,approach\", \"mouse3,mouse1,attack\", \"mouse3,mouse1,avoid\", \"mouse3,mouse1,chase\", \"mouse3,mouse1,chaseattack\", \"mouse3,mouse1,submit\", \"mouse3,mouse2,approach\", \"mouse3,mouse2,attack\", \"mouse3,mouse2,avoid\", \"mouse3,mouse2,chase\", \"mouse3,mouse2,chaseattack\", \"mouse3,mouse2,submit\", \"mouse3,self,rear\", \"mouse4,mouse1,avoid\", \"mouse4,mouse2,avoid\"]'\n",
      " '[\"mouse1,mouse2,approach\", \"mouse1,mouse2,attack\", \"mouse1,mouse2,avoid\", \"mouse1,mouse2,chase\", \"mouse1,mouse2,chaseattack\", \"mouse1,mouse2,submit\", \"mouse1,mouse3,approach\", \"mouse1,mouse3,attack\", \"mouse1,mouse3,avoid\", \"mouse1,mouse3,chase\", \"mouse1,mouse3,chaseattack\", \"mouse1,mouse3,submit\", \"mouse1,self,rear\", \"mouse2,mouse1,approach\", \"mouse2,mouse1,attack\", \"mouse2,mouse1,avoid\", \"mouse2,mouse1,chase\", \"mouse2,mouse1,chaseattack\", \"mouse2,mouse1,submit\", \"mouse2,mouse3,approach\", \"mouse2,mouse3,attack\", \"mouse2,mouse3,avoid\", \"mouse2,mouse3,chase\", \"mouse2,mouse3,chaseattack\", \"mouse2,mouse3,submit\", \"mouse2,mouse4,attack\", \"mouse2,mouse4,avoid\", \"mouse2,mouse4,chase\", \"mouse2,mouse4,chaseattack\", \"mouse2,self,rear\", \"mouse3,mouse1,approach\", \"mouse3,mouse1,attack\", \"mouse3,mouse1,avoid\", \"mouse3,mouse1,chase\", \"mouse3,mouse1,chaseattack\", \"mouse3,mouse1,submit\", \"mouse3,mouse2,approach\", \"mouse3,mouse2,attack\", \"mouse3,mouse2,avoid\", \"mouse3,mouse2,chase\", \"mouse3,mouse2,chaseattack\", \"mouse3,mouse2,submit\", \"mouse3,self,rear\", \"mouse4,mouse2,attack\"]'\n",
      " '[\"mouse1,mouse2,approach\", \"mouse1,mouse2,attack\", \"mouse1,mouse2,avoid\", \"mouse1,mouse2,chase\", \"mouse1,mouse2,chaseattack\", \"mouse1,mouse2,submit\", \"mouse1,mouse3,approach\", \"mouse1,mouse3,attack\", \"mouse1,mouse3,avoid\", \"mouse1,mouse3,chase\", \"mouse1,mouse3,chaseattack\", \"mouse1,mouse3,submit\", \"mouse1,mouse4,avoid\", \"mouse1,mouse4,chase\", \"mouse1,self,rear\", \"mouse2,mouse1,approach\", \"mouse2,mouse1,attack\", \"mouse2,mouse1,avoid\", \"mouse2,mouse1,chase\", \"mouse2,mouse1,chaseattack\", \"mouse2,mouse1,submit\", \"mouse2,mouse3,approach\", \"mouse2,mouse3,attack\", \"mouse2,mouse3,avoid\", \"mouse2,mouse3,chase\", \"mouse2,mouse3,chaseattack\", \"mouse2,mouse3,submit\", \"mouse2,mouse4,avoid\", \"mouse2,mouse4,chase\", \"mouse2,self,rear\", \"mouse3,mouse1,approach\", \"mouse3,mouse1,attack\", \"mouse3,mouse1,avoid\", \"mouse3,mouse1,chase\", \"mouse3,mouse1,chaseattack\", \"mouse3,mouse1,submit\", \"mouse3,mouse2,approach\", \"mouse3,mouse2,attack\", \"mouse3,mouse2,avoid\", \"mouse3,mouse2,chase\", \"mouse3,mouse2,chaseattack\", \"mouse3,mouse2,submit\", \"mouse3,self,rear\", \"mouse4,mouse1,avoid\", \"mouse4,mouse2,avoid\"]'\n",
      " '[\"mouse1,mouse2,shepherd\", \"mouse2,mouse1,shepherd\"]'\n",
      " '[\"mouse1,mouse2,approach\", \"mouse1,mouse2,attack\", \"mouse1,mouse2,disengage\", \"mouse1,mouse2,mount\", \"mouse1,mouse2,sniff\", \"mouse1,self,rear\", \"mouse1,self,selfgroom\"]'\n",
      " '[\"mouse1,mouse2,attack\", \"mouse1,mouse2,sniff\", \"mouse1,mouse2,sniffgenital\"]'\n",
      " '[\"mouse1,mouse2,mount\", \"mouse1,mouse2,sniff\", \"mouse1,mouse2,sniffgenital\"]'\n",
      " '[\"mouse1,mouse2,attack\", \"mouse1,mouse2,sniff\"]'\n",
      " '[\"mouse1,mouse2,approach\", \"mouse1,mouse2,attack\", \"mouse1,mouse2,dominancemount\", \"mouse1,mouse2,sniffbody\", \"mouse1,mouse2,sniffface\", \"mouse1,mouse2,sniffgenital\"]'\n",
      " '[\"mouse1,mouse2,sniff\", \"mouse1,mouse2,sniffgenital\"]'\n",
      " '[\"mouse1,mouse2,attack\", \"mouse1,mouse2,dominancemount\", \"mouse1,mouse2,sniff\", \"mouse1,mouse2,sniffgenital\"]'\n",
      " '[\"mouse1,mouse2,approach\", \"mouse1,mouse2,attemptmount\", \"mouse1,mouse2,mount\", \"mouse1,mouse2,sniffbody\", \"mouse1,mouse2,sniffface\", \"mouse1,mouse2,sniffgenital\"]'\n",
      " '[\"mouse1,mouse2,dominancemount\", \"mouse1,mouse2,sniff\", \"mouse1,mouse2,sniffgenital\"]'\n",
      " '[\"mouse1,mouse2,approach\", \"mouse1,mouse2,attack\", \"mouse1,mouse2,attemptmount\", \"mouse1,mouse2,mount\", \"mouse1,mouse2,sniffbody\", \"mouse1,mouse2,sniffface\", \"mouse1,mouse2,sniffgenital\"]'\n",
      " '[\"mouse1,mouse2,attemptmount\", \"mouse1,mouse2,mount\", \"mouse1,mouse2,sniff\", \"mouse1,mouse2,sniffgenital\"]'\n",
      " '[\"mouse1,mouse2,attemptmount\", \"mouse1,mouse2,intromit\", \"mouse1,mouse2,mount\", \"mouse1,mouse2,sniff\", \"mouse1,mouse2,sniffgenital\"]'\n",
      " '[\"mouse1,mouse2,intromit\", \"mouse1,mouse2,mount\", \"mouse1,mouse2,sniff\"]'\n",
      " '[\"mouse1,mouse2,sniff\"]'\n",
      " '[\"mouse1,mouse2,approach\", \"mouse1,mouse2,sniffbody\", \"mouse1,mouse2,sniffface\", \"mouse1,mouse2,sniffgenital\"]'\n",
      " '[\"mouse1,mouse2,intromit\", \"mouse1,mouse2,mount\", \"mouse1,mouse2,sniff\", \"mouse1,mouse2,sniffgenital\"]'\n",
      " '[\"mouse1,mouse2,approach\", \"mouse1,mouse2,attemptmount\", \"mouse1,mouse2,intromit\", \"mouse1,mouse2,mount\", \"mouse1,mouse2,sniffbody\", \"mouse1,mouse2,sniffface\", \"mouse1,mouse2,sniffgenital\"]'\n",
      " '[\"mouse1,mouse2,mount\", \"mouse1,mouse2,sniff\"]'\n",
      " '[\"mouse1,mouse2,attack\", \"mouse1,mouse2,dominancemount\", \"mouse1,mouse2,sniff\"]'\n",
      " '[\"mouse1,mouse2,approach\", \"mouse1,mouse2,mount\", \"mouse1,mouse2,sniffbody\", \"mouse1,mouse2,sniffface\", \"mouse1,mouse2,sniffgenital\"]'\n",
      " '[\"mouse1,mouse2,attemptmount\", \"mouse1,mouse2,mount\", \"mouse1,mouse2,sniff\"]'\n",
      " '[\"mouse1,mouse2,approach\", \"mouse1,mouse2,attemptmount\", \"mouse1,mouse2,intromit\", \"mouse1,mouse2,mount\", \"mouse1,mouse2,sniff\", \"mouse1,mouse2,sniffbody\", \"mouse1,mouse2,sniffface\", \"mouse1,mouse2,sniffgenital\"]'\n",
      " '[\"mouse1,mouse2,attemptmount\", \"mouse1,mouse2,dominancemount\", \"mouse1,mouse2,mount\", \"mouse1,mouse2,sniff\", \"mouse1,mouse2,sniffgenital\"]'\n",
      " '[\"mouse1,mouse2,attack\", \"mouse1,mouse2,mount\", \"mouse1,mouse2,sniff\", \"mouse1,mouse2,sniffgenital\"]'\n",
      " '[\"mouse1,mouse2,attack\", \"mouse1,mouse2,dominancemount\", \"mouse1,mouse2,mount\", \"mouse1,mouse2,sniff\", \"mouse1,mouse2,sniffgenital\"]'\n",
      " '[\"mouse1,mouse2,approach\", \"mouse1,mouse2,mount\", \"mouse1,mouse2,sniffbody\", \"mouse1,mouse2,sniffface\", \"mouse1,self,genitalgroom\"]'\n",
      " '[\"mouse1,mouse2,approach\", \"mouse1,mouse2,attack\", \"mouse1,mouse2,sniffbody\", \"mouse1,mouse2,sniffgenital\"]'\n",
      " '[\"mouse1,mouse2,approach\", \"mouse1,mouse2,intromit\", \"mouse1,mouse2,mount\", \"mouse1,mouse2,sniffbody\", \"mouse1,mouse2,sniffface\", \"mouse1,mouse2,sniffgenital\", \"mouse1,self,genitalgroom\"]'\n",
      " '[\"mouse1,mouse2,attack\", \"mouse1,mouse2,mount\", \"mouse1,mouse2,sniff\"]'\n",
      " '[\"mouse1,mouse2,approach\", \"mouse1,mouse2,mount\", \"mouse1,mouse2,sniffbody\", \"mouse1,mouse2,sniffface\", \"mouse1,mouse2,sniffgenital\", \"mouse1,self,genitalgroom\"]'\n",
      " '[\"mouse1,mouse2,approach\", \"mouse1,mouse2,sniffbody\", \"mouse1,mouse2,sniffface\"]'\n",
      " '[\"mouse1,mouse2,approach\", \"mouse1,mouse2,attack\", \"mouse1,mouse2,sniffbody\", \"mouse1,mouse2,sniffface\", \"mouse1,mouse2,sniffgenital\"]'\n",
      " '[\"mouse1,mouse2,sniffbody\", \"mouse1,mouse2,sniffface\", \"mouse1,mouse2,sniffgenital\"]'\n",
      " '[\"mouse1,mouse2,approach\", \"mouse1,mouse2,attack\", \"mouse1,mouse2,sniffbody\", \"mouse1,mouse2,sniffface\"]'\n",
      " '[\"mouse1,mouse2,mount\", \"mouse1,mouse2,sniffbody\", \"mouse1,mouse2,sniffface\", \"mouse1,mouse2,sniffgenital\", \"mouse1,self,genitalgroom\"]'\n",
      " '[\"mouse1,mouse2,approach\", \"mouse1,mouse2,intromit\", \"mouse1,mouse2,mount\", \"mouse1,mouse2,sniffbody\", \"mouse1,mouse2,sniffface\", \"mouse1,mouse2,sniffgenital\"]'\n",
      " '[\"mouse1,mouse2,attack\", \"mouse1,mouse2,sniffbody\", \"mouse1,mouse2,sniffface\", \"mouse1,mouse2,sniffgenital\"]'\n",
      " '[\"mouse1,mouse2,mount\", \"mouse1,mouse2,sniffbody\", \"mouse1,mouse2,sniffface\", \"mouse1,mouse2,sniffgenital\"]'\n",
      " '[\"mouse1,mouse2,approach\", \"mouse1,mouse2,intromit\", \"mouse1,mouse2,mount\", \"mouse1,mouse2,sniffbody\", \"mouse1,mouse2,sniffgenital\"]'\n",
      " '[\"mouse1,mouse2,sniff\", \"mouse1,mouse2,sniffface\", \"mouse1,mouse2,sniffgenital\"]'\n",
      " '[\"mouse1,mouse2,approach\", \"mouse1,mouse2,attack\", \"mouse1,mouse2,sniffbody\"]'\n",
      " '[\"mouse1,mouse2,mount\", \"mouse1,mouse2,sniff\", \"mouse1,mouse2,sniffface\", \"mouse1,mouse2,sniffgenital\"]'\n",
      " '[\"mouse1,mouse2,approach\", \"mouse1,mouse2,chase\", \"mouse1,mouse2,escape\", \"mouse1,mouse2,reciprocalsniff\", \"mouse1,mouse2,sniffbody\", \"mouse1,mouse2,sniffgenital\", \"mouse2,mouse1,reciprocalsniff\", \"mouse2,mouse1,sniff\"]'\n",
      " '[\"\\'mouse1\\',\\'mouse2\\',\\'sniff\\'\", \"mouse1\\',\\'mouse2\\',\\'attack\\'\", \"mouse1\\',\\'mouse2\\',\\'dominance\\'\", \"mouse1,mouse2,attack\", \"mouse1,mouse2,dominance\", \"mouse1,mouse2,sniff\"]'\n",
      " '[\"mouse1,mouse2,attack\", \"mouse1,mouse2,intromit\", \"mouse1,mouse2,mount\", \"mouse1,mouse2,sniff\", \"mouse1,mouse2,sniffgenital\", \"mouse2,self,rear\", \"mouse2,self,selfgroom\"]'\n",
      " '[\"mouse1,mouse2,intromit\", \"mouse1,mouse2,mount\", \"mouse1,mouse2,sniff\", \"mouse1,mouse2,sniffgenital\", \"mouse2,self,rear\", \"mouse2,self,selfgroom\"]'\n",
      " '[\"mouse1,mouse2,attemptmount\", \"mouse1,mouse2,intromit\", \"mouse1,mouse2,mount\", \"mouse1,mouse2,sniff\", \"mouse1,mouse2,sniffgenital\", \"mouse2,self,rear\"]'\n",
      " '[\"mouse1,mouse2,allogroom\", \"mouse1,mouse2,intromit\", \"mouse1,mouse2,mount\", \"mouse1,mouse2,sniff\", \"mouse1,mouse2,sniffgenital\", \"mouse2,self,rear\"]'\n",
      " '[\"mouse1,mouse2,allogroom\", \"mouse1,mouse2,ejaculate\", \"mouse1,mouse2,intromit\", \"mouse1,mouse2,mount\", \"mouse1,mouse2,sniff\", \"mouse1,mouse2,sniffgenital\", \"mouse2,self,rear\", \"mouse2,self,selfgroom\"]'\n",
      " '[\"mouse1,mouse2,allogroom\", \"mouse1,mouse2,sniff\", \"mouse1,mouse2,sniffgenital\", \"mouse2,self,rear\"]'\n",
      " '[\"mouse1,mouse2,sniff\", \"mouse1,mouse2,sniffgenital\", \"mouse2,self,rear\", \"mouse2,self,selfgroom\"]'\n",
      " '[\"mouse1,mouse2,attack\", \"mouse1,mouse2,intromit\", \"mouse1,mouse2,mount\", \"mouse1,mouse2,sniff\", \"mouse1,mouse2,sniffgenital\", \"mouse2,self,rear\"]'\n",
      " '[\"mouse1,mouse2,allogroom\", \"mouse1,mouse2,mount\", \"mouse1,mouse2,sniff\", \"mouse2,self,rear\"]'\n",
      " '[\"mouse1,mouse2,allogroom\", \"mouse1,mouse2,ejaculate\", \"mouse1,mouse2,intromit\", \"mouse1,mouse2,mount\", \"mouse1,mouse2,sniff\", \"mouse1,mouse2,sniffgenital\", \"mouse2,self,rear\"]'\n",
      " '[\"mouse1,mouse2,allogroom\", \"mouse1,mouse2,attemptmount\", \"mouse1,mouse2,intromit\", \"mouse1,mouse2,mount\", \"mouse1,mouse2,sniff\", \"mouse1,mouse2,sniffgenital\", \"mouse2,self,rear\"]'\n",
      " '[\"mouse1,mouse2,mount\", \"mouse1,mouse2,sniff\", \"mouse2,self,rear\"]'\n",
      " '[\"mouse1,mouse2,attemptmount\", \"mouse1,mouse2,intromit\", \"mouse1,mouse2,mount\", \"mouse1,mouse2,sniff\", \"mouse1,mouse2,sniffgenital\", \"mouse2,self,rear\", \"mouse2,self,selfgroom\"]'\n",
      " '[\"mouse1,mouse2,ejaculate\", \"mouse1,mouse2,intromit\", \"mouse1,mouse2,mount\", \"mouse1,mouse2,sniff\", \"mouse1,mouse2,sniffgenital\", \"mouse2,self,rear\", \"mouse2,self,selfgroom\"]'\n",
      " '[\"mouse1,mouse2,intromit\", \"mouse1,mouse2,mount\", \"mouse1,mouse2,sniff\", \"mouse1,mouse2,sniffgenital\", \"mouse1,self,rear\", \"mouse1,self,rest\", \"mouse1,self,selfgroom\", \"mouse2,mouse1,approach\", \"mouse2,mouse1,defend\", \"mouse2,mouse1,escape\", \"mouse2,mouse1,sniff\", \"mouse2,mouse1,sniffgenital\", \"mouse2,self,climb\", \"mouse2,self,dig\", \"mouse2,self,rear\", \"mouse2,self,rest\", \"mouse2,self,selfgroom\"]'\n",
      " '[\"mouse1,mouse2,approach\", \"mouse1,mouse2,escape\", \"mouse1,mouse2,sniff\", \"mouse1,mouse2,sniffgenital\", \"mouse1,self,climb\", \"mouse1,self,dig\", \"mouse1,self,rear\", \"mouse1,self,selfgroom\", \"mouse2,mouse1,approach\", \"mouse2,mouse1,escape\", \"mouse2,mouse1,sniff\", \"mouse2,mouse1,sniffgenital\", \"mouse2,self,dig\", \"mouse2,self,rear\", \"mouse2,self,selfgroom\"]'\n",
      " '[\"mouse1,mouse2,approach\", \"mouse1,mouse2,attemptmount\", \"mouse1,mouse2,sniff\", \"mouse1,mouse2,sniffgenital\", \"mouse1,self,climb\", \"mouse1,self,dig\", \"mouse1,self,rear\", \"mouse1,self,selfgroom\", \"mouse2,mouse1,approach\", \"mouse2,mouse1,escape\", \"mouse2,mouse1,sniff\", \"mouse2,mouse1,sniffgenital\", \"mouse2,self,climb\", \"mouse2,self,dig\", \"mouse2,self,rear\", \"mouse2,self,rest\", \"mouse2,self,selfgroom\"]'\n",
      " '[\"mouse1,mouse2,approach\", \"mouse1,mouse2,intromit\", \"mouse1,mouse2,mount\", \"mouse1,mouse2,sniff\", \"mouse1,mouse2,sniffgenital\", \"mouse1,self,rear\", \"mouse1,self,rest\", \"mouse1,self,selfgroom\", \"mouse2,mouse1,escape\", \"mouse2,mouse1,sniff\", \"mouse2,self,rear\", \"mouse2,self,rest\", \"mouse2,self,selfgroom\"]'\n",
      " '[\"mouse1,mouse2,approach\", \"mouse1,mouse2,escape\", \"mouse1,mouse2,intromit\", \"mouse1,mouse2,mount\", \"mouse1,mouse2,sniff\", \"mouse1,mouse2,sniffgenital\", \"mouse1,self,dig\", \"mouse1,self,rear\", \"mouse1,self,run\", \"mouse1,self,selfgroom\", \"mouse2,mouse1,approach\", \"mouse2,mouse1,escape\", \"mouse2,mouse1,sniff\", \"mouse2,mouse1,sniffgenital\", \"mouse2,self,climb\", \"mouse2,self,dig\", \"mouse2,self,rear\", \"mouse2,self,rest\", \"mouse2,self,run\", \"mouse2,self,selfgroom\"]'\n",
      " '[\"mouse1,mouse2,approach\", \"mouse1,mouse2,escape\", \"mouse1,mouse2,sniff\", \"mouse1,mouse2,sniffgenital\", \"mouse1,self,dig\", \"mouse1,self,rear\", \"mouse1,self,rest\", \"mouse1,self,run\", \"mouse1,self,selfgroom\", \"mouse2,mouse1,approach\", \"mouse2,mouse1,defend\", \"mouse2,mouse1,escape\", \"mouse2,mouse1,sniff\", \"mouse2,mouse1,sniffgenital\", \"mouse2,self,climb\", \"mouse2,self,dig\", \"mouse2,self,rear\", \"mouse2,self,rest\", \"mouse2,self,run\", \"mouse2,self,selfgroom\"]'\n",
      " '[\"mouse1,mouse2,approach\", \"mouse1,mouse2,attemptmount\", \"mouse1,mouse2,escape\", \"mouse1,mouse2,intromit\", \"mouse1,mouse2,mount\", \"mouse1,mouse2,sniff\", \"mouse1,mouse2,sniffgenital\", \"mouse1,self,dig\", \"mouse1,self,rear\", \"mouse1,self,selfgroom\", \"mouse2,mouse1,approach\", \"mouse2,mouse1,escape\", \"mouse2,mouse1,sniff\", \"mouse2,mouse1,sniffgenital\", \"mouse2,self,dig\", \"mouse2,self,rear\", \"mouse2,self,selfgroom\"]'\n",
      " '[\"mouse1,mouse2,approach\", \"mouse1,mouse2,attemptmount\", \"mouse1,mouse2,escape\", \"mouse1,mouse2,intromit\", \"mouse1,mouse2,mount\", \"mouse1,mouse2,sniff\", \"mouse1,mouse2,sniffgenital\", \"mouse1,self,dig\", \"mouse1,self,rear\", \"mouse1,self,rest\", \"mouse1,self,run\", \"mouse1,self,selfgroom\", \"mouse2,mouse1,approach\", \"mouse2,mouse1,escape\", \"mouse2,mouse1,sniff\", \"mouse2,mouse1,sniffgenital\", \"mouse2,self,dig\", \"mouse2,self,rear\", \"mouse2,self,rest\", \"mouse2,self,selfgroom\"]'\n",
      " '[\"mouse1,mouse2,approach\", \"mouse1,mouse2,escape\", \"mouse1,mouse2,sniff\", \"mouse1,mouse2,sniffgenital\", \"mouse1,self,dig\", \"mouse1,self,rear\", \"mouse1,self,selfgroom\", \"mouse2,mouse1,approach\", \"mouse2,mouse1,escape\", \"mouse2,mouse1,sniff\", \"mouse2,mouse1,sniffgenital\", \"mouse2,self,dig\", \"mouse2,self,rear\", \"mouse2,self,selfgroom\"]'\n",
      " '[\"mouse1,mouse2,approach\", \"mouse1,mouse2,escape\", \"mouse1,mouse2,intromit\", \"mouse1,mouse2,mount\", \"mouse1,mouse2,sniff\", \"mouse1,mouse2,sniffgenital\", \"mouse1,self,dig\", \"mouse1,self,rear\", \"mouse1,self,rest\", \"mouse1,self,selfgroom\", \"mouse2,mouse1,approach\", \"mouse2,mouse1,escape\", \"mouse2,mouse1,sniff\", \"mouse2,mouse1,sniffgenital\", \"mouse2,self,climb\", \"mouse2,self,dig\", \"mouse2,self,rear\", \"mouse2,self,rest\", \"mouse2,self,run\", \"mouse2,self,selfgroom\"]'\n",
      " '[\"mouse1,mouse2,approach\", \"mouse1,mouse2,sniff\", \"mouse1,mouse2,sniffgenital\", \"mouse1,self,climb\", \"mouse1,self,dig\", \"mouse1,self,rear\", \"mouse1,self,selfgroom\", \"mouse2,mouse1,approach\", \"mouse2,mouse1,escape\", \"mouse2,mouse1,sniff\", \"mouse2,mouse1,sniffgenital\", \"mouse2,self,dig\", \"mouse2,self,rear\", \"mouse2,self,rest\", \"mouse2,self,run\", \"mouse2,self,selfgroom\"]'\n",
      " '[\"mouse1,mouse2,approach\", \"mouse1,mouse2,defend\", \"mouse1,mouse2,escape\", \"mouse1,mouse2,intromit\", \"mouse1,mouse2,mount\", \"mouse1,mouse2,sniff\", \"mouse1,mouse2,sniffgenital\", \"mouse1,self,dig\", \"mouse1,self,rear\", \"mouse1,self,rest\", \"mouse1,self,run\", \"mouse1,self,selfgroom\", \"mouse2,mouse1,approach\", \"mouse2,mouse1,defend\", \"mouse2,mouse1,escape\", \"mouse2,mouse1,sniff\", \"mouse2,self,rear\", \"mouse2,self,rest\", \"mouse2,self,run\", \"mouse2,self,selfgroom\"]'\n",
      " '[\"mouse1,mouse2,approach\", \"mouse1,mouse2,defend\", \"mouse1,mouse2,escape\", \"mouse1,mouse2,sniff\", \"mouse1,self,dig\", \"mouse1,self,rear\", \"mouse1,self,rest\", \"mouse1,self,run\", \"mouse1,self,selfgroom\", \"mouse2,mouse1,approach\", \"mouse2,mouse1,escape\", \"mouse2,mouse1,sniff\", \"mouse2,mouse1,sniffgenital\", \"mouse2,self,dig\", \"mouse2,self,rear\", \"mouse2,self,rest\", \"mouse2,self,run\", \"mouse2,self,selfgroom\"]'\n",
      " '[\"mouse1,mouse2,approach\", \"mouse1,mouse2,sniff\", \"mouse1,mouse2,sniffgenital\", \"mouse1,self,dig\", \"mouse1,self,rear\", \"mouse1,self,rest\", \"mouse1,self,run\", \"mouse1,self,selfgroom\", \"mouse2,mouse1,approach\", \"mouse2,mouse1,escape\", \"mouse2,mouse1,sniff\", \"mouse2,mouse1,sniffgenital\", \"mouse2,self,climb\", \"mouse2,self,dig\", \"mouse2,self,rear\", \"mouse2,self,run\", \"mouse2,self,selfgroom\"]'\n",
      " '[\"mouse1,mouse2,approach\", \"mouse1,mouse2,defend\", \"mouse1,mouse2,escape\", \"mouse1,mouse2,sniff\", \"mouse1,mouse2,sniffgenital\", \"mouse1,self,climb\", \"mouse1,self,dig\", \"mouse1,self,rear\", \"mouse1,self,run\", \"mouse1,self,selfgroom\", \"mouse2,mouse1,approach\", \"mouse2,mouse1,escape\", \"mouse2,mouse1,sniff\", \"mouse2,self,dig\", \"mouse2,self,rear\", \"mouse2,self,rest\", \"mouse2,self,run\", \"mouse2,self,selfgroom\"]'\n",
      " '[\"mouse1,mouse2,approach\", \"mouse1,mouse2,defend\", \"mouse1,mouse2,escape\", \"mouse1,mouse2,sniff\", \"mouse1,self,dig\", \"mouse1,self,rear\", \"mouse1,self,rest\", \"mouse1,self,run\", \"mouse1,self,selfgroom\", \"mouse2,mouse1,approach\", \"mouse2,mouse1,escape\", \"mouse2,mouse1,sniff\", \"mouse2,self,dig\", \"mouse2,self,rear\", \"mouse2,self,rest\", \"mouse2,self,run\", \"mouse2,self,selfgroom\"]'\n",
      " '[\"mouse1,mouse2,approach\", \"mouse1,mouse2,defend\", \"mouse1,mouse2,escape\", \"mouse1,mouse2,sniff\", \"mouse1,mouse2,sniffgenital\", \"mouse1,self,dig\", \"mouse1,self,rear\", \"mouse1,self,run\", \"mouse1,self,selfgroom\", \"mouse2,mouse1,approach\", \"mouse2,mouse1,sniff\", \"mouse2,mouse1,sniffgenital\", \"mouse2,self,climb\", \"mouse2,self,dig\", \"mouse2,self,rear\", \"mouse2,self,run\", \"mouse2,self,selfgroom\"]'\n",
      " '[\"mouse1,mouse2,allogroom\", \"mouse1,mouse2,attack\", \"mouse1,mouse2,dominancegroom\", \"mouse1,mouse2,escape\", \"mouse1,mouse2,sniff\", \"mouse1,mouse2,sniffgenital\", \"mouse1,self,dig\", \"mouse1,self,selfgroom\", \"mouse2,mouse1,sniffgenital\"]'\n",
      " '[\"mouse1,mouse2,attack\", \"mouse1,mouse2,chase\", \"mouse1,mouse2,sniff\"]'\n",
      " '[\"mouse1,mouse2,approach\", \"mouse1,mouse2,attack\", \"mouse2,mouse1,defend\", \"mouse2,mouse1,escape\"]'\n",
      " '[\"mouse1,mouse2,attack\", \"mouse2,mouse1,defend\", \"mouse2,mouse1,escape\"]'\n",
      " '[\"mouse1,mouse2,sniff\", \"mouse2,mouse1,defend\", \"mouse2,self,freeze\", \"mouse2,self,rear\"]'\n",
      " '[\"mouse2,mouse1,defend\", \"mouse2,self,freeze\"]'\n",
      " '[\"mouse2,mouse1,defend\", \"mouse2,self,freeze\", \"mouse2,self,rear\"]'\n",
      " '[\"mouse1,mouse2,attack\", \"mouse2,mouse1,escape\"]'\n",
      " '[\"mouse1,mouse2,approach\", \"mouse1,mouse2,attack\", \"mouse1,mouse2,sniff\", \"mouse2,mouse1,defend\", \"mouse2,self,freeze\", \"mouse2,self,rear\"]'\n",
      " '[\"mouse1,mouse2,sniff\", \"mouse2,mouse1,defend\"]'\n",
      " '[\"mouse1,mouse2,approach\", \"mouse1,mouse2,attack\", \"mouse1,mouse2,sniff\", \"mouse2,mouse1,defend\", \"mouse2,self,freeze\"]'\n",
      " nan\n",
      " '[\"mouse1,mouse2,approach\", \"mouse1,mouse2,attack\", \"mouse1,mouse2,chase\", \"mouse1,mouse2,defend\", \"mouse1,mouse2,escape\", \"mouse1,mouse2,flinch\", \"mouse1,mouse2,follow\", \"mouse1,mouse2,sniff\", \"mouse1,mouse2,sniffface\", \"mouse1,mouse2,sniffgenital\", \"mouse1,mouse2,tussle\", \"mouse1,self,biteobject\", \"mouse1,self,climb\", \"mouse1,self,dig\", \"mouse1,self,exploreobject\", \"mouse1,self,rear\", \"mouse1,self,selfgroom\", \"mouse2,mouse1,approach\", \"mouse2,mouse1,attack\", \"mouse2,mouse1,chase\", \"mouse2,mouse1,defend\", \"mouse2,mouse1,escape\", \"mouse2,mouse1,flinch\", \"mouse2,mouse1,follow\", \"mouse2,mouse1,sniff\", \"mouse2,mouse1,sniffface\", \"mouse2,mouse1,sniffgenital\", \"mouse2,mouse1,tussle\", \"mouse2,self,biteobject\", \"mouse2,self,climb\", \"mouse2,self,dig\", \"mouse2,self,exploreobject\", \"mouse2,self,rear\", \"mouse2,self,selfgroom\"]'\n",
      " '[\"mouse1,mouse2,attack\", \"mouse1,mouse2,chase\", \"mouse1,mouse2,escape\", \"mouse1,mouse2,follow\", \"mouse2,mouse1,attack\", \"mouse2,mouse1,chase\", \"mouse2,mouse1,escape\", \"mouse2,mouse1,follow\"]'\n",
      " '[\"mouse1,mouse2,attack\", \"mouse1,mouse2,chase\", \"mouse1,mouse2,escape\", \"mouse2,mouse1,attack\", \"mouse2,mouse1,chase\", \"mouse2,mouse1,escape\"]'\n",
      " '[\"\\'mouse1\\',\\'mouse2\\',\\'sniff\\'\", \"mouse1\\',\\'mouse2\\',\\'attack\\'\", \"mouse1,mouse2,attack\", \"mouse1,mouse2,sniff\"]'\n",
      " '[\"\\'mouse1\\',\\'mouse2\\',\\'sniff\\'\", \"mouse1\\',\\'mouse2\\',\\'attack\\'\", \"mouse1,mouse2,sniff\"]'\n",
      " '[\"mouse1,mouse2,attack\"]' '[\"mouse1,mouse2,chase\"]'\n",
      " '[\"mouse1,mouse2,attack\", \"mouse1,mouse2,chase\", \"mouse1,mouse2,sniffgenital\"]'\n",
      " '[\"mouse2,mouse1,defend\", \"mouse2,mouse1,escape\"]'\n",
      " '[\"mouse1,mouse2,chase\", \"mouse1,mouse2,sniffgenital\"]'\n",
      " '[\"mouse1,mouse2,mount\", \"mouse2,mouse1,defend\"]'\n",
      " '[\"mouse1,mouse2,sniffgenital\"]'\n",
      " '[\"mouse1,mouse2,attack\", \"mouse1,mouse2,chase\"]'\n",
      " '[\"mouse1,mouse2,mount\"]'\n",
      " '[\"mouse1,mouse2,chase\", \"mouse1,mouse2,sniffgenital\", \"mouse2,mouse1,defend\", \"mouse2,mouse1,escape\"]'\n",
      " '[\"mouse1,mouse2,attack\", \"mouse1,mouse2,sniffgenital\"]'\n",
      " '[\"mouse1,mouse2,sniffgenital\", \"mouse2,mouse1,defend\", \"mouse2,mouse1,escape\"]'\n",
      " '[\"mouse1,mouse2,chase\", \"mouse1,mouse2,mount\", \"mouse1,mouse2,sniffgenital\"]'\n",
      " '[\"mouse1,mouse2,sniff\", \"mouse2,self,rear\"]'\n",
      " '[\"mouse1,mouse2,intromit\", \"mouse1,mouse2,mount\", \"mouse1,mouse2,sniff\", \"mouse1,mouse2,sniffgenital\", \"mouse2,self,rear\"]'\n",
      " '[\"mouse1,mouse2,sniff\", \"mouse1,mouse2,sniffgenital\", \"mouse2,self,rear\"]'\n",
      " '[\"mouse1,mouse2,reciprocalsniff\", \"mouse1,mouse2,sniff\", \"mouse1,mouse2,sniffgenital\", \"mouse1,self,huddle\", \"mouse2,mouse1,reciprocalsniff\", \"mouse2,mouse1,sniffgenital\", \"mouse2,self,rear\"]'\n",
      " '[\"mouse1,mouse2,intromit\", \"mouse1,mouse2,mount\", \"mouse1,mouse2,sniff\", \"mouse1,mouse2,sniffgenital\", \"mouse2,mouse1,sniffgenital\", \"mouse2,self,rear\", \"mouse2,self,selfgroom\"]'\n",
      " '[\"mouse1,mouse2,sniff\", \"mouse1,mouse2,sniffgenital\", \"mouse2,mouse1,sniffgenital\", \"mouse2,self,rear\"]'\n",
      " '[\"mouse1,mouse2,reciprocalsniff\", \"mouse1,mouse2,sniff\", \"mouse1,mouse2,sniffgenital\", \"mouse1,self,huddle\", \"mouse2,mouse1,reciprocalsniff\", \"mouse2,mouse1,sniffgenital\", \"mouse2,self,rear\", \"mouse2,self,selfgroom\"]'\n",
      " '[\"mouse1,mouse2,intromit\", \"mouse1,mouse2,mount\", \"mouse1,mouse2,reciprocalsniff\", \"mouse1,mouse2,sniff\", \"mouse1,mouse2,sniffgenital\", \"mouse1,self,huddle\", \"mouse2,mouse1,reciprocalsniff\", \"mouse2,mouse1,sniffgenital\", \"mouse2,self,rear\", \"mouse2,self,selfgroom\"]']\n"
     ]
    }
   ],
   "source": [
    "print(train_metadata[col].unique())"
   ]
  },
  {
   "cell_type": "code",
   "execution_count": 27,
   "id": "e10f1f10",
   "metadata": {},
   "outputs": [
    {
     "name": "stdout",
     "output_type": "stream",
     "text": [
      "tracking_method\n",
      "custom HRnet    7926\n",
      "MARS             528\n",
      "DeepLabCut       212\n",
      "SLEAP            124\n",
      "Name: count, dtype: int64\n"
     ]
    }
   ],
   "source": [
    "col = \"tracking_method\"\n",
    "print(train_metadata[col].value_counts())"
   ]
  },
  {
   "cell_type": "code",
   "execution_count": 28,
   "id": "f96575f9",
   "metadata": {},
   "outputs": [
    {
     "name": "stdout",
     "output_type": "stream",
     "text": [
      "MABe22_keypoints       5320\n",
      "MABe22_movies       2606\n",
      "CalMS21_supplemental       297\n",
      "CalMS21_task1       101\n",
      "CalMS21_task2       76\n",
      "SparklingTapir       70\n",
      "JovialSwallow       52\n",
      "PleasantMeerkat       36\n",
      "InvincibleJellyfish       33\n",
      "TranquilPanther       25\n",
      "LyricalHare       24\n",
      "UppityFerret       21\n",
      "CRIM13       21\n",
      "ReflectiveManatee       20\n",
      "ElegantMink       19\n",
      "GroovyShrew       17\n",
      "AdaptableSnail       17\n",
      "NiftyGoldfinch       11\n",
      "CautiousGiraffe       10\n",
      "BoisterousParrot       8\n",
      "DeliriousFly       6\n"
     ]
    }
   ],
   "source": [
    "for lab_id, count in train_metadata.groupby(\"lab_id\").size().sort_values(ascending=False).items():\n",
    "    print(f\"{lab_id}       {count}\")"
   ]
  },
  {
   "cell_type": "code",
   "execution_count": 55,
   "id": "e7b1b6f9",
   "metadata": {},
   "outputs": [
    {
     "data": {
      "text/plain": [
       "(['body_center',\n",
       "  'ear_left',\n",
       "  'ear_right',\n",
       "  'forepaw_left',\n",
       "  'forepaw_right',\n",
       "  'hindpaw_left',\n",
       "  'hindpaw_right',\n",
       "  'neck',\n",
       "  'nose',\n",
       "  'tail_base',\n",
       "  'tail_midpoint',\n",
       "  'tail_tip'],\n",
       " 1593)"
      ]
     },
     "execution_count": 55,
     "metadata": {},
     "output_type": "execute_result"
    }
   ],
   "source": [
    "import ast\n",
    "\n",
    "index = get_index(range(8000))\n",
    "ast.literal_eval(train_metadata[\"body_parts_tracked\"][index]), index"
   ]
  },
  {
   "cell_type": "code",
   "execution_count": 60,
   "id": "e6f8ec26",
   "metadata": {},
   "outputs": [
    {
     "data": {
      "text/plain": [
       "'[\"mouse1,mouse2,approach\", \"mouse1,mouse2,attack\", \"mouse1,mouse2,avoid\", \"mouse1,mouse2,chase\", \"mouse1,mouse2,chaseattack\", \"mouse1,mouse2,submit\", \"mouse1,mouse3,approach\", \"mouse1,mouse3,attack\", \"mouse1,mouse3,avoid\", \"mouse1,mouse3,chase\", \"mouse1,mouse3,chaseattack\", \"mouse1,mouse3,submit\", \"mouse1,mouse4,approach\", \"mouse1,mouse4,attack\", \"mouse1,mouse4,avoid\", \"mouse1,mouse4,chase\", \"mouse1,mouse4,chaseattack\", \"mouse1,mouse4,submit\", \"mouse1,self,rear\", \"mouse2,mouse1,approach\", \"mouse2,mouse1,attack\", \"mouse2,mouse1,avoid\", \"mouse2,mouse1,chase\", \"mouse2,mouse1,chaseattack\", \"mouse2,mouse1,submit\", \"mouse2,mouse3,approach\", \"mouse2,mouse3,attack\", \"mouse2,mouse3,avoid\", \"mouse2,mouse3,chase\", \"mouse2,mouse3,chaseattack\", \"mouse2,mouse3,submit\", \"mouse2,mouse4,approach\", \"mouse2,mouse4,attack\", \"mouse2,mouse4,avoid\", \"mouse2,mouse4,chase\", \"mouse2,mouse4,chaseattack\", \"mouse2,mouse4,submit\", \"mouse2,self,rear\", \"mouse3,mouse1,approach\", \"mouse3,mouse1,attack\", \"mouse3,mouse1,avoid\", \"mouse3,mouse1,chase\", \"mouse3,mouse1,chaseattack\", \"mouse3,mouse1,submit\", \"mouse3,mouse2,approach\", \"mouse3,mouse2,attack\", \"mouse3,mouse2,avoid\", \"mouse3,mouse2,chase\", \"mouse3,mouse2,chaseattack\", \"mouse3,mouse2,submit\", \"mouse3,mouse4,approach\", \"mouse3,mouse4,attack\", \"mouse3,mouse4,avoid\", \"mouse3,mouse4,chase\", \"mouse3,mouse4,chaseattack\", \"mouse3,mouse4,submit\", \"mouse3,self,rear\", \"mouse4,mouse1,approach\", \"mouse4,mouse1,attack\", \"mouse4,mouse1,avoid\", \"mouse4,mouse1,chase\", \"mouse4,mouse1,chaseattack\", \"mouse4,mouse1,submit\", \"mouse4,mouse2,approach\", \"mouse4,mouse2,attack\", \"mouse4,mouse2,avoid\", \"mouse4,mouse2,chase\", \"mouse4,mouse2,chaseattack\", \"mouse4,mouse2,submit\", \"mouse4,mouse3,approach\", \"mouse4,mouse3,attack\", \"mouse4,mouse3,avoid\", \"mouse4,mouse3,chase\", \"mouse4,mouse3,chaseattack\", \"mouse4,mouse3,submit\", \"mouse4,self,rear\"]'"
      ]
     },
     "execution_count": 60,
     "metadata": {},
     "output_type": "execute_result"
    }
   ],
   "source": [
    "train_metadata[\"behaviors_labeled\"][0]"
   ]
  },
  {
   "cell_type": "code",
   "execution_count": 5,
   "id": "32d038fa",
   "metadata": {},
   "outputs": [
    {
     "data": {
      "text/plain": [
       "['sample_submission.csv',\n",
       " 'test.csv',\n",
       " 'test_tracking',\n",
       " 'train.csv',\n",
       " 'train_annotation',\n",
       " 'train_tracking']"
      ]
     },
     "execution_count": 5,
     "metadata": {},
     "output_type": "execute_result"
    }
   ],
   "source": [
    "get_file_names(path)"
   ]
  },
  {
   "cell_type": "code",
   "execution_count": 6,
   "id": "6f6b46ff",
   "metadata": {},
   "outputs": [
    {
     "data": {
      "text/plain": [
       "['AdaptableSnail',\n",
       " 'BoisterousParrot',\n",
       " 'CRIM13',\n",
       " 'CalMS21_supplemental',\n",
       " 'CalMS21_task1',\n",
       " 'CalMS21_task2',\n",
       " 'CautiousGiraffe',\n",
       " 'DeliriousFly',\n",
       " 'ElegantMink',\n",
       " 'GroovyShrew',\n",
       " 'InvincibleJellyfish',\n",
       " 'JovialSwallow',\n",
       " 'LyricalHare',\n",
       " 'MABe22_keypoints',\n",
       " 'MABe22_movies',\n",
       " 'NiftyGoldfinch',\n",
       " 'PleasantMeerkat',\n",
       " 'ReflectiveManatee',\n",
       " 'SparklingTapir',\n",
       " 'TranquilPanther',\n",
       " 'UppityFerret']"
      ]
     },
     "execution_count": 6,
     "metadata": {},
     "output_type": "execute_result"
    }
   ],
   "source": [
    "dataset_names = get_file_names(path+\"/train_tracking\")\n",
    "dataset_names"
   ]
  },
  {
   "cell_type": "code",
   "execution_count": 7,
   "id": "a9a8cb5e",
   "metadata": {},
   "outputs": [
    {
     "data": {
      "text/plain": [
       "['/kaggle/input/MABe-mouse-behavior-detection/train_tracking/AdaptableSnail',\n",
       " '/kaggle/input/MABe-mouse-behavior-detection/train_tracking/BoisterousParrot',\n",
       " '/kaggle/input/MABe-mouse-behavior-detection/train_tracking/CRIM13',\n",
       " '/kaggle/input/MABe-mouse-behavior-detection/train_tracking/CalMS21_supplemental',\n",
       " '/kaggle/input/MABe-mouse-behavior-detection/train_tracking/CalMS21_task1',\n",
       " '/kaggle/input/MABe-mouse-behavior-detection/train_tracking/CalMS21_task2',\n",
       " '/kaggle/input/MABe-mouse-behavior-detection/train_tracking/CautiousGiraffe',\n",
       " '/kaggle/input/MABe-mouse-behavior-detection/train_tracking/DeliriousFly',\n",
       " '/kaggle/input/MABe-mouse-behavior-detection/train_tracking/ElegantMink',\n",
       " '/kaggle/input/MABe-mouse-behavior-detection/train_tracking/GroovyShrew',\n",
       " '/kaggle/input/MABe-mouse-behavior-detection/train_tracking/InvincibleJellyfish',\n",
       " '/kaggle/input/MABe-mouse-behavior-detection/train_tracking/JovialSwallow',\n",
       " '/kaggle/input/MABe-mouse-behavior-detection/train_tracking/LyricalHare',\n",
       " '/kaggle/input/MABe-mouse-behavior-detection/train_tracking/MABe22_keypoints',\n",
       " '/kaggle/input/MABe-mouse-behavior-detection/train_tracking/MABe22_movies',\n",
       " '/kaggle/input/MABe-mouse-behavior-detection/train_tracking/NiftyGoldfinch',\n",
       " '/kaggle/input/MABe-mouse-behavior-detection/train_tracking/PleasantMeerkat',\n",
       " '/kaggle/input/MABe-mouse-behavior-detection/train_tracking/ReflectiveManatee',\n",
       " '/kaggle/input/MABe-mouse-behavior-detection/train_tracking/SparklingTapir',\n",
       " '/kaggle/input/MABe-mouse-behavior-detection/train_tracking/TranquilPanther',\n",
       " '/kaggle/input/MABe-mouse-behavior-detection/train_tracking/UppityFerret']"
      ]
     },
     "execution_count": 7,
     "metadata": {},
     "output_type": "execute_result"
    }
   ],
   "source": [
    "dataset_paths = get_paths(path+\"/train_tracking\")\n",
    "dataset_paths"
   ]
  },
  {
   "cell_type": "code",
   "execution_count": 27,
   "id": "84d7c50a",
   "metadata": {},
   "outputs": [
    {
     "data": {
      "text/plain": [
       "['1212811043.parquet',\n",
       " '1260392287.parquet',\n",
       " '1351098077.parquet',\n",
       " '1408652858.parquet',\n",
       " '143861384.parquet',\n",
       " '1596473327.parquet',\n",
       " '1643942986.parquet',\n",
       " '1717182687.parquet',\n",
       " '2078515636.parquet',\n",
       " '209576908.parquet',\n",
       " '278643799.parquet',\n",
       " '351967631.parquet',\n",
       " '355542626.parquet',\n",
       " '44566106.parquet',\n",
       " '678426900.parquet',\n",
       " '705948978.parquet',\n",
       " '878123481.parquet']"
      ]
     },
     "execution_count": 27,
     "metadata": {},
     "output_type": "execute_result"
    }
   ],
   "source": [
    "videos = get_file_names(dataset_paths[0])\n",
    "videos"
   ]
  },
  {
   "cell_type": "code",
   "execution_count": 29,
   "id": "0fa116bd",
   "metadata": {},
   "outputs": [
    {
     "data": {
      "text/html": [
       "<div>\n",
       "<style scoped>\n",
       "    .dataframe tbody tr th:only-of-type {\n",
       "        vertical-align: middle;\n",
       "    }\n",
       "\n",
       "    .dataframe tbody tr th {\n",
       "        vertical-align: top;\n",
       "    }\n",
       "\n",
       "    .dataframe thead th {\n",
       "        text-align: right;\n",
       "    }\n",
       "</style>\n",
       "<table border=\"1\" class=\"dataframe\">\n",
       "  <thead>\n",
       "    <tr style=\"text-align: right;\">\n",
       "      <th></th>\n",
       "      <th>video_frame</th>\n",
       "      <th>mouse_id</th>\n",
       "      <th>bodypart</th>\n",
       "      <th>x</th>\n",
       "      <th>y</th>\n",
       "    </tr>\n",
       "  </thead>\n",
       "  <tbody>\n",
       "    <tr>\n",
       "      <th>0</th>\n",
       "      <td>0</td>\n",
       "      <td>1</td>\n",
       "      <td>body_center</td>\n",
       "      <td>496.187012</td>\n",
       "      <td>376.475006</td>\n",
       "    </tr>\n",
       "    <tr>\n",
       "      <th>1</th>\n",
       "      <td>0</td>\n",
       "      <td>1</td>\n",
       "      <td>ear_left</td>\n",
       "      <td>494.059998</td>\n",
       "      <td>343.924011</td>\n",
       "    </tr>\n",
       "    <tr>\n",
       "      <th>2</th>\n",
       "      <td>0</td>\n",
       "      <td>1</td>\n",
       "      <td>ear_right</td>\n",
       "      <td>518.765015</td>\n",
       "      <td>367.362000</td>\n",
       "    </tr>\n",
       "    <tr>\n",
       "      <th>3</th>\n",
       "      <td>0</td>\n",
       "      <td>1</td>\n",
       "      <td>lateral_left</td>\n",
       "      <td>474.536987</td>\n",
       "      <td>370.563995</td>\n",
       "    </tr>\n",
       "    <tr>\n",
       "      <th>4</th>\n",
       "      <td>0</td>\n",
       "      <td>1</td>\n",
       "      <td>lateral_right</td>\n",
       "      <td>505.825012</td>\n",
       "      <td>394.937012</td>\n",
       "    </tr>\n",
       "  </tbody>\n",
       "</table>\n",
       "</div>"
      ],
      "text/plain": [
       "   video_frame  mouse_id       bodypart           x           y\n",
       "0            0         1    body_center  496.187012  376.475006\n",
       "1            0         1       ear_left  494.059998  343.924011\n",
       "2            0         1      ear_right  518.765015  367.362000\n",
       "3            0         1   lateral_left  474.536987  370.563995\n",
       "4            0         1  lateral_right  505.825012  394.937012"
      ]
     },
     "execution_count": 29,
     "metadata": {},
     "output_type": "execute_result"
    }
   ],
   "source": [
    "snail_ds_path = os.path.join(dataset_paths[0], videos[0])\n",
    "snail = get_parqt(snail_ds_path)\n",
    "snail.head()"
   ]
  },
  {
   "cell_type": "code",
   "execution_count": 30,
   "id": "9420b913",
   "metadata": {},
   "outputs": [
    {
     "name": "stdout",
     "output_type": "stream",
     "text": [
      "0      video_frame  mouse_id       bodypart           x           y\n",
      "0             0         1    body_center  496.187012  376.475006\n",
      "1             0         1       ear_left  494.059998  343.924011\n",
      "2             0         1      ear_right  518.765015  367.362000\n",
      "3             0         1   lateral_left  474.536987  370.563995\n",
      "4             0         1  lateral_right  505.825012  394.937012\n",
      "5             0         1           nose  527.765015  342.686005\n",
      "6             0         1      tail_base  477.536011  398.338013\n",
      "7             0         1  tail_midpoint  446.834015  429.035004\n",
      "8             0         1       tail_tip  424.618011  457.161011\n",
      "9             0         2    body_center  702.916016  322.872986\n",
      "10            0         2       ear_left  727.033020  302.700989\n",
      "11            0         2      ear_right  740.577026  331.324005\n",
      "12            0         2   lateral_left  698.749023  300.458008\n",
      "13            0         2  lateral_right  702.254028  346.290009\n",
      "14            0         2           nose  753.237000  299.127991\n",
      "15            0         2      tail_base  670.831970  325.459991\n",
      "16            0         2  tail_midpoint  635.299988  324.936005\n",
      "17            0         3    body_center  480.436005  168.886002\n",
      "18            0         3       ear_left  509.897003  187.037994\n",
      "19            0         3      ear_right  489.697998  202.128006\n",
      "20            0         3   lateral_left  475.692993  148.324997\n",
      "21            0         3  lateral_right  456.411987  171.460999\n",
      "22            0         3           nose  515.994019  220.070007\n",
      "23            0         3      tail_base  440.216003  145.406006\n",
      "24            0         3  tail_midpoint  398.580994  144.289993\n",
      "25            0         3       tail_tip  346.510986  139.556000\n",
      "26            0         4    body_center  552.950012  311.082001\n",
      "27            0         4       ear_left  541.341003  270.950012\n",
      "28            0         4      ear_right  574.250000  272.709015\n",
      "29            0         4   lateral_left  527.999023  312.260010\n",
      "30            0         4  lateral_right  568.708984  329.032013\n",
      "31            0         4           neck  564.307983  275.859985\n",
      "32            0         4           nose  554.760986  267.890991\n",
      "33            0         4      tail_base  536.866028  340.485992\n",
      "34            0         4       tail_tip  602.968994  314.808014\n"
     ]
    }
   ],
   "source": [
    "for frame, grp in snail.groupby(\"video_frame\"):\n",
    "    print(f\"{frame}  {grp}\")\n",
    "    break"
   ]
  },
  {
   "cell_type": "code",
   "execution_count": 31,
   "id": "a1460ae0",
   "metadata": {},
   "outputs": [
    {
     "data": {
      "text/plain": [
       "[1212811043,\n",
       " 1260392287,\n",
       " 1351098077,\n",
       " 1408652858,\n",
       " 143861384,\n",
       " 1596473327,\n",
       " 1643942986,\n",
       " 1717182687,\n",
       " 2078515636,\n",
       " 209576908,\n",
       " 278643799,\n",
       " 351967631,\n",
       " 355542626,\n",
       " 44566106,\n",
       " 678426900,\n",
       " 705948978,\n",
       " 878123481]"
      ]
     },
     "execution_count": 31,
     "metadata": {},
     "output_type": "execute_result"
    }
   ],
   "source": [
    "video_ids = [int(v.split(\".\")[0]) for v in videos]\n",
    "video_ids"
   ]
  },
  {
   "cell_type": "code",
   "execution_count": 34,
   "id": "f253948d",
   "metadata": {},
   "outputs": [
    {
     "data": {
      "text/plain": [
       "[44566106,\n",
       " 143861384,\n",
       " 209576908,\n",
       " 278643799,\n",
       " 351967631,\n",
       " 355542626,\n",
       " 678426900,\n",
       " 705948978,\n",
       " 878123481,\n",
       " 1212811043,\n",
       " 1260392287,\n",
       " 1351098077,\n",
       " 1408652858,\n",
       " 1596473327,\n",
       " 1643942986,\n",
       " 1717182687,\n",
       " 2078515636]"
      ]
     },
     "execution_count": 34,
     "metadata": {},
     "output_type": "execute_result"
    }
   ],
   "source": [
    "group = train_metadata.groupby(\"lab_id\").get_group(\"AdaptableSnail\")\n",
    "grp_video_ids = group[\"video_id\"].unique().tolist()\n",
    "grp_video_ids"
   ]
  },
  {
   "cell_type": "code",
   "execution_count": 43,
   "id": "2a8a8a30",
   "metadata": {},
   "outputs": [
    {
     "data": {
      "text/plain": [
       "[True,\n",
       " True,\n",
       " True,\n",
       " True,\n",
       " True,\n",
       " True,\n",
       " True,\n",
       " True,\n",
       " True,\n",
       " True,\n",
       " True,\n",
       " True,\n",
       " True,\n",
       " True,\n",
       " True,\n",
       " True,\n",
       " True]"
      ]
     },
     "execution_count": 43,
     "metadata": {},
     "output_type": "execute_result"
    }
   ],
   "source": [
    "[id in grp_video_ids for id in video_ids]"
   ]
  },
  {
   "cell_type": "code",
   "execution_count": 44,
   "id": "c20ae771",
   "metadata": {},
   "outputs": [
    {
     "data": {
      "text/plain": [
       "['AdaptableSnail',\n",
       " 'BoisterousParrot',\n",
       " 'CRIM13',\n",
       " 'CalMS21_supplemental',\n",
       " 'CalMS21_task1',\n",
       " 'CalMS21_task2',\n",
       " 'CautiousGiraffe',\n",
       " 'DeliriousFly',\n",
       " 'ElegantMink',\n",
       " 'GroovyShrew',\n",
       " 'InvincibleJellyfish',\n",
       " 'JovialSwallow',\n",
       " 'LyricalHare',\n",
       " 'NiftyGoldfinch',\n",
       " 'PleasantMeerkat',\n",
       " 'ReflectiveManatee',\n",
       " 'SparklingTapir',\n",
       " 'TranquilPanther',\n",
       " 'UppityFerret']"
      ]
     },
     "execution_count": 44,
     "metadata": {},
     "output_type": "execute_result"
    }
   ],
   "source": [
    "annotation_path = os.path.join(path, \"train_annotation\")\n",
    "ds_annotation_names = get_file_names(annotation_path)\n",
    "ds_annotation_names"
   ]
  },
  {
   "cell_type": "code",
   "execution_count": 46,
   "id": "1e25a92a",
   "metadata": {},
   "outputs": [
    {
     "data": {
      "text/plain": [
       "['1212811043.parquet',\n",
       " '1260392287.parquet',\n",
       " '1351098077.parquet',\n",
       " '1408652858.parquet',\n",
       " '143861384.parquet',\n",
       " '1596473327.parquet',\n",
       " '1643942986.parquet',\n",
       " '1717182687.parquet',\n",
       " '2078515636.parquet',\n",
       " '209576908.parquet',\n",
       " '278643799.parquet',\n",
       " '351967631.parquet',\n",
       " '355542626.parquet',\n",
       " '44566106.parquet',\n",
       " '678426900.parquet',\n",
       " '705948978.parquet',\n",
       " '878123481.parquet']"
      ]
     },
     "execution_count": 46,
     "metadata": {},
     "output_type": "execute_result"
    }
   ],
   "source": [
    "ds_ann_path = os.path.join(annotation_path, ds_annotation_names[0])\n",
    "ds_annotation_files = get_file_names(ds_ann_path)\n",
    "ds_annotation_files"
   ]
  },
  {
   "cell_type": "code",
   "execution_count": 41,
   "id": "8319943f",
   "metadata": {},
   "outputs": [
    {
     "data": {
      "text/plain": [
       "[True,\n",
       " True,\n",
       " True,\n",
       " True,\n",
       " True,\n",
       " True,\n",
       " True,\n",
       " True,\n",
       " True,\n",
       " True,\n",
       " True,\n",
       " True,\n",
       " True,\n",
       " True,\n",
       " True,\n",
       " True,\n",
       " True]"
      ]
     },
     "execution_count": 41,
     "metadata": {},
     "output_type": "execute_result"
    }
   ],
   "source": [
    "video_ids_ann = [int(a.split(\".\")[0]) for a in ds_annotation_files]\n",
    "[x in video_ids for x in video_ids_ann]"
   ]
  },
  {
   "cell_type": "code",
   "execution_count": 49,
   "id": "655ce789",
   "metadata": {},
   "outputs": [
    {
     "data": {
      "text/html": [
       "<div>\n",
       "<style scoped>\n",
       "    .dataframe tbody tr th:only-of-type {\n",
       "        vertical-align: middle;\n",
       "    }\n",
       "\n",
       "    .dataframe tbody tr th {\n",
       "        vertical-align: top;\n",
       "    }\n",
       "\n",
       "    .dataframe thead th {\n",
       "        text-align: right;\n",
       "    }\n",
       "</style>\n",
       "<table border=\"1\" class=\"dataframe\">\n",
       "  <thead>\n",
       "    <tr style=\"text-align: right;\">\n",
       "      <th></th>\n",
       "      <th>agent_id</th>\n",
       "      <th>target_id</th>\n",
       "      <th>action</th>\n",
       "      <th>start_frame</th>\n",
       "      <th>stop_frame</th>\n",
       "    </tr>\n",
       "  </thead>\n",
       "  <tbody>\n",
       "    <tr>\n",
       "      <th>0</th>\n",
       "      <td>1</td>\n",
       "      <td>3</td>\n",
       "      <td>chase</td>\n",
       "      <td>2</td>\n",
       "      <td>54</td>\n",
       "    </tr>\n",
       "    <tr>\n",
       "      <th>1</th>\n",
       "      <td>1</td>\n",
       "      <td>3</td>\n",
       "      <td>chase</td>\n",
       "      <td>128</td>\n",
       "      <td>234</td>\n",
       "    </tr>\n",
       "    <tr>\n",
       "      <th>2</th>\n",
       "      <td>3</td>\n",
       "      <td>2</td>\n",
       "      <td>avoid</td>\n",
       "      <td>324</td>\n",
       "      <td>342</td>\n",
       "    </tr>\n",
       "    <tr>\n",
       "      <th>3</th>\n",
       "      <td>3</td>\n",
       "      <td>1</td>\n",
       "      <td>avoid</td>\n",
       "      <td>324</td>\n",
       "      <td>342</td>\n",
       "    </tr>\n",
       "    <tr>\n",
       "      <th>4</th>\n",
       "      <td>1</td>\n",
       "      <td>2</td>\n",
       "      <td>chase</td>\n",
       "      <td>942</td>\n",
       "      <td>1052</td>\n",
       "    </tr>\n",
       "  </tbody>\n",
       "</table>\n",
       "</div>"
      ],
      "text/plain": [
       "   agent_id  target_id action  start_frame  stop_frame\n",
       "0         1          3  chase            2          54\n",
       "1         1          3  chase          128         234\n",
       "2         3          2  avoid          324         342\n",
       "3         3          1  avoid          324         342\n",
       "4         1          2  chase          942        1052"
      ]
     },
     "execution_count": 49,
     "metadata": {},
     "output_type": "execute_result"
    }
   ],
   "source": [
    "ann = get_parqt(os.path.join(ds_ann_path, ds_annotation_files[0]))\n",
    "ann.head()"
   ]
  },
  {
   "cell_type": "code",
   "execution_count": 50,
   "id": "800829dd",
   "metadata": {},
   "outputs": [
    {
     "data": {
      "text/html": [
       "<div>\n",
       "<style scoped>\n",
       "    .dataframe tbody tr th:only-of-type {\n",
       "        vertical-align: middle;\n",
       "    }\n",
       "\n",
       "    .dataframe tbody tr th {\n",
       "        vertical-align: top;\n",
       "    }\n",
       "\n",
       "    .dataframe thead th {\n",
       "        text-align: right;\n",
       "    }\n",
       "</style>\n",
       "<table border=\"1\" class=\"dataframe\">\n",
       "  <thead>\n",
       "    <tr style=\"text-align: right;\">\n",
       "      <th></th>\n",
       "      <th>agent_id</th>\n",
       "      <th>target_id</th>\n",
       "      <th>action</th>\n",
       "      <th>start_frame</th>\n",
       "      <th>stop_frame</th>\n",
       "    </tr>\n",
       "  </thead>\n",
       "  <tbody>\n",
       "    <tr>\n",
       "      <th>0</th>\n",
       "      <td>1</td>\n",
       "      <td>3</td>\n",
       "      <td>chase</td>\n",
       "      <td>2</td>\n",
       "      <td>54</td>\n",
       "    </tr>\n",
       "    <tr>\n",
       "      <th>1</th>\n",
       "      <td>1</td>\n",
       "      <td>3</td>\n",
       "      <td>chase</td>\n",
       "      <td>128</td>\n",
       "      <td>234</td>\n",
       "    </tr>\n",
       "    <tr>\n",
       "      <th>2</th>\n",
       "      <td>3</td>\n",
       "      <td>2</td>\n",
       "      <td>avoid</td>\n",
       "      <td>324</td>\n",
       "      <td>342</td>\n",
       "    </tr>\n",
       "    <tr>\n",
       "      <th>3</th>\n",
       "      <td>3</td>\n",
       "      <td>1</td>\n",
       "      <td>avoid</td>\n",
       "      <td>324</td>\n",
       "      <td>342</td>\n",
       "    </tr>\n",
       "    <tr>\n",
       "      <th>4</th>\n",
       "      <td>1</td>\n",
       "      <td>2</td>\n",
       "      <td>chase</td>\n",
       "      <td>942</td>\n",
       "      <td>1052</td>\n",
       "    </tr>\n",
       "    <tr>\n",
       "      <th>...</th>\n",
       "      <td>...</td>\n",
       "      <td>...</td>\n",
       "      <td>...</td>\n",
       "      <td>...</td>\n",
       "      <td>...</td>\n",
       "    </tr>\n",
       "    <tr>\n",
       "      <th>365</th>\n",
       "      <td>1</td>\n",
       "      <td>2</td>\n",
       "      <td>chase</td>\n",
       "      <td>86668</td>\n",
       "      <td>86689</td>\n",
       "    </tr>\n",
       "    <tr>\n",
       "      <th>366</th>\n",
       "      <td>1</td>\n",
       "      <td>4</td>\n",
       "      <td>avoid</td>\n",
       "      <td>86815</td>\n",
       "      <td>86845</td>\n",
       "    </tr>\n",
       "    <tr>\n",
       "      <th>367</th>\n",
       "      <td>1</td>\n",
       "      <td>3</td>\n",
       "      <td>attack</td>\n",
       "      <td>89171</td>\n",
       "      <td>89194</td>\n",
       "    </tr>\n",
       "    <tr>\n",
       "      <th>368</th>\n",
       "      <td>4</td>\n",
       "      <td>2</td>\n",
       "      <td>avoid</td>\n",
       "      <td>89272</td>\n",
       "      <td>89299</td>\n",
       "    </tr>\n",
       "    <tr>\n",
       "      <th>369</th>\n",
       "      <td>1</td>\n",
       "      <td>4</td>\n",
       "      <td>attack</td>\n",
       "      <td>89447</td>\n",
       "      <td>89467</td>\n",
       "    </tr>\n",
       "  </tbody>\n",
       "</table>\n",
       "<p>370 rows × 5 columns</p>\n",
       "</div>"
      ],
      "text/plain": [
       "     agent_id  target_id  action  start_frame  stop_frame\n",
       "0           1          3   chase            2          54\n",
       "1           1          3   chase          128         234\n",
       "2           3          2   avoid          324         342\n",
       "3           3          1   avoid          324         342\n",
       "4           1          2   chase          942        1052\n",
       "..        ...        ...     ...          ...         ...\n",
       "365         1          2   chase        86668       86689\n",
       "366         1          4   avoid        86815       86845\n",
       "367         1          3  attack        89171       89194\n",
       "368         4          2   avoid        89272       89299\n",
       "369         1          4  attack        89447       89467\n",
       "\n",
       "[370 rows x 5 columns]"
      ]
     },
     "execution_count": 50,
     "metadata": {},
     "output_type": "execute_result"
    }
   ],
   "source": [
    "ann"
   ]
  },
  {
   "cell_type": "code",
   "execution_count": 51,
   "id": "2caae932",
   "metadata": {},
   "outputs": [
    {
     "data": {
      "text/plain": [
       "array(['chase', 'avoid', 'attack', 'chaseattack'], dtype=object)"
      ]
     },
     "execution_count": 51,
     "metadata": {},
     "output_type": "execute_result"
    }
   ],
   "source": [
    "ann[\"action\"].unique()"
   ]
  },
  {
   "cell_type": "code",
   "execution_count": 54,
   "id": "19af7f6c",
   "metadata": {},
   "outputs": [
    {
     "data": {
      "text/html": [
       "<div>\n",
       "<style scoped>\n",
       "    .dataframe tbody tr th:only-of-type {\n",
       "        vertical-align: middle;\n",
       "    }\n",
       "\n",
       "    .dataframe tbody tr th {\n",
       "        vertical-align: top;\n",
       "    }\n",
       "\n",
       "    .dataframe thead th {\n",
       "        text-align: right;\n",
       "    }\n",
       "</style>\n",
       "<table border=\"1\" class=\"dataframe\">\n",
       "  <thead>\n",
       "    <tr style=\"text-align: right;\">\n",
       "      <th></th>\n",
       "      <th>row_id</th>\n",
       "      <th>video_id</th>\n",
       "      <th>agent_id</th>\n",
       "      <th>target_id</th>\n",
       "      <th>action</th>\n",
       "      <th>start_frame</th>\n",
       "      <th>stop_frame</th>\n",
       "    </tr>\n",
       "  </thead>\n",
       "  <tbody>\n",
       "    <tr>\n",
       "      <th>0</th>\n",
       "      <td>0</td>\n",
       "      <td>438887472</td>\n",
       "      <td>mouse1</td>\n",
       "      <td>mouse2</td>\n",
       "      <td>sniff</td>\n",
       "      <td>0</td>\n",
       "      <td>1</td>\n",
       "    </tr>\n",
       "  </tbody>\n",
       "</table>\n",
       "</div>"
      ],
      "text/plain": [
       "   row_id   video_id agent_id target_id action  start_frame  stop_frame\n",
       "0       0  438887472   mouse1    mouse2  sniff            0           1"
      ]
     },
     "execution_count": 54,
     "metadata": {},
     "output_type": "execute_result"
    }
   ],
   "source": [
    "sample = get_csv(os.path.join(path, \"sample_submission.csv\"))\n",
    "sample.head()"
   ]
  },
  {
   "cell_type": "code",
   "execution_count": 60,
   "id": "13292940",
   "metadata": {},
   "outputs": [
    {
     "data": {
      "text/html": [
       "<div>\n",
       "<style scoped>\n",
       "    .dataframe tbody tr th:only-of-type {\n",
       "        vertical-align: middle;\n",
       "    }\n",
       "\n",
       "    .dataframe tbody tr th {\n",
       "        vertical-align: top;\n",
       "    }\n",
       "\n",
       "    .dataframe thead th {\n",
       "        text-align: right;\n",
       "    }\n",
       "</style>\n",
       "<table border=\"1\" class=\"dataframe\">\n",
       "  <thead>\n",
       "    <tr style=\"text-align: right;\">\n",
       "      <th></th>\n",
       "      <th>video_frame</th>\n",
       "      <th>mouse_id</th>\n",
       "      <th>bodypart</th>\n",
       "      <th>x</th>\n",
       "      <th>y</th>\n",
       "    </tr>\n",
       "  </thead>\n",
       "  <tbody>\n",
       "    <tr>\n",
       "      <th>0</th>\n",
       "      <td>0</td>\n",
       "      <td>1</td>\n",
       "      <td>body_center</td>\n",
       "      <td>909.577026</td>\n",
       "      <td>960.265991</td>\n",
       "    </tr>\n",
       "    <tr>\n",
       "      <th>1</th>\n",
       "      <td>0</td>\n",
       "      <td>1</td>\n",
       "      <td>ear_left</td>\n",
       "      <td>861.718018</td>\n",
       "      <td>988.614014</td>\n",
       "    </tr>\n",
       "    <tr>\n",
       "      <th>2</th>\n",
       "      <td>0</td>\n",
       "      <td>1</td>\n",
       "      <td>ear_right</td>\n",
       "      <td>882.953003</td>\n",
       "      <td>934.760010</td>\n",
       "    </tr>\n",
       "    <tr>\n",
       "      <th>3</th>\n",
       "      <td>0</td>\n",
       "      <td>1</td>\n",
       "      <td>headpiece_bottombackright</td>\n",
       "      <td>828.593994</td>\n",
       "      <td>997.226013</td>\n",
       "    </tr>\n",
       "    <tr>\n",
       "      <th>4</th>\n",
       "      <td>0</td>\n",
       "      <td>1</td>\n",
       "      <td>headpiece_bottomfrontleft</td>\n",
       "      <td>843.098022</td>\n",
       "      <td>948.182983</td>\n",
       "    </tr>\n",
       "  </tbody>\n",
       "</table>\n",
       "</div>"
      ],
      "text/plain": [
       "   video_frame  mouse_id                   bodypart           x           y\n",
       "0            0         1                body_center  909.577026  960.265991\n",
       "1            0         1                   ear_left  861.718018  988.614014\n",
       "2            0         1                  ear_right  882.953003  934.760010\n",
       "3            0         1  headpiece_bottombackright  828.593994  997.226013\n",
       "4            0         1  headpiece_bottomfrontleft  843.098022  948.182983"
      ]
     },
     "execution_count": 60,
     "metadata": {},
     "output_type": "execute_result"
    }
   ],
   "source": [
    "test = get_parqt(os.path.join(path, \"test_tracking/AdaptableSnail/438887472.parquet\"))\n",
    "test.head()"
   ]
  },
  {
   "cell_type": "code",
   "execution_count": 64,
   "id": "98edabac",
   "metadata": {},
   "outputs": [
    {
     "data": {
      "text/html": [
       "<div>\n",
       "<style scoped>\n",
       "    .dataframe tbody tr th:only-of-type {\n",
       "        vertical-align: middle;\n",
       "    }\n",
       "\n",
       "    .dataframe tbody tr th {\n",
       "        vertical-align: top;\n",
       "    }\n",
       "\n",
       "    .dataframe thead th {\n",
       "        text-align: right;\n",
       "    }\n",
       "</style>\n",
       "<table border=\"1\" class=\"dataframe\">\n",
       "  <thead>\n",
       "    <tr style=\"text-align: right;\">\n",
       "      <th></th>\n",
       "      <th>lab_id</th>\n",
       "      <th>video_id</th>\n",
       "      <th>mouse1_strain</th>\n",
       "      <th>mouse1_color</th>\n",
       "      <th>mouse1_sex</th>\n",
       "      <th>mouse1_id</th>\n",
       "      <th>mouse1_age</th>\n",
       "      <th>mouse1_condition</th>\n",
       "      <th>mouse2_strain</th>\n",
       "      <th>mouse2_color</th>\n",
       "      <th>...</th>\n",
       "      <th>pix_per_cm_approx</th>\n",
       "      <th>video_width_pix</th>\n",
       "      <th>video_height_pix</th>\n",
       "      <th>arena_width_cm</th>\n",
       "      <th>arena_height_cm</th>\n",
       "      <th>arena_shape</th>\n",
       "      <th>arena_type</th>\n",
       "      <th>body_parts_tracked</th>\n",
       "      <th>behaviors_labeled</th>\n",
       "      <th>tracking_method</th>\n",
       "    </tr>\n",
       "  </thead>\n",
       "  <tbody>\n",
       "    <tr>\n",
       "      <th>0</th>\n",
       "      <td>AdaptableSnail</td>\n",
       "      <td>438887472</td>\n",
       "      <td>CD-1 (ICR)</td>\n",
       "      <td>white</td>\n",
       "      <td>male</td>\n",
       "      <td>13.0</td>\n",
       "      <td>8-12 weeks</td>\n",
       "      <td>wireless device</td>\n",
       "      <td>CD-1 (ICR)</td>\n",
       "      <td>white</td>\n",
       "      <td>...</td>\n",
       "      <td>16.0</td>\n",
       "      <td>1214</td>\n",
       "      <td>1090</td>\n",
       "      <td>60.0</td>\n",
       "      <td>60.0</td>\n",
       "      <td>square</td>\n",
       "      <td>familiar</td>\n",
       "      <td>[\"body_center\", \"ear_left\", \"ear_right\", \"head...</td>\n",
       "      <td>[\"mouse1,mouse2,approach\", \"mouse1,mouse2,atta...</td>\n",
       "      <td>DeepLabCut</td>\n",
       "    </tr>\n",
       "  </tbody>\n",
       "</table>\n",
       "<p>1 rows × 38 columns</p>\n",
       "</div>"
      ],
      "text/plain": [
       "           lab_id   video_id mouse1_strain mouse1_color mouse1_sex  mouse1_id  \\\n",
       "0  AdaptableSnail  438887472    CD-1 (ICR)        white       male       13.0   \n",
       "\n",
       "   mouse1_age mouse1_condition mouse2_strain mouse2_color  ...  \\\n",
       "0  8-12 weeks  wireless device    CD-1 (ICR)        white  ...   \n",
       "\n",
       "  pix_per_cm_approx  video_width_pix video_height_pix arena_width_cm  \\\n",
       "0              16.0             1214             1090           60.0   \n",
       "\n",
       "  arena_height_cm arena_shape arena_type  \\\n",
       "0            60.0      square   familiar   \n",
       "\n",
       "                                  body_parts_tracked  \\\n",
       "0  [\"body_center\", \"ear_left\", \"ear_right\", \"head...   \n",
       "\n",
       "                                   behaviors_labeled tracking_method  \n",
       "0  [\"mouse1,mouse2,approach\", \"mouse1,mouse2,atta...      DeepLabCut  \n",
       "\n",
       "[1 rows x 38 columns]"
      ]
     },
     "execution_count": 64,
     "metadata": {},
     "output_type": "execute_result"
    }
   ],
   "source": [
    "test_metadata = get_csv(os.path.join(path, \"test.csv\"))\n",
    "test_metadata.head()"
   ]
  },
  {
   "cell_type": "code",
   "execution_count": 11,
   "id": "6b9badc2",
   "metadata": {},
   "outputs": [
    {
     "data": {
      "text/plain": [
       "['sample_submission.csv',\n",
       " 'test.csv',\n",
       " 'test_tracking',\n",
       " 'train.csv',\n",
       " 'train_annotation',\n",
       " 'train_tracking']"
      ]
     },
     "execution_count": 11,
     "metadata": {},
     "output_type": "execute_result"
    }
   ],
   "source": [
    "get_file_names(path)"
   ]
  },
  {
   "cell_type": "code",
   "execution_count": 26,
   "id": "408c7dc1",
   "metadata": {},
   "outputs": [
    {
     "data": {
      "text/html": [
       "<div>\n",
       "<style scoped>\n",
       "    .dataframe tbody tr th:only-of-type {\n",
       "        vertical-align: middle;\n",
       "    }\n",
       "\n",
       "    .dataframe tbody tr th {\n",
       "        vertical-align: top;\n",
       "    }\n",
       "\n",
       "    .dataframe thead th {\n",
       "        text-align: right;\n",
       "    }\n",
       "</style>\n",
       "<table border=\"1\" class=\"dataframe\">\n",
       "  <thead>\n",
       "    <tr style=\"text-align: right;\">\n",
       "      <th></th>\n",
       "      <th>video_frame</th>\n",
       "      <th>mouse_id</th>\n",
       "      <th>bodypart</th>\n",
       "      <th>x</th>\n",
       "      <th>y</th>\n",
       "    </tr>\n",
       "  </thead>\n",
       "  <tbody>\n",
       "    <tr>\n",
       "      <th>0</th>\n",
       "      <td>0</td>\n",
       "      <td>1</td>\n",
       "      <td>body_center</td>\n",
       "      <td>496.187012</td>\n",
       "      <td>376.475006</td>\n",
       "    </tr>\n",
       "    <tr>\n",
       "      <th>1</th>\n",
       "      <td>0</td>\n",
       "      <td>1</td>\n",
       "      <td>ear_left</td>\n",
       "      <td>494.059998</td>\n",
       "      <td>343.924011</td>\n",
       "    </tr>\n",
       "    <tr>\n",
       "      <th>2</th>\n",
       "      <td>0</td>\n",
       "      <td>1</td>\n",
       "      <td>ear_right</td>\n",
       "      <td>518.765015</td>\n",
       "      <td>367.362000</td>\n",
       "    </tr>\n",
       "    <tr>\n",
       "      <th>3</th>\n",
       "      <td>0</td>\n",
       "      <td>1</td>\n",
       "      <td>lateral_left</td>\n",
       "      <td>474.536987</td>\n",
       "      <td>370.563995</td>\n",
       "    </tr>\n",
       "    <tr>\n",
       "      <th>4</th>\n",
       "      <td>0</td>\n",
       "      <td>1</td>\n",
       "      <td>lateral_right</td>\n",
       "      <td>505.825012</td>\n",
       "      <td>394.937012</td>\n",
       "    </tr>\n",
       "    <tr>\n",
       "      <th>...</th>\n",
       "      <td>...</td>\n",
       "      <td>...</td>\n",
       "      <td>...</td>\n",
       "      <td>...</td>\n",
       "      <td>...</td>\n",
       "    </tr>\n",
       "    <tr>\n",
       "      <th>2677001</th>\n",
       "      <td>89975</td>\n",
       "      <td>4</td>\n",
       "      <td>lateral_right</td>\n",
       "      <td>348.324005</td>\n",
       "      <td>584.469971</td>\n",
       "    </tr>\n",
       "    <tr>\n",
       "      <th>2677002</th>\n",
       "      <td>89975</td>\n",
       "      <td>4</td>\n",
       "      <td>nose</td>\n",
       "      <td>420.062988</td>\n",
       "      <td>585.309998</td>\n",
       "    </tr>\n",
       "    <tr>\n",
       "      <th>2677003</th>\n",
       "      <td>89975</td>\n",
       "      <td>4</td>\n",
       "      <td>tail_base</td>\n",
       "      <td>323.226013</td>\n",
       "      <td>561.976990</td>\n",
       "    </tr>\n",
       "    <tr>\n",
       "      <th>2677004</th>\n",
       "      <td>89975</td>\n",
       "      <td>4</td>\n",
       "      <td>tail_midpoint</td>\n",
       "      <td>287.417999</td>\n",
       "      <td>552.995972</td>\n",
       "    </tr>\n",
       "    <tr>\n",
       "      <th>2677005</th>\n",
       "      <td>89975</td>\n",
       "      <td>4</td>\n",
       "      <td>tail_tip</td>\n",
       "      <td>236.660004</td>\n",
       "      <td>555.784973</td>\n",
       "    </tr>\n",
       "  </tbody>\n",
       "</table>\n",
       "<p>2677006 rows × 5 columns</p>\n",
       "</div>"
      ],
      "text/plain": [
       "         video_frame  mouse_id       bodypart           x           y\n",
       "0                  0         1    body_center  496.187012  376.475006\n",
       "1                  0         1       ear_left  494.059998  343.924011\n",
       "2                  0         1      ear_right  518.765015  367.362000\n",
       "3                  0         1   lateral_left  474.536987  370.563995\n",
       "4                  0         1  lateral_right  505.825012  394.937012\n",
       "...              ...       ...            ...         ...         ...\n",
       "2677001        89975         4  lateral_right  348.324005  584.469971\n",
       "2677002        89975         4           nose  420.062988  585.309998\n",
       "2677003        89975         4      tail_base  323.226013  561.976990\n",
       "2677004        89975         4  tail_midpoint  287.417999  552.995972\n",
       "2677005        89975         4       tail_tip  236.660004  555.784973\n",
       "\n",
       "[2677006 rows x 5 columns]"
      ]
     },
     "execution_count": 26,
     "metadata": {},
     "output_type": "execute_result"
    }
   ],
   "source": [
    "get_parqt(os.path.join(path, \"train_tracking\")+\"/AdaptableSnail\"+\"/1212811043.parquet\")"
   ]
  },
  {
   "cell_type": "code",
   "execution_count": 17,
   "id": "bf4e5094",
   "metadata": {},
   "outputs": [],
   "source": [
    "datasets_by_lab_id = {}\n",
    "\n",
    "for id, grp in train_metadata.groupby(\"lab_id\"):\n",
    "    datasets_by_lab_id[id] = grp"
   ]
  },
  {
   "cell_type": "code",
   "execution_count": 30,
   "id": "75625f1a",
   "metadata": {},
   "outputs": [
    {
     "name": "stdout",
     "output_type": "stream",
     "text": [
      "DeepLabCut AdaptableSnail\n",
      "DeepLabCut BoisterousParrot\n",
      "DeepLabCut CautiousGiraffe\n",
      "DeepLabCut DeliriousFly\n",
      "DeepLabCut LyricalHare\n",
      "DeepLabCut PleasantMeerkat\n",
      "DeepLabCut ReflectiveManatee\n",
      "DeepLabCut SparklingTapir\n",
      "DeepLabCut UppityFerret\n",
      "\n",
      "MARS CRIM13\n",
      "MARS CalMS21_supplemental\n",
      "MARS CalMS21_task1\n",
      "MARS CalMS21_task2\n",
      "MARS InvincibleJellyfish\n",
      "\n",
      "SLEAP ElegantMink\n",
      "SLEAP GroovyShrew\n",
      "SLEAP JovialSwallow\n",
      "SLEAP NiftyGoldfinch\n",
      "SLEAP TranquilPanther\n",
      "\n",
      "custom HRnet MABe22_keypoints\n",
      "custom HRnet MABe22_movies\n",
      "\n"
     ]
    }
   ],
   "source": [
    "datasets_by_tracking_method = {}\n",
    "\n",
    "for k, v in datasets_by_lab_id.items():\n",
    "    for method in v[\"tracking_method\"].unique():\n",
    "        if method not in datasets_by_tracking_method:\n",
    "            datasets_by_tracking_method[method] = [k]\n",
    "        else:\n",
    "            datasets_by_tracking_method[method].append(k)\n",
    "        \n",
    "for k, v in datasets_by_tracking_method.items():\n",
    "    for x in v:\n",
    "        print(k, x)\n",
    "    print()"
   ]
  },
  {
   "cell_type": "code",
   "execution_count": 26,
   "id": "3cd94198",
   "metadata": {},
   "outputs": [
    {
     "data": {
      "text/plain": [
       "['AdaptableSnail',\n",
       " 'BoisterousParrot',\n",
       " 'CRIM13',\n",
       " 'CalMS21_supplemental',\n",
       " 'CalMS21_task1',\n",
       " 'CalMS21_task2',\n",
       " 'CautiousGiraffe',\n",
       " 'DeliriousFly',\n",
       " 'ElegantMink',\n",
       " 'GroovyShrew',\n",
       " 'InvincibleJellyfish',\n",
       " 'JovialSwallow',\n",
       " 'LyricalHare',\n",
       " 'MABe22_keypoints',\n",
       " 'MABe22_movies',\n",
       " 'NiftyGoldfinch',\n",
       " 'PleasantMeerkat',\n",
       " 'ReflectiveManatee',\n",
       " 'SparklingTapir',\n",
       " 'TranquilPanther',\n",
       " 'UppityFerret']"
      ]
     },
     "execution_count": 26,
     "metadata": {},
     "output_type": "execute_result"
    }
   ],
   "source": [
    "metadata_by_lab = train_metadata.groupby(\"lab_id\")\n",
    "\n",
    "body_parts_by_lab = {}\n",
    "for id, grp in metadata_by_lab:\n",
    "    body_parts_by_lab[grp[\"lab_id\"].unique()[0]] = grp[\"body_parts_tracked\"]\n",
    "\n",
    "\n",
    "[k for k in body_parts_by_lab]"
   ]
  },
  {
   "cell_type": "code",
   "execution_count": 37,
   "id": "8477c8f4",
   "metadata": {},
   "outputs": [
    {
     "name": "stdout",
     "output_type": "stream",
     "text": [
      "Lab: AdaptableSnail\n",
      "  body_center: 17\n",
      "  ear_left: 17\n",
      "  ear_right: 17\n",
      "  headpiece_bottombackleft: 7\n",
      "  headpiece_bottombackright: 7\n",
      "  headpiece_bottomfrontleft: 7\n",
      "  headpiece_bottomfrontright: 7\n",
      "  headpiece_topbackleft: 7\n",
      "  headpiece_topbackright: 7\n",
      "  headpiece_topfrontleft: 7\n",
      "  headpiece_topfrontright: 7\n",
      "  lateral_left: 17\n",
      "  lateral_right: 17\n",
      "  neck: 17\n",
      "  nose: 17\n",
      "  tail_base: 17\n",
      "  tail_midpoint: 17\n",
      "  tail_tip: 17\n",
      "\n",
      "Lab: BoisterousParrot\n",
      "  body_center: 8\n",
      "  ear_left: 8\n",
      "  ear_right: 8\n",
      "  nose: 8\n",
      "  tail_base: 8\n",
      "\n",
      "Lab: CRIM13\n",
      "  ear_left: 21\n",
      "  ear_right: 21\n",
      "  hip_left: 21\n",
      "  hip_right: 21\n",
      "  neck: 21\n",
      "  nose: 21\n",
      "  tail_base: 21\n",
      "\n",
      "Lab: CalMS21_supplemental\n",
      "  ear_left: 297\n",
      "  ear_right: 297\n",
      "  hip_left: 297\n",
      "  hip_right: 297\n",
      "  neck: 297\n",
      "  nose: 297\n",
      "  tail_base: 297\n",
      "\n",
      "Lab: CalMS21_task1\n",
      "  ear_left: 101\n",
      "  ear_right: 101\n",
      "  hip_left: 101\n",
      "  hip_right: 101\n",
      "  neck: 101\n",
      "  nose: 101\n",
      "  tail_base: 101\n",
      "\n",
      "Lab: CalMS21_task2\n",
      "  ear_left: 76\n",
      "  ear_right: 76\n",
      "  hip_left: 76\n",
      "  hip_right: 76\n",
      "  neck: 76\n",
      "  nose: 76\n",
      "  tail_base: 76\n",
      "\n",
      "Lab: CautiousGiraffe\n",
      "  ear_left: 10\n",
      "  ear_right: 10\n",
      "  hip_left: 10\n",
      "  hip_right: 10\n",
      "  neck: 10\n",
      "  nose: 10\n",
      "  tail_base: 10\n",
      "\n",
      "Lab: DeliriousFly\n",
      "  body_center: 6\n",
      "  ear_left: 6\n",
      "  ear_right: 6\n",
      "  lateral_left: 6\n",
      "  lateral_right: 6\n",
      "  nose: 6\n",
      "  tail_base: 6\n",
      "  tail_tip: 6\n",
      "\n",
      "Lab: ElegantMink\n",
      "  ear_left: 19\n",
      "  ear_right: 19\n",
      "  hip_left: 19\n",
      "  hip_right: 19\n",
      "  neck: 19\n",
      "  nose: 19\n",
      "  tail_base: 19\n",
      "\n",
      "Lab: GroovyShrew\n",
      "  ear_left: 17\n",
      "  ear_right: 17\n",
      "  head: 17\n",
      "  tail_base: 17\n",
      "\n",
      "Lab: InvincibleJellyfish\n",
      "  ear_left: 33\n",
      "  ear_right: 33\n",
      "  hip_left: 33\n",
      "  hip_right: 33\n",
      "  neck: 33\n",
      "  nose: 33\n",
      "  tail_base: 33\n",
      "\n",
      "Lab: JovialSwallow\n",
      "  ear_left: 52\n",
      "  ear_right: 52\n",
      "  hip_left: 52\n",
      "  hip_right: 52\n",
      "  neck: 52\n",
      "  nose: 52\n",
      "  tail_base: 52\n",
      "\n",
      "Lab: LyricalHare\n",
      "  ear_left: 24\n",
      "  ear_right: 24\n",
      "  nose: 24\n",
      "  tail_base: 24\n",
      "  tail_tip: 24\n",
      "\n",
      "Lab: MABe22_keypoints\n",
      "  body_center: 5320\n",
      "  ear_left: 5320\n",
      "  ear_right: 5320\n",
      "  forepaw_left: 5320\n",
      "  forepaw_right: 5320\n",
      "  hindpaw_left: 5320\n",
      "  hindpaw_right: 5320\n",
      "  neck: 5320\n",
      "  nose: 5320\n",
      "  tail_base: 5320\n",
      "  tail_midpoint: 5320\n",
      "  tail_tip: 5320\n",
      "\n",
      "Lab: MABe22_movies\n",
      "  body_center: 2606\n",
      "  ear_left: 2606\n",
      "  ear_right: 2606\n",
      "  forepaw_left: 2606\n",
      "  forepaw_right: 2606\n",
      "  hindpaw_left: 2606\n",
      "  hindpaw_right: 2606\n",
      "  neck: 2606\n",
      "  nose: 2606\n",
      "  tail_base: 2606\n",
      "  tail_midpoint: 2606\n",
      "  tail_tip: 2606\n",
      "\n",
      "Lab: NiftyGoldfinch\n",
      "  body_center: 11\n",
      "  ear_left: 11\n",
      "  ear_right: 11\n",
      "  nose: 11\n",
      "  tail_base: 11\n",
      "\n",
      "Lab: PleasantMeerkat\n",
      "  body_center: 36\n",
      "  ear_left: 36\n",
      "  ear_right: 36\n",
      "  lateral_left: 36\n",
      "  lateral_right: 36\n",
      "  nose: 36\n",
      "  tail_base: 36\n",
      "  tail_tip: 36\n",
      "\n",
      "Lab: ReflectiveManatee\n",
      "  body_center: 20\n",
      "  ear_left: 20\n",
      "  ear_right: 20\n",
      "  lateral_left: 20\n",
      "  lateral_right: 20\n",
      "  nose: 20\n",
      "  tail_base: 20\n",
      "\n",
      "Lab: SparklingTapir\n",
      "  body_center: 69\n",
      "  ear_left: 69\n",
      "  ear_right: 69\n",
      "  lateral_left: 69\n",
      "  lateral_right: 69\n",
      "  nose: 69\n",
      "  tail_base: 69\n",
      "\n",
      "Lab: TranquilPanther\n",
      "  ear_left: 25\n",
      "  ear_right: 25\n",
      "  hip_left: 25\n",
      "  hip_right: 25\n",
      "  neck: 25\n",
      "  nose: 25\n",
      "  tail_base: 25\n",
      "\n",
      "Lab: UppityFerret\n",
      "  body_center: 21\n",
      "  ear_left: 21\n",
      "  ear_right: 21\n",
      "  hip_left: 21\n",
      "  hip_right: 21\n",
      "  lateral_left: 21\n",
      "  lateral_right: 21\n",
      "  nose: 21\n",
      "  spine_1: 21\n",
      "  spine_2: 21\n",
      "  tail_base: 21\n",
      "  tail_middle_1: 21\n",
      "  tail_middle_2: 21\n",
      "  tail_tip: 21\n",
      "\n"
     ]
    }
   ],
   "source": [
    "import json\n",
    "from collections import defaultdict\n",
    "\n",
    "body_parts_count_by_lab = defaultdict(lambda: defaultdict(int))\n",
    "\n",
    "for lab_id, body_parts_tracked in body_parts_by_lab.items():\n",
    "    for parts in body_parts_tracked:\n",
    "        for p in json.loads(parts):\n",
    "            body_parts_count_by_lab[lab_id][p] += 1\n",
    "                \n",
    "\n",
    "for lab_id, counts in body_parts_count_by_lab.items():\n",
    "    print(f\"Lab: {lab_id}\")\n",
    "    for part, count in counts.items():\n",
    "        print(f\"  {part}: {count}\")\n",
    "    print()\n"
   ]
  },
  {
   "cell_type": "code",
   "execution_count": 40,
   "id": "77831358",
   "metadata": {},
   "outputs": [
    {
     "name": "stdout",
     "output_type": "stream",
     "text": [
      "Common body parts across all labs (3):\n",
      "   ear_left\n",
      "   ear_right\n",
      "   tail_base\n"
     ]
    }
   ],
   "source": [
    "# Assuming body_parts_count_by_lab is a dict of dicts\n",
    "\n",
    "# Get a list of sets of body part names for each lab\n",
    "body_part_sets = [set(parts.keys()) for parts in body_parts_count_by_lab.values()]\n",
    "\n",
    "# Find intersection across all labs\n",
    "common_body_parts = set.intersection(*body_part_sets)\n",
    "\n",
    "print(f\"Common body parts across all labs ({len(common_body_parts)}):\")\n",
    "for part in sorted(common_body_parts):\n",
    "    print(\"  \", part)\n"
   ]
  },
  {
   "cell_type": "code",
   "execution_count": 60,
   "id": "5cf46772",
   "metadata": {},
   "outputs": [
    {
     "data": {
      "text/plain": [
       "{'body_center',\n",
       " 'ear_left',\n",
       " 'ear_right',\n",
       " 'forepaw_left',\n",
       " 'forepaw_right',\n",
       " 'head',\n",
       " 'headpiece_bottombackleft',\n",
       " 'headpiece_bottombackright',\n",
       " 'headpiece_bottomfrontleft',\n",
       " 'headpiece_bottomfrontright',\n",
       " 'headpiece_topbackleft',\n",
       " 'headpiece_topbackright',\n",
       " 'headpiece_topfrontleft',\n",
       " 'headpiece_topfrontright',\n",
       " 'hindpaw_left',\n",
       " 'hindpaw_right',\n",
       " 'hip_left',\n",
       " 'hip_right',\n",
       " 'lateral_left',\n",
       " 'lateral_right',\n",
       " 'neck',\n",
       " 'nose',\n",
       " 'spine_1',\n",
       " 'spine_2',\n",
       " 'tail_base',\n",
       " 'tail_middle_1',\n",
       " 'tail_middle_2',\n",
       " 'tail_midpoint',\n",
       " 'tail_tip'}"
      ]
     },
     "execution_count": 60,
     "metadata": {},
     "output_type": "execute_result"
    }
   ],
   "source": [
    "unique_body_parts = set()\n",
    "\n",
    "for lab, body_parts_count in body_parts_count_by_lab.items():\n",
    "    for body_parts in body_parts_count.keys():\n",
    "        unique_body_parts.add(body_parts)\n",
    "        \n",
    "unique_body_parts"
   ]
  },
  {
   "cell_type": "code",
   "execution_count": null,
   "id": "2f3cf5dd",
   "metadata": {},
   "outputs": [
    {
     "data": {
      "text/plain": [
       "[('GroovyShrew', 'head'),\n",
       " ('AdaptableSnail', 'headpiece_bottomfrontright'),\n",
       " ('AdaptableSnail', 'headpiece_bottomfrontleft'),\n",
       " ('UppityFerret', 'spine_2'),\n",
       " ('UppityFerret', 'tail_middle_2'),\n",
       " ('AdaptableSnail', 'headpiece_topbackleft'),\n",
       " ('AdaptableSnail', 'headpiece_topfrontleft'),\n",
       " ('AdaptableSnail', 'headpiece_bottombackright'),\n",
       " ('AdaptableSnail', 'headpiece_topfrontright'),\n",
       " ('UppityFerret', 'spine_1'),\n",
       " ('AdaptableSnail', 'headpiece_topbackright'),\n",
       " ('AdaptableSnail', 'headpiece_bottombackleft'),\n",
       " ('UppityFerret', 'tail_middle_1')]"
      ]
     },
     "execution_count": 69,
     "metadata": {},
     "output_type": "execute_result"
    }
   ],
   "source": [
    "exclusive_body_parts_by_lab = []\n",
    "\n",
    "for body_part in unique_body_parts:\n",
    "    flag = 0\n",
    "    lab_id = None\n",
    "    \n",
    "    for lab, body_parts_count in body_parts_count_by_lab.items():\n",
    "        if body_part in body_parts_count.keys():\n",
    "            flag += 1\n",
    "            \n",
    "            if flag == 1:\n",
    "                lab_id = lab\n",
    "        if flag > 1:\n",
    "            break\n",
    "        \n",
    "    if flag == 1:\n",
    "        exclusive_body_parts_by_lab.append((lab_id, body_part))\n",
    "        \n",
    "exclusive_body_parts_by_lab"
   ]
  },
  {
   "cell_type": "code",
   "execution_count": 106,
   "id": "7b7dc499",
   "metadata": {},
   "outputs": [],
   "source": [
    "labels_by_lab = defaultdict(set)\n",
    "\n",
    "for lab_id, grp in train_metadata.groupby(\"lab_id\"):\n",
    "    for labels in grp[\"behaviors_labeled\"]:\n",
    "        try:\n",
    "            pass\n",
    "            #print(json.loads(labels))\n",
    "        except Exception as e:\n",
    "            print(labels)\n",
    "            \n",
    "        #for label in json.loads(labels):\n",
    "        #    labels_by_lab[lab_id].add(label)\n",
    "\n"
   ]
  },
  {
   "cell_type": "code",
   "execution_count": 119,
   "id": "e6fd69d9",
   "metadata": {},
   "outputs": [
    {
     "data": {
      "text/plain": [
       "np.int64(7941)"
      ]
     },
     "execution_count": 119,
     "metadata": {},
     "output_type": "execute_result"
    }
   ],
   "source": [
    "train_metadata[\"behaviors_labeled\"].isna().sum()\n"
   ]
  },
  {
   "cell_type": "code",
   "execution_count": 137,
   "id": "ae158b94",
   "metadata": {},
   "outputs": [
    {
     "data": {
      "text/plain": [
       "7941"
      ]
     },
     "execution_count": 137,
     "metadata": {},
     "output_type": "execute_result"
    }
   ],
   "source": [
    "count = 0\n",
    "\n",
    "for idx, row in train_metadata.iterrows():\n",
    "    if pd.isna(row[\"behaviors_labeled\"]):\n",
    "        count += 1\n",
    "count"
   ]
  },
  {
   "cell_type": "code",
   "execution_count": null,
   "id": "dccaf728",
   "metadata": {},
   "outputs": [
    {
     "name": "stdout",
     "output_type": "stream",
     "text": [
      "[\"mouse1,mouse2,approach\", \"mouse1,mouse2,attack\", \"mouse1,mouse2,avoid\", \"mouse1,mouse2,chase\", \"mouse1,mouse2,chaseattack\", \"mouse1,mouse2,submit\", \"mouse1,mouse3,approach\", \"mouse1,mouse3,attack\", \"mouse1,mouse3,avoid\", \"mouse1,mouse3,chase\", \"mouse1,mouse3,chaseattack\", \"mouse1,mouse3,submit\", \"mouse1,mouse4,approach\", \"mouse1,mouse4,attack\", \"mouse1,mouse4,avoid\", \"mouse1,mouse4,chase\", \"mouse1,mouse4,chaseattack\", \"mouse1,mouse4,submit\", \"mouse1,self,rear\", \"mouse2,mouse1,approach\", \"mouse2,mouse1,attack\", \"mouse2,mouse1,avoid\", \"mouse2,mouse1,chase\", \"mouse2,mouse1,chaseattack\", \"mouse2,mouse1,submit\", \"mouse2,mouse3,approach\", \"mouse2,mouse3,attack\", \"mouse2,mouse3,avoid\", \"mouse2,mouse3,chase\", \"mouse2,mouse3,chaseattack\", \"mouse2,mouse3,submit\", \"mouse2,mouse4,approach\", \"mouse2,mouse4,attack\", \"mouse2,mouse4,avoid\", \"mouse2,mouse4,chase\", \"mouse2,mouse4,chaseattack\", \"mouse2,mouse4,submit\", \"mouse2,self,rear\", \"mouse3,mouse1,approach\", \"mouse3,mouse1,attack\", \"mouse3,mouse1,avoid\", \"mouse3,mouse1,chase\", \"mouse3,mouse1,chaseattack\", \"mouse3,mouse1,submit\", \"mouse3,mouse2,approach\", \"mouse3,mouse2,attack\", \"mouse3,mouse2,avoid\", \"mouse3,mouse2,chase\", \"mouse3,mouse2,chaseattack\", \"mouse3,mouse2,submit\", \"mouse3,mouse4,approach\", \"mouse3,mouse4,attack\", \"mouse3,mouse4,avoid\", \"mouse3,mouse4,chase\", \"mouse3,mouse4,chaseattack\", \"mouse3,mouse4,submit\", \"mouse3,self,rear\", \"mouse4,mouse1,approach\", \"mouse4,mouse1,attack\", \"mouse4,mouse1,avoid\", \"mouse4,mouse1,chase\", \"mouse4,mouse1,chaseattack\", \"mouse4,mouse1,submit\", \"mouse4,mouse2,approach\", \"mouse4,mouse2,attack\", \"mouse4,mouse2,avoid\", \"mouse4,mouse2,chase\", \"mouse4,mouse2,chaseattack\", \"mouse4,mouse2,submit\", \"mouse4,mouse3,approach\", \"mouse4,mouse3,attack\", \"mouse4,mouse3,avoid\", \"mouse4,mouse3,chase\", \"mouse4,mouse3,chaseattack\", \"mouse4,mouse3,submit\", \"mouse4,self,rear\"]\n"
     ]
    }
   ],
   "source": [
    "\n",
    "\n",
    "for lab_id, labels in labels_by_lab.items():\n",
    "    for label in labels:\n",
    "        print(label)\n",
    "        break\n",
    "    break"
   ]
  },
  {
   "cell_type": "code",
   "execution_count": 152,
   "id": "14297986",
   "metadata": {},
   "outputs": [
    {
     "data": {
      "text/plain": [
       "np.int64(848)"
      ]
     },
     "execution_count": 152,
     "metadata": {},
     "output_type": "execute_result"
    }
   ],
   "source": [
    "train_metadata.shape[0] - train_metadata[\"behaviors_labeled\"].isna().sum()"
   ]
  },
  {
   "cell_type": "code",
   "execution_count": null,
   "id": "a2c1e42d",
   "metadata": {},
   "outputs": [
    {
     "data": {
      "text/plain": [
       "['AdaptableSnail',\n",
       " 'BoisterousParrot',\n",
       " 'CRIM13',\n",
       " 'CalMS21_supplemental',\n",
       " 'CalMS21_task1',\n",
       " 'CalMS21_task2',\n",
       " 'CautiousGiraffe',\n",
       " 'DeliriousFly',\n",
       " 'ElegantMink',\n",
       " 'GroovyShrew',\n",
       " 'InvincibleJellyfish',\n",
       " 'JovialSwallow',\n",
       " 'LyricalHare',\n",
       " 'NiftyGoldfinch',\n",
       " 'PleasantMeerkat',\n",
       " 'ReflectiveManatee',\n",
       " 'SparklingTapir',\n",
       " 'TranquilPanther',\n",
       " 'UppityFerret']"
      ]
     },
     "execution_count": 170,
     "metadata": {},
     "output_type": "execute_result"
    }
   ],
   "source": [
    "annotation_path = path+\"/train_annotation\"\n",
    "annotation_files = get_file_names(annotation_path)"
   ]
  },
  {
   "cell_type": "code",
   "execution_count": 177,
   "id": "b33414bb",
   "metadata": {},
   "outputs": [],
   "source": [
    "for file in annotation_files:\n",
    "    for pq_file in get_file_names(annotation_path+f\"/{file}\"):\n",
    "        df = get_parqt(annotation_path+f\"/{file}/{pq_file}\")\n",
    "        #print(df[\"action\"].isna().any())"
   ]
  },
  {
   "cell_type": "code",
   "execution_count": 182,
   "id": "4de36604",
   "metadata": {},
   "outputs": [
    {
     "data": {
      "text/plain": [
       "defaultdict(int,\n",
       "            {'MABe22_keypoints': 5320,\n",
       "             'MABe22_movies': 2606,\n",
       "             'SparklingTapir': 15})"
      ]
     },
     "execution_count": 182,
     "metadata": {},
     "output_type": "execute_result"
    }
   ],
   "source": [
    "na_labs = defaultdict(int)\n",
    "\n",
    "for idx, row in train_metadata.iterrows():\n",
    "    if pd.isna(row[\"behaviors_labeled\"]):\n",
    "        na_labs[row[\"lab_id\"]] += 1\n",
    " \n",
    "na_labs"
   ]
  }
 ],
 "metadata": {
  "kernelspec": {
   "display_name": "Python 3",
   "language": "python",
   "name": "python3"
  },
  "language_info": {
   "codemirror_mode": {
    "name": "ipython",
    "version": 3
   },
   "file_extension": ".py",
   "mimetype": "text/x-python",
   "name": "python",
   "nbconvert_exporter": "python",
   "pygments_lexer": "ipython3",
   "version": "3.13.3"
  }
 },
 "nbformat": 4,
 "nbformat_minor": 5
}
