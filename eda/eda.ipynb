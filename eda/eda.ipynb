{
 "cells": [
  {
   "cell_type": "code",
   "execution_count": 2,
   "id": "e433647f",
   "metadata": {},
   "outputs": [
    {
     "name": "stdout",
     "output_type": "stream",
     "text": [
      "/kaggle/working/mabe\n"
     ]
    }
   ],
   "source": [
    "cd mabe "
   ]
  },
  {
   "cell_type": "code",
   "execution_count": 3,
   "id": "cdf97ad4",
   "metadata": {},
   "outputs": [],
   "source": [
    "%load_ext autoreload\n",
    "%autoreload 2"
   ]
  },
  {
   "cell_type": "code",
   "execution_count": 4,
   "id": "56f86202",
   "metadata": {},
   "outputs": [
    {
     "data": {
      "text/plain": [
       "['sample_submission.csv',\n",
       " 'test.csv',\n",
       " 'test_tracking',\n",
       " 'train.csv',\n",
       " 'train_annotation',\n",
       " 'train_tracking']"
      ]
     },
     "execution_count": 4,
     "metadata": {},
     "output_type": "execute_result"
    }
   ],
   "source": [
    "from data_utils import *\n",
    "\n",
    "\n",
    "path = \"/kaggle/input/MABe-mouse-behavior-detection\"\n",
    "get_file_names(path)"
   ]
  },
  {
   "cell_type": "code",
   "execution_count": 9,
   "id": "eaa4a404",
   "metadata": {},
   "outputs": [
    {
     "data": {
      "text/html": [
       "<div>\n",
       "<style scoped>\n",
       "    .dataframe tbody tr th:only-of-type {\n",
       "        vertical-align: middle;\n",
       "    }\n",
       "\n",
       "    .dataframe tbody tr th {\n",
       "        vertical-align: top;\n",
       "    }\n",
       "\n",
       "    .dataframe thead th {\n",
       "        text-align: right;\n",
       "    }\n",
       "</style>\n",
       "<table border=\"1\" class=\"dataframe\">\n",
       "  <thead>\n",
       "    <tr style=\"text-align: right;\">\n",
       "      <th></th>\n",
       "      <th>lab_id</th>\n",
       "      <th>video_id</th>\n",
       "      <th>mouse1_strain</th>\n",
       "      <th>mouse1_color</th>\n",
       "      <th>mouse1_sex</th>\n",
       "      <th>mouse1_id</th>\n",
       "      <th>mouse1_age</th>\n",
       "      <th>mouse1_condition</th>\n",
       "      <th>mouse2_strain</th>\n",
       "      <th>mouse2_color</th>\n",
       "      <th>...</th>\n",
       "      <th>pix_per_cm_approx</th>\n",
       "      <th>video_width_pix</th>\n",
       "      <th>video_height_pix</th>\n",
       "      <th>arena_width_cm</th>\n",
       "      <th>arena_height_cm</th>\n",
       "      <th>arena_shape</th>\n",
       "      <th>arena_type</th>\n",
       "      <th>body_parts_tracked</th>\n",
       "      <th>behaviors_labeled</th>\n",
       "      <th>tracking_method</th>\n",
       "    </tr>\n",
       "  </thead>\n",
       "  <tbody>\n",
       "    <tr>\n",
       "      <th>0</th>\n",
       "      <td>AdaptableSnail</td>\n",
       "      <td>44566106</td>\n",
       "      <td>CD-1 (ICR)</td>\n",
       "      <td>white</td>\n",
       "      <td>male</td>\n",
       "      <td>10.0</td>\n",
       "      <td>8-12 weeks</td>\n",
       "      <td>wireless device</td>\n",
       "      <td>CD-1 (ICR)</td>\n",
       "      <td>white</td>\n",
       "      <td>...</td>\n",
       "      <td>16.0</td>\n",
       "      <td>1228</td>\n",
       "      <td>1068</td>\n",
       "      <td>60.0</td>\n",
       "      <td>60.0</td>\n",
       "      <td>square</td>\n",
       "      <td>familiar</td>\n",
       "      <td>[\"body_center\", \"ear_left\", \"ear_right\", \"head...</td>\n",
       "      <td>[\"mouse1,mouse2,approach\", \"mouse1,mouse2,atta...</td>\n",
       "      <td>DeepLabCut</td>\n",
       "    </tr>\n",
       "    <tr>\n",
       "      <th>1</th>\n",
       "      <td>AdaptableSnail</td>\n",
       "      <td>143861384</td>\n",
       "      <td>CD-1 (ICR)</td>\n",
       "      <td>white</td>\n",
       "      <td>male</td>\n",
       "      <td>3.0</td>\n",
       "      <td>8-12 weeks</td>\n",
       "      <td>NaN</td>\n",
       "      <td>CD-1 (ICR)</td>\n",
       "      <td>white</td>\n",
       "      <td>...</td>\n",
       "      <td>9.7</td>\n",
       "      <td>968</td>\n",
       "      <td>608</td>\n",
       "      <td>60.0</td>\n",
       "      <td>60.0</td>\n",
       "      <td>square</td>\n",
       "      <td>familiar</td>\n",
       "      <td>[\"body_center\", \"ear_left\", \"ear_right\", \"late...</td>\n",
       "      <td>[\"mouse1,mouse2,approach\", \"mouse1,mouse2,atta...</td>\n",
       "      <td>DeepLabCut</td>\n",
       "    </tr>\n",
       "    <tr>\n",
       "      <th>2</th>\n",
       "      <td>AdaptableSnail</td>\n",
       "      <td>209576908</td>\n",
       "      <td>CD-1 (ICR)</td>\n",
       "      <td>white</td>\n",
       "      <td>male</td>\n",
       "      <td>7.0</td>\n",
       "      <td>8-12 weeks</td>\n",
       "      <td>NaN</td>\n",
       "      <td>CD-1 (ICR)</td>\n",
       "      <td>white</td>\n",
       "      <td>...</td>\n",
       "      <td>16.0</td>\n",
       "      <td>1266</td>\n",
       "      <td>1100</td>\n",
       "      <td>60.0</td>\n",
       "      <td>60.0</td>\n",
       "      <td>square</td>\n",
       "      <td>familiar</td>\n",
       "      <td>[\"body_center\", \"ear_left\", \"ear_right\", \"late...</td>\n",
       "      <td>[\"mouse1,mouse2,approach\", \"mouse1,mouse2,atta...</td>\n",
       "      <td>DeepLabCut</td>\n",
       "    </tr>\n",
       "    <tr>\n",
       "      <th>3</th>\n",
       "      <td>AdaptableSnail</td>\n",
       "      <td>278643799</td>\n",
       "      <td>CD-1 (ICR)</td>\n",
       "      <td>white</td>\n",
       "      <td>male</td>\n",
       "      <td>11.0</td>\n",
       "      <td>8-12 weeks</td>\n",
       "      <td>wireless device</td>\n",
       "      <td>CD-1 (ICR)</td>\n",
       "      <td>white</td>\n",
       "      <td>...</td>\n",
       "      <td>16.0</td>\n",
       "      <td>1224</td>\n",
       "      <td>1100</td>\n",
       "      <td>60.0</td>\n",
       "      <td>60.0</td>\n",
       "      <td>square</td>\n",
       "      <td>familiar</td>\n",
       "      <td>[\"body_center\", \"ear_left\", \"ear_right\", \"head...</td>\n",
       "      <td>[\"mouse1,mouse2,approach\", \"mouse1,mouse2,atta...</td>\n",
       "      <td>DeepLabCut</td>\n",
       "    </tr>\n",
       "    <tr>\n",
       "      <th>4</th>\n",
       "      <td>AdaptableSnail</td>\n",
       "      <td>351967631</td>\n",
       "      <td>CD-1 (ICR)</td>\n",
       "      <td>white</td>\n",
       "      <td>male</td>\n",
       "      <td>14.0</td>\n",
       "      <td>8-12 weeks</td>\n",
       "      <td>NaN</td>\n",
       "      <td>CD-1 (ICR)</td>\n",
       "      <td>white</td>\n",
       "      <td>...</td>\n",
       "      <td>16.0</td>\n",
       "      <td>1204</td>\n",
       "      <td>1068</td>\n",
       "      <td>60.0</td>\n",
       "      <td>60.0</td>\n",
       "      <td>square</td>\n",
       "      <td>familiar</td>\n",
       "      <td>[\"body_center\", \"ear_left\", \"ear_right\", \"late...</td>\n",
       "      <td>[\"mouse1,mouse2,approach\", \"mouse1,mouse2,atta...</td>\n",
       "      <td>DeepLabCut</td>\n",
       "    </tr>\n",
       "  </tbody>\n",
       "</table>\n",
       "<p>5 rows × 38 columns</p>\n",
       "</div>"
      ],
      "text/plain": [
       "           lab_id   video_id mouse1_strain mouse1_color mouse1_sex  mouse1_id  \\\n",
       "0  AdaptableSnail   44566106    CD-1 (ICR)        white       male       10.0   \n",
       "1  AdaptableSnail  143861384    CD-1 (ICR)        white       male        3.0   \n",
       "2  AdaptableSnail  209576908    CD-1 (ICR)        white       male        7.0   \n",
       "3  AdaptableSnail  278643799    CD-1 (ICR)        white       male       11.0   \n",
       "4  AdaptableSnail  351967631    CD-1 (ICR)        white       male       14.0   \n",
       "\n",
       "   mouse1_age mouse1_condition mouse2_strain mouse2_color  ...  \\\n",
       "0  8-12 weeks  wireless device    CD-1 (ICR)        white  ...   \n",
       "1  8-12 weeks              NaN    CD-1 (ICR)        white  ...   \n",
       "2  8-12 weeks              NaN    CD-1 (ICR)        white  ...   \n",
       "3  8-12 weeks  wireless device    CD-1 (ICR)        white  ...   \n",
       "4  8-12 weeks              NaN    CD-1 (ICR)        white  ...   \n",
       "\n",
       "  pix_per_cm_approx  video_width_pix video_height_pix arena_width_cm  \\\n",
       "0              16.0             1228             1068           60.0   \n",
       "1               9.7              968              608           60.0   \n",
       "2              16.0             1266             1100           60.0   \n",
       "3              16.0             1224             1100           60.0   \n",
       "4              16.0             1204             1068           60.0   \n",
       "\n",
       "  arena_height_cm arena_shape arena_type  \\\n",
       "0            60.0      square   familiar   \n",
       "1            60.0      square   familiar   \n",
       "2            60.0      square   familiar   \n",
       "3            60.0      square   familiar   \n",
       "4            60.0      square   familiar   \n",
       "\n",
       "                                  body_parts_tracked  \\\n",
       "0  [\"body_center\", \"ear_left\", \"ear_right\", \"head...   \n",
       "1  [\"body_center\", \"ear_left\", \"ear_right\", \"late...   \n",
       "2  [\"body_center\", \"ear_left\", \"ear_right\", \"late...   \n",
       "3  [\"body_center\", \"ear_left\", \"ear_right\", \"head...   \n",
       "4  [\"body_center\", \"ear_left\", \"ear_right\", \"late...   \n",
       "\n",
       "                                   behaviors_labeled tracking_method  \n",
       "0  [\"mouse1,mouse2,approach\", \"mouse1,mouse2,atta...      DeepLabCut  \n",
       "1  [\"mouse1,mouse2,approach\", \"mouse1,mouse2,atta...      DeepLabCut  \n",
       "2  [\"mouse1,mouse2,approach\", \"mouse1,mouse2,atta...      DeepLabCut  \n",
       "3  [\"mouse1,mouse2,approach\", \"mouse1,mouse2,atta...      DeepLabCut  \n",
       "4  [\"mouse1,mouse2,approach\", \"mouse1,mouse2,atta...      DeepLabCut  \n",
       "\n",
       "[5 rows x 38 columns]"
      ]
     },
     "execution_count": 9,
     "metadata": {},
     "output_type": "execute_result"
    }
   ],
   "source": [
    "train_metadata = get_csv(\"/kaggle/input/MABe-mouse-behavior-detection/train.csv\")\n",
    "train_metadata.head()"
   ]
  },
  {
   "cell_type": "code",
   "execution_count": 7,
   "id": "bf67a994",
   "metadata": {},
   "outputs": [
    {
     "data": {
      "text/plain": [
       "['lab_id',\n",
       " 'video_id',\n",
       " 'mouse1_strain',\n",
       " 'mouse1_color',\n",
       " 'mouse1_sex',\n",
       " 'mouse1_id',\n",
       " 'mouse1_age',\n",
       " 'mouse1_condition',\n",
       " 'mouse2_strain',\n",
       " 'mouse2_color',\n",
       " 'mouse2_sex',\n",
       " 'mouse2_id',\n",
       " 'mouse2_age',\n",
       " 'mouse2_condition',\n",
       " 'mouse3_strain',\n",
       " 'mouse3_color',\n",
       " 'mouse3_sex',\n",
       " 'mouse3_id',\n",
       " 'mouse3_age',\n",
       " 'mouse3_condition',\n",
       " 'mouse4_strain',\n",
       " 'mouse4_color',\n",
       " 'mouse4_sex',\n",
       " 'mouse4_id',\n",
       " 'mouse4_age',\n",
       " 'mouse4_condition',\n",
       " 'frames_per_second',\n",
       " 'video_duration_sec',\n",
       " 'pix_per_cm_approx',\n",
       " 'video_width_pix',\n",
       " 'video_height_pix',\n",
       " 'arena_width_cm',\n",
       " 'arena_height_cm',\n",
       " 'arena_shape',\n",
       " 'arena_type',\n",
       " 'body_parts_tracked',\n",
       " 'behaviors_labeled',\n",
       " 'tracking_method']"
      ]
     },
     "execution_count": 7,
     "metadata": {},
     "output_type": "execute_result"
    }
   ],
   "source": [
    "train_metadata.columns.tolist()"
   ]
  },
  {
   "cell_type": "code",
   "execution_count": 4,
   "id": "9e32a701",
   "metadata": {},
   "outputs": [
    {
     "data": {
      "text/plain": [
       "['AdaptableSnail',\n",
       " 'BoisterousParrot',\n",
       " 'CRIM13',\n",
       " 'CalMS21_supplemental',\n",
       " 'CalMS21_task1',\n",
       " 'CalMS21_task2',\n",
       " 'CautiousGiraffe',\n",
       " 'DeliriousFly',\n",
       " 'ElegantMink',\n",
       " 'GroovyShrew',\n",
       " 'InvincibleJellyfish',\n",
       " 'JovialSwallow',\n",
       " 'LyricalHare',\n",
       " 'MABe22_keypoints',\n",
       " 'MABe22_movies',\n",
       " 'NiftyGoldfinch',\n",
       " 'PleasantMeerkat',\n",
       " 'ReflectiveManatee',\n",
       " 'SparklingTapir',\n",
       " 'TranquilPanther',\n",
       " 'UppityFerret']"
      ]
     },
     "execution_count": 4,
     "metadata": {},
     "output_type": "execute_result"
    }
   ],
   "source": [
    "train_metadata[\"lab_id\"].unique().tolist()"
   ]
  },
  {
   "cell_type": "code",
   "execution_count": 5,
   "id": "4e8ccb04",
   "metadata": {},
   "outputs": [
    {
     "name": "stdout",
     "output_type": "stream",
     "text": [
      "['CD-1 (ICR)' 'C57Bl/6N' 'C57Bl/6J' '129/SvEvTac' 'C57Bl/6J x Ai148'\n",
      " 'BTBR' 'CD1' 'CFW']\n",
      "\n",
      "['CD-1 (ICR)' 'C57Bl/6N' 'BALB/c' 'C57Bl/6J' '129/SvEvTac' 'CFW' 'BTBR'\n",
      " 'CD1']\n",
      "\n",
      "['CD-1 (ICR)' nan 'BTBR' 'C57Bl/6J']\n",
      "\n",
      "['CD-1 (ICR)' nan]\n",
      "\n"
     ]
    }
   ],
   "source": [
    "cols = [\"mouse1_strain\", \"mouse2_strain\", \"mouse3_strain\", \"mouse4_strain\"]\n",
    "for col in cols:\n",
    "    print(train_metadata[col].unique())\n",
    "    print()"
   ]
  },
  {
   "cell_type": "code",
   "execution_count": 6,
   "id": "21bd5dfc",
   "metadata": {},
   "outputs": [
    {
     "name": "stdout",
     "output_type": "stream",
     "text": [
      "mouse1_color\n",
      "black            5418\n",
      "black and tan    3262\n",
      "white             103\n",
      "brown               7\n",
      "Name: count, dtype: int64\n",
      "\n",
      "mouse2_color\n",
      "black            4832\n",
      "black and tan    3262\n",
      "white             692\n",
      "brown               4\n",
      "Name: count, dtype: int64\n",
      "\n",
      "mouse3_color\n",
      "black            4664\n",
      "black and tan    3262\n",
      "white              17\n",
      "Name: count, dtype: int64\n",
      "\n",
      "mouse4_color\n",
      "white    10\n",
      "Name: count, dtype: int64\n",
      "\n"
     ]
    }
   ],
   "source": [
    "cols = get_col_names(\"_color\")\n",
    "\n",
    "for col in cols:\n",
    "    #print(train_metadata[col].unique())\n",
    "    print(train_metadata[col].value_counts())\n",
    "    print()"
   ]
  },
  {
   "cell_type": "code",
   "execution_count": 7,
   "id": "99e4be64",
   "metadata": {},
   "outputs": [
    {
     "name": "stdout",
     "output_type": "stream",
     "text": [
      "mouse1_sex\n",
      "male      8729\n",
      "female      50\n",
      "Name: count, dtype: int64\n",
      "\n",
      "mouse2_sex\n",
      "male      8423\n",
      "female     319\n",
      "Name: count, dtype: int64\n",
      "\n",
      "mouse3_sex\n",
      "male    7943\n",
      "Name: count, dtype: int64\n",
      "\n",
      "mouse4_sex\n",
      "male    10\n",
      "Name: count, dtype: int64\n",
      "\n"
     ]
    }
   ],
   "source": [
    "cols = get_col_names(\"_sex\")\n",
    "\n",
    "for col in cols:\n",
    "    print(train_metadata[col].value_counts())\n",
    "    print()"
   ]
  },
  {
   "cell_type": "code",
   "execution_count": 8,
   "id": "52cf68b6",
   "metadata": {},
   "outputs": [
    {
     "name": "stdout",
     "output_type": "stream",
     "text": [
      "mouse1_id\n",
      "6.0     48\n",
      "4.0     44\n",
      "5.0     40\n",
      "3.0     35\n",
      "9.0     31\n",
      "        ..\n",
      "80.0     2\n",
      "62.0     2\n",
      "77.0     2\n",
      "76.0     2\n",
      "79.0     2\n",
      "Name: count, Length: 80, dtype: int64\n",
      "\n",
      "[10.  3.  7. 11. 14. 12.  6.  5.  1.  4.  2. 55. 72. 42. 60. 19. 36. 74.\n",
      " 70. 65. 59. 68. 75. 40. 49. 67. 69. 73. 37. 32. 76. 29. 54. 56. 39. 58.\n",
      " 62. 46. 18. 35. 34. 52. 28. 20. 38. 63. 53. 80. 30. 13. 23. 66.  9. 77.\n",
      " 71. 25. 47. 27. 22. 31. 79. 48. 61.  8. 33. 41. 17. 43. 51. 64. 50. 45.\n",
      " 15. 44. 26. 57. 21. 24. 78. 16. nan]\n",
      "\n",
      "mouse2_id\n",
      "12.0    9\n",
      "16.0    8\n",
      "20.0    8\n",
      "17.0    7\n",
      "18.0    7\n",
      "15.0    6\n",
      "8.0     4\n",
      "10.0    4\n",
      "28.0    4\n",
      "2.0     3\n",
      "14.0    3\n",
      "24.0    3\n",
      "13.0    3\n",
      "19.0    3\n",
      "26.0    3\n",
      "4.0     2\n",
      "21.0    2\n",
      "44.0    2\n",
      "25.0    2\n",
      "5.0     2\n",
      "42.0    2\n",
      "40.0    2\n",
      "50.0    2\n",
      "6.0     2\n",
      "53.0    1\n",
      "35.0    1\n",
      "38.0    1\n",
      "47.0    1\n",
      "33.0    1\n",
      "31.0    1\n",
      "7.0     1\n",
      "1.0     1\n",
      "3.0     1\n",
      "9.0     1\n",
      "22.0    1\n",
      "48.0    1\n",
      "30.0    1\n",
      "36.0    1\n",
      "32.0    1\n",
      "Name: count, dtype: int64\n",
      "\n",
      "[24. 17. 21. 25. 28. 26. 20. 19. 15. 18. 12.  9.  7. 10. nan 50. 36. 14.\n",
      " 40. 30.  8.  4. 42. 48.  2. 22. 32. 44. 16.  3.  6.  1.  5. 31. 47. 38.\n",
      " 35. 53. 33. 13.]\n",
      "\n",
      "mouse3_id\n",
      "29.0    3\n",
      "38.0    2\n",
      "35.0    2\n",
      "39.0    2\n",
      "42.0    2\n",
      "40.0    2\n",
      "31.0    1\n",
      "34.0    1\n",
      "33.0    1\n",
      "32.0    1\n",
      "Name: count, dtype: int64\n",
      "\n",
      "[38. 31. 35. 39. 42. 40. 34. 33. 29. 32. nan]\n",
      "\n",
      "mouse4_id\n",
      "51.0    2\n",
      "48.0    2\n",
      "52.0    2\n",
      "44.0    1\n",
      "47.0    1\n",
      "46.0    1\n",
      "45.0    1\n",
      "Name: count, dtype: int64\n",
      "\n",
      "[51. 44. 48. nan 52. 47. 46. 45.]\n",
      "\n"
     ]
    }
   ],
   "source": [
    "cols = get_col_names(\"_id\")\n",
    "\n",
    "for c in cols:\n",
    "    print(train_metadata[c].value_counts())\n",
    "    print()\n",
    "    print(train_metadata[c].unique())\n",
    "    print()"
   ]
  },
  {
   "cell_type": "code",
   "execution_count": 9,
   "id": "5103a879",
   "metadata": {},
   "outputs": [
    {
     "name": "stdout",
     "output_type": "stream",
     "text": [
      "mouse1_age\n",
      "10-20 weeks    7926\n",
      "> 40 weeks       53\n",
      "17-21 weeks      52\n",
      "8-12 weeks       50\n",
      "8-26 weeks       24\n",
      "8 weeks          21\n",
      "7-14 weeks        8\n",
      "12 weeks          6\n",
      "Name: count, dtype: int64\n",
      "\n",
      "mouse2_age\n",
      "10-20 weeks    7926\n",
      "6-12 weeks       53\n",
      "8-13 weeks       52\n",
      "8-12 weeks       50\n",
      "8-57 weeks       24\n",
      "4-6 weeks        21\n",
      "7-14 weeks        8\n",
      "12 weeks          6\n",
      "Name: count, dtype: int64\n",
      "\n",
      "mouse3_age\n",
      "10-20 weeks    7926\n",
      "8-12 weeks       17\n",
      "Name: count, dtype: int64\n",
      "\n",
      "mouse4_age\n",
      "8-12 weeks    11\n",
      "Name: count, dtype: int64\n",
      "\n"
     ]
    }
   ],
   "source": [
    "for c in get_col_names(\"_age\"):\n",
    "    print(train_metadata[c].value_counts())\n",
    "    print()"
   ]
  },
  {
   "cell_type": "code",
   "execution_count": 10,
   "id": "02b88ea6",
   "metadata": {},
   "outputs": [
    {
     "name": "stdout",
     "output_type": "stream",
     "text": [
      "mouse1_condition\n",
      "cabled device                122\n",
      "cable                         92\n",
      "estrus                        25\n",
      "wireless device               20\n",
      "day 2- 23:00 (lights off)     19\n",
      "                            ... \n",
      "day 2- 22:04 (lights off)      1\n",
      "day 2- 05:49 (lights off)      1\n",
      "day 4- 01:51 (lights off)      1\n",
      "day 4- 03:50 (lights off)      1\n",
      "day 0- 09:40 (lights on)       1\n",
      "Name: count, Length: 3752, dtype: int64\n",
      "\n",
      "mouse2_condition\n",
      "wireless device              20\n",
      "day 2- 23:00 (lights off)    19\n",
      "hormone primed               15\n",
      "cabled device                15\n",
      "day 4- 00:00 (lights off)    15\n",
      "                             ..\n",
      "day 0- 09:19 (lights on)      1\n",
      "day 3- 17:27 (lights on)      1\n",
      "day 2- 01:53 (lights off)     1\n",
      "day 0- 20:15 (lights off)     1\n",
      "day 2- 03:21 (lights off)     1\n",
      "Name: count, Length: 3748, dtype: int64\n",
      "\n",
      "mouse3_condition\n",
      "day 2- 23:00 (lights off)    19\n",
      "day 4- 00:00 (lights off)    15\n",
      "day 2- 03:00 (lights off)    14\n",
      "day 4- 03:00 (lights off)    14\n",
      "day 1- 05:00 (lights off)    14\n",
      "                             ..\n",
      "day 0- 09:19 (lights on)      1\n",
      "day 3- 17:27 (lights on)      1\n",
      "day 2- 01:53 (lights off)     1\n",
      "day 0- 20:15 (lights off)     1\n",
      "day 2- 03:21 (lights off)     1\n",
      "Name: count, Length: 3743, dtype: int64\n",
      "\n",
      "mouse4_condition\n",
      "wireless device    3\n",
      "Name: count, dtype: int64\n",
      "\n"
     ]
    }
   ],
   "source": [
    "for c in get_col_names(\"_condition\"):\n",
    "    print(train_metadata[c].value_counts())\n",
    "    print()"
   ]
  },
  {
   "cell_type": "code",
   "execution_count": 11,
   "id": "0628d14b",
   "metadata": {},
   "outputs": [
    {
     "data": {
      "text/plain": [
       "frames_per_second\n",
       "30.00     8548\n",
       "25.00       57\n",
       "10.00       52\n",
       "120.00      36\n",
       "45.00       36\n",
       "60.00       18\n",
       "50.00       17\n",
       "24.99       14\n",
       "60.01        5\n",
       "24.98        3\n",
       "120.02       2\n",
       "24.62        1\n",
       "24.36        1\n",
       "Name: count, dtype: int64"
      ]
     },
     "execution_count": 11,
     "metadata": {},
     "output_type": "execute_result"
    }
   ],
   "source": [
    "train_metadata[\"frames_per_second\"].value_counts()"
   ]
  },
  {
   "cell_type": "code",
   "execution_count": 12,
   "id": "e27f42a7",
   "metadata": {},
   "outputs": [
    {
     "data": {
      "text/plain": [
       "(30.40601478953356, 6.441435088939598)"
      ]
     },
     "execution_count": 12,
     "metadata": {},
     "output_type": "execute_result"
    }
   ],
   "source": [
    "train_metadata[\"frames_per_second\"].mean(), train_metadata[\"frames_per_second\"].std()"
   ]
  },
  {
   "cell_type": "code",
   "execution_count": 13,
   "id": "e64362f3",
   "metadata": {},
   "outputs": [
    {
     "data": {
      "text/plain": [
       "video_duration_sec\n",
       "60.0     7927\n",
       "600.0      59\n",
       "900.0      53\n",
       "600.1      18\n",
       "600.2      13\n",
       "         ... \n",
       "235.1       1\n",
       "909.8       1\n",
       "591.5       1\n",
       "330.8       1\n",
       "600.3       1\n",
       "Name: count, Length: 635, dtype: int64"
      ]
     },
     "execution_count": 13,
     "metadata": {},
     "output_type": "execute_result"
    }
   ],
   "source": [
    "train_metadata[\"video_duration_sec\"].value_counts()"
   ]
  },
  {
   "cell_type": "code",
   "execution_count": 14,
   "id": "74717464",
   "metadata": {},
   "outputs": [
    {
     "data": {
      "text/plain": [
       "(134.67042093287827, 637.0911103356581)"
      ]
     },
     "execution_count": 14,
     "metadata": {},
     "output_type": "execute_result"
    }
   ],
   "source": [
    "train_metadata[\"video_duration_sec\"].mean(), train_metadata[\"video_duration_sec\"].std()"
   ]
  },
  {
   "cell_type": "code",
   "execution_count": 15,
   "id": "99328bcf",
   "metadata": {},
   "outputs": [
    {
     "data": {
      "text/plain": [
       "pix_per_cm_approx\n",
       "11.70    7927\n",
       "18.33     474\n",
       "15.30      52\n",
       "32.00      44\n",
       "15.80      36\n",
       "         ... \n",
       "19.00       1\n",
       "49.00       1\n",
       "58.00       1\n",
       "63.00       1\n",
       "56.00       1\n",
       "Name: count, Length: 62, dtype: int64"
      ]
     },
     "execution_count": 15,
     "metadata": {},
     "output_type": "execute_result"
    }
   ],
   "source": [
    "train_metadata[\"pix_per_cm_approx\"].value_counts()"
   ]
  },
  {
   "cell_type": "code",
   "execution_count": 16,
   "id": "e84e72d1",
   "metadata": {},
   "outputs": [
    {
     "data": {
      "text/plain": [
       "(12.43936518771331, 3.42677313048401)"
      ]
     },
     "execution_count": 16,
     "metadata": {},
     "output_type": "execute_result"
    }
   ],
   "source": [
    "train_metadata[\"pix_per_cm_approx\"].mean(), train_metadata[\"pix_per_cm_approx\"].std()"
   ]
  },
  {
   "cell_type": "code",
   "execution_count": 17,
   "id": "68e3b894",
   "metadata": {},
   "outputs": [
    {
     "data": {
      "text/plain": [
       "video_width_pix\n",
       "800     7926\n",
       "1024     491\n",
       "400       53\n",
       "640       42\n",
       "560       24\n",
       "        ... \n",
       "404        1\n",
       "545        1\n",
       "406        1\n",
       "408        1\n",
       "734        1\n",
       "Name: count, Length: 70, dtype: int64"
      ]
     },
     "execution_count": 17,
     "metadata": {},
     "output_type": "execute_result"
    }
   ],
   "source": [
    "train_metadata[\"video_width_pix\"].value_counts()"
   ]
  },
  {
   "cell_type": "code",
   "execution_count": 18,
   "id": "bc9df8bb",
   "metadata": {},
   "outputs": [
    {
     "data": {
      "text/plain": [
       "(813.6845278725825, 109.44153074240984)"
      ]
     },
     "execution_count": 18,
     "metadata": {},
     "output_type": "execute_result"
    }
   ],
   "source": [
    "train_metadata[\"video_width_pix\"].mean(), train_metadata[\"video_width_pix\"].std()"
   ]
  },
  {
   "cell_type": "code",
   "execution_count": 19,
   "id": "91711050",
   "metadata": {},
   "outputs": [
    {
     "name": "stdout",
     "output_type": "stream",
     "text": [
      "video_height_pix\n",
      "800     7926\n",
      "570      474\n",
      "480      112\n",
      "680       24\n",
      "492       20\n",
      "        ... \n",
      "309        1\n",
      "1226       1\n",
      "310        1\n",
      "2014       1\n",
      "301        1\n",
      "Name: count, Length: 67, dtype: int64\n",
      "\n"
     ]
    },
    {
     "data": {
      "text/plain": [
       "(790.4981797497156, 134.40335677808915)"
      ]
     },
     "execution_count": 19,
     "metadata": {},
     "output_type": "execute_result"
    }
   ],
   "source": [
    "col = \"video_height_pix\"\n",
    "\n",
    "print(train_metadata[col].value_counts())\n",
    "print()\n",
    "train_metadata[col].mean(), train_metadata[col].std()"
   ]
  },
  {
   "cell_type": "code",
   "execution_count": 20,
   "id": "90ed3bda",
   "metadata": {},
   "outputs": [
    {
     "name": "stdout",
     "output_type": "stream",
     "text": [
      "arena_width_cm\n",
      "52.0     7926\n",
      "35.0      540\n",
      "19.0       53\n",
      "15.0       52\n",
      "33.0       47\n",
      "120.0      36\n",
      "28.0       33\n",
      "38.0       27\n",
      "30.8       24\n",
      "60.0       17\n",
      "12.7       11\n",
      "50.0       10\n",
      "45.0        8\n",
      "45.7        6\n",
      "Name: count, dtype: int64\n",
      "\n"
     ]
    },
    {
     "data": {
      "text/plain": [
       "(50.47703071672355, 7.5563815627102)"
      ]
     },
     "execution_count": 20,
     "metadata": {},
     "output_type": "execute_result"
    }
   ],
   "source": [
    "col = \"arena_width_cm\"\n",
    "\n",
    "print(train_metadata[col].value_counts())\n",
    "print()\n",
    "train_metadata[col].mean(), train_metadata[col].std()"
   ]
  },
  {
   "cell_type": "code",
   "execution_count": 21,
   "id": "ce8cb395",
   "metadata": {},
   "outputs": [
    {
     "name": "stdout",
     "output_type": "stream",
     "text": [
      "arena_height_cm\n",
      "52.0     7926\n",
      "15.0      495\n",
      "28.5       53\n",
      "35.0       52\n",
      "20.0       45\n",
      "120.0      36\n",
      "18.0       33\n",
      "19.0       28\n",
      "22.2       24\n",
      "38.0       21\n",
      "60.0       17\n",
      "22.0       11\n",
      "46.0       11\n",
      "50.0       10\n",
      "45.0        8\n",
      "16.0        8\n",
      "18.5        6\n",
      "12.0        6\n",
      "Name: count, dtype: int64\n",
      "\n"
     ]
    },
    {
     "data": {
      "text/plain": [
       "(49.32005688282138, 10.687761717836116)"
      ]
     },
     "execution_count": 21,
     "metadata": {},
     "output_type": "execute_result"
    }
   ],
   "source": [
    "col = \"arena_height_cm\"\n",
    "\n",
    "print(train_metadata[col].value_counts())\n",
    "print()\n",
    "train_metadata[col].mean(), train_metadata[col].std()"
   ]
  },
  {
   "cell_type": "code",
   "execution_count": 22,
   "id": "97ad8f66",
   "metadata": {},
   "outputs": [
    {
     "name": "stdout",
     "output_type": "stream",
     "text": [
      "arena_shape\n",
      "square               7961\n",
      "rectangular           772\n",
      "split rectangluar      36\n",
      "circular               21\n",
      "Name: count, dtype: int64\n"
     ]
    }
   ],
   "source": [
    "col = \"arena_shape\"\n",
    "print(train_metadata[col].value_counts())"
   ]
  },
  {
   "cell_type": "code",
   "execution_count": 23,
   "id": "fff87cd1",
   "metadata": {},
   "outputs": [
    {
     "name": "stdout",
     "output_type": "stream",
     "text": [
      "arena_type\n",
      "neutral                8017\n",
      "resident-intruder       692\n",
      "divided territories      36\n",
      "familiar                 17\n",
      "CSDS                     17\n",
      "Name: count, dtype: int64\n"
     ]
    }
   ],
   "source": [
    "col = \"arena_type\"\n",
    "print(train_metadata[col].value_counts())"
   ]
  },
  {
   "cell_type": "code",
   "execution_count": 24,
   "id": "608e8c23",
   "metadata": {},
   "outputs": [
    {
     "name": "stdout",
     "output_type": "stream",
     "text": [
      "body_parts_tracked\n",
      "[\"body_center\", \"ear_left\", \"ear_right\", \"forepaw_left\", \"forepaw_right\", \"hindpaw_left\", \"hindpaw_right\", \"neck\", \"nose\", \"tail_base\", \"tail_midpoint\", \"tail_tip\"]                                                                                                                                                                                               7926\n",
      "[\"ear_left\", \"ear_right\", \"hip_left\", \"hip_right\", \"neck\", \"nose\", \"tail_base\"]                                                                                                                                                                                                                                                                                     634\n",
      "[\"body_center\", \"ear_left\", \"ear_right\", \"lateral_left\", \"lateral_right\", \"nose\", \"tail_base\"]                                                                                                                                                                                                                                                                       90\n",
      "[\"body_center\", \"ear_left\", \"ear_right\", \"lateral_left\", \"lateral_right\", \"nose\", \"tail_base\", \"tail_tip\"]                                                                                                                                                                                                                                                           42\n",
      "[\"ear_left\", \"ear_right\", \"nose\", \"tail_base\", \"tail_tip\"]                                                                                                                                                                                                                                                                                                           24\n",
      "[\"body_center\", \"ear_left\", \"ear_right\", \"hip_left\", \"hip_right\", \"lateral_left\", \"lateral_right\", \"nose\", \"spine_1\", \"spine_2\", \"tail_base\", \"tail_middle_1\", \"tail_middle_2\", \"tail_tip\"]                                                                                                                                                                          21\n",
      "[\"body_center\", \"ear_left\", \"ear_right\", \"nose\", \"tail_base\"]                                                                                                                                                                                                                                                                                                        19\n",
      "[\"ear_left\", \"ear_right\", \"head\", \"tail_base\"]                                                                                                                                                                                                                                                                                                                       17\n",
      "[\"body_center\", \"ear_left\", \"ear_right\", \"lateral_left\", \"lateral_right\", \"neck\", \"nose\", \"tail_base\", \"tail_midpoint\", \"tail_tip\"]                                                                                                                                                                                                                                  10\n",
      "[\"body_center\", \"ear_left\", \"ear_right\", \"headpiece_bottombackleft\", \"headpiece_bottombackright\", \"headpiece_bottomfrontleft\", \"headpiece_bottomfrontright\", \"headpiece_topbackleft\", \"headpiece_topbackright\", \"headpiece_topfrontleft\", \"headpiece_topfrontright\", \"lateral_left\", \"lateral_right\", \"neck\", \"nose\", \"tail_base\", \"tail_midpoint\", \"tail_tip\"]       7\n",
      "Name: count, dtype: int64\n"
     ]
    }
   ],
   "source": [
    "col = \"body_parts_tracked\"\n",
    "print(train_metadata[col].value_counts())"
   ]
  },
  {
   "cell_type": "code",
   "execution_count": 25,
   "id": "dfd5235e",
   "metadata": {},
   "outputs": [
    {
     "name": "stdout",
     "output_type": "stream",
     "text": [
      "behaviors_labeled\n",
      "[\"mouse1,mouse2,attack\", \"mouse1,mouse2,mount\", \"mouse1,mouse2,sniff\"]                                                                                                                                                                        80\n",
      "[\"mouse1,mouse2,sniff\", \"mouse1,mouse2,sniffgenital\"]                                                                                                                                                                                         74\n",
      "[\"mouse1,mouse2,attack\", \"mouse1,mouse2,chase\", \"mouse1,mouse2,sniff\"]                                                                                                                                                                        52\n",
      "[\"mouse1,mouse2,mount\", \"mouse1,mouse2,sniff\", \"mouse1,mouse2,sniffgenital\"]                                                                                                                                                                  36\n",
      "[\"mouse1,mouse2,allogroom\", \"mouse1,mouse2,attack\", \"mouse1,mouse2,dominancegroom\", \"mouse1,mouse2,escape\", \"mouse1,mouse2,sniff\", \"mouse1,mouse2,sniffgenital\", \"mouse1,self,dig\", \"mouse1,self,selfgroom\", \"mouse2,mouse1,sniffgenital\"]    33\n",
      "                                                                                                                                                                                                                                              ..\n",
      "[\"mouse1,mouse2,allogroom\", \"mouse1,mouse2,ejaculate\", \"mouse1,mouse2,intromit\", \"mouse1,mouse2,mount\", \"mouse1,mouse2,sniff\", \"mouse1,mouse2,sniffgenital\", \"mouse2,self,rear\", \"mouse2,self,selfgroom\"]                                      1\n",
      "[\"mouse1,mouse2,allogroom\", \"mouse1,mouse2,intromit\", \"mouse1,mouse2,mount\", \"mouse1,mouse2,sniff\", \"mouse1,mouse2,sniffgenital\", \"mouse2,self,rear\"]                                                                                          1\n",
      "[\"mouse1,mouse2,mount\", \"mouse1,mouse2,sniff\", \"mouse1,mouse2,sniffface\", \"mouse1,mouse2,sniffgenital\"]                                                                                                                                        1\n",
      "[\"mouse2,mouse1,defend\", \"mouse2,self,freeze\"]                                                                                                                                                                                                 1\n",
      "[\"mouse1,mouse2,allogroom\", \"mouse1,mouse2,ejaculate\", \"mouse1,mouse2,intromit\", \"mouse1,mouse2,mount\", \"mouse1,mouse2,sniff\", \"mouse1,mouse2,sniffgenital\", \"mouse2,self,rear\"]                                                               1\n",
      "Name: count, Length: 118, dtype: int64\n"
     ]
    }
   ],
   "source": [
    "col = \"behaviors_labeled\"\n",
    "print(train_metadata[col].value_counts())"
   ]
  },
  {
   "cell_type": "code",
   "execution_count": 26,
   "id": "de94f145",
   "metadata": {},
   "outputs": [
    {
     "name": "stdout",
     "output_type": "stream",
     "text": [
      "['[\"mouse1,mouse2,approach\", \"mouse1,mouse2,attack\", \"mouse1,mouse2,avoid\", \"mouse1,mouse2,chase\", \"mouse1,mouse2,chaseattack\", \"mouse1,mouse2,submit\", \"mouse1,mouse3,approach\", \"mouse1,mouse3,attack\", \"mouse1,mouse3,avoid\", \"mouse1,mouse3,chase\", \"mouse1,mouse3,chaseattack\", \"mouse1,mouse3,submit\", \"mouse1,mouse4,approach\", \"mouse1,mouse4,attack\", \"mouse1,mouse4,avoid\", \"mouse1,mouse4,chase\", \"mouse1,mouse4,chaseattack\", \"mouse1,mouse4,submit\", \"mouse1,self,rear\", \"mouse2,mouse1,approach\", \"mouse2,mouse1,attack\", \"mouse2,mouse1,avoid\", \"mouse2,mouse1,chase\", \"mouse2,mouse1,chaseattack\", \"mouse2,mouse1,submit\", \"mouse2,mouse3,approach\", \"mouse2,mouse3,attack\", \"mouse2,mouse3,avoid\", \"mouse2,mouse3,chase\", \"mouse2,mouse3,chaseattack\", \"mouse2,mouse3,submit\", \"mouse2,mouse4,approach\", \"mouse2,mouse4,attack\", \"mouse2,mouse4,avoid\", \"mouse2,mouse4,chase\", \"mouse2,mouse4,chaseattack\", \"mouse2,mouse4,submit\", \"mouse2,self,rear\", \"mouse3,mouse1,approach\", \"mouse3,mouse1,attack\", \"mouse3,mouse1,avoid\", \"mouse3,mouse1,chase\", \"mouse3,mouse1,chaseattack\", \"mouse3,mouse1,submit\", \"mouse3,mouse2,approach\", \"mouse3,mouse2,attack\", \"mouse3,mouse2,avoid\", \"mouse3,mouse2,chase\", \"mouse3,mouse2,chaseattack\", \"mouse3,mouse2,submit\", \"mouse3,mouse4,approach\", \"mouse3,mouse4,attack\", \"mouse3,mouse4,avoid\", \"mouse3,mouse4,chase\", \"mouse3,mouse4,chaseattack\", \"mouse3,mouse4,submit\", \"mouse3,self,rear\", \"mouse4,mouse1,approach\", \"mouse4,mouse1,attack\", \"mouse4,mouse1,avoid\", \"mouse4,mouse1,chase\", \"mouse4,mouse1,chaseattack\", \"mouse4,mouse1,submit\", \"mouse4,mouse2,approach\", \"mouse4,mouse2,attack\", \"mouse4,mouse2,avoid\", \"mouse4,mouse2,chase\", \"mouse4,mouse2,chaseattack\", \"mouse4,mouse2,submit\", \"mouse4,mouse3,approach\", \"mouse4,mouse3,attack\", \"mouse4,mouse3,avoid\", \"mouse4,mouse3,chase\", \"mouse4,mouse3,chaseattack\", \"mouse4,mouse3,submit\", \"mouse4,self,rear\"]'\n",
      " '[\"mouse1,mouse2,approach\", \"mouse1,mouse2,attack\", \"mouse1,mouse2,avoid\", \"mouse1,mouse2,chase\", \"mouse1,mouse2,chaseattack\", \"mouse1,mouse2,submit\", \"mouse1,mouse3,approach\", \"mouse1,mouse3,attack\", \"mouse1,mouse3,avoid\", \"mouse1,mouse3,chase\", \"mouse1,mouse3,chaseattack\", \"mouse1,mouse3,submit\", \"mouse1,self,rear\", \"mouse2,mouse1,approach\", \"mouse2,mouse1,attack\", \"mouse2,mouse1,avoid\", \"mouse2,mouse1,chase\", \"mouse2,mouse1,chaseattack\", \"mouse2,mouse1,submit\", \"mouse2,mouse3,approach\", \"mouse2,mouse3,attack\", \"mouse2,mouse3,avoid\", \"mouse2,mouse3,chase\", \"mouse2,mouse3,chaseattack\", \"mouse2,mouse3,submit\", \"mouse2,self,rear\", \"mouse3,mouse1,approach\", \"mouse3,mouse1,attack\", \"mouse3,mouse1,avoid\", \"mouse3,mouse1,chase\", \"mouse3,mouse1,chaseattack\", \"mouse3,mouse1,submit\", \"mouse3,mouse2,approach\", \"mouse3,mouse2,attack\", \"mouse3,mouse2,avoid\", \"mouse3,mouse2,chase\", \"mouse3,mouse2,chaseattack\", \"mouse3,mouse2,submit\", \"mouse3,self,rear\"]'\n",
      " '[\"mouse1,mouse2,approach\", \"mouse1,mouse2,attack\", \"mouse1,mouse2,avoid\", \"mouse1,mouse2,chase\", \"mouse1,mouse2,chaseattack\", \"mouse1,mouse2,submit\", \"mouse1,mouse3,approach\", \"mouse1,mouse3,attack\", \"mouse1,mouse3,avoid\", \"mouse1,mouse3,chase\", \"mouse1,mouse3,chaseattack\", \"mouse1,mouse3,submit\", \"mouse1,mouse4,avoid\", \"mouse1,self,rear\", \"mouse2,mouse1,approach\", \"mouse2,mouse1,attack\", \"mouse2,mouse1,avoid\", \"mouse2,mouse1,chase\", \"mouse2,mouse1,chaseattack\", \"mouse2,mouse1,submit\", \"mouse2,mouse3,approach\", \"mouse2,mouse3,attack\", \"mouse2,mouse3,avoid\", \"mouse2,mouse3,chase\", \"mouse2,mouse3,chaseattack\", \"mouse2,mouse3,submit\", \"mouse2,mouse4,attack\", \"mouse2,mouse4,avoid\", \"mouse2,mouse4,chase\", \"mouse2,mouse4,chaseattack\", \"mouse2,self,rear\", \"mouse3,mouse1,approach\", \"mouse3,mouse1,attack\", \"mouse3,mouse1,avoid\", \"mouse3,mouse1,chase\", \"mouse3,mouse1,chaseattack\", \"mouse3,mouse1,submit\", \"mouse3,mouse2,approach\", \"mouse3,mouse2,attack\", \"mouse3,mouse2,avoid\", \"mouse3,mouse2,chase\", \"mouse3,mouse2,chaseattack\", \"mouse3,mouse2,submit\", \"mouse3,self,rear\", \"mouse4,mouse1,avoid\", \"mouse4,mouse2,avoid\"]'\n",
      " '[\"mouse1,mouse2,approach\", \"mouse1,mouse2,attack\", \"mouse1,mouse2,avoid\", \"mouse1,mouse2,chase\", \"mouse1,mouse2,chaseattack\", \"mouse1,mouse2,submit\", \"mouse1,mouse3,approach\", \"mouse1,mouse3,attack\", \"mouse1,mouse3,avoid\", \"mouse1,mouse3,chase\", \"mouse1,mouse3,chaseattack\", \"mouse1,mouse3,submit\", \"mouse1,self,rear\", \"mouse2,mouse1,approach\", \"mouse2,mouse1,attack\", \"mouse2,mouse1,avoid\", \"mouse2,mouse1,chase\", \"mouse2,mouse1,chaseattack\", \"mouse2,mouse1,submit\", \"mouse2,mouse3,approach\", \"mouse2,mouse3,attack\", \"mouse2,mouse3,avoid\", \"mouse2,mouse3,chase\", \"mouse2,mouse3,chaseattack\", \"mouse2,mouse3,submit\", \"mouse2,mouse4,attack\", \"mouse2,mouse4,avoid\", \"mouse2,mouse4,chase\", \"mouse2,mouse4,chaseattack\", \"mouse2,self,rear\", \"mouse3,mouse1,approach\", \"mouse3,mouse1,attack\", \"mouse3,mouse1,avoid\", \"mouse3,mouse1,chase\", \"mouse3,mouse1,chaseattack\", \"mouse3,mouse1,submit\", \"mouse3,mouse2,approach\", \"mouse3,mouse2,attack\", \"mouse3,mouse2,avoid\", \"mouse3,mouse2,chase\", \"mouse3,mouse2,chaseattack\", \"mouse3,mouse2,submit\", \"mouse3,self,rear\", \"mouse4,mouse2,attack\"]'\n",
      " '[\"mouse1,mouse2,approach\", \"mouse1,mouse2,attack\", \"mouse1,mouse2,avoid\", \"mouse1,mouse2,chase\", \"mouse1,mouse2,chaseattack\", \"mouse1,mouse2,submit\", \"mouse1,mouse3,approach\", \"mouse1,mouse3,attack\", \"mouse1,mouse3,avoid\", \"mouse1,mouse3,chase\", \"mouse1,mouse3,chaseattack\", \"mouse1,mouse3,submit\", \"mouse1,mouse4,avoid\", \"mouse1,mouse4,chase\", \"mouse1,self,rear\", \"mouse2,mouse1,approach\", \"mouse2,mouse1,attack\", \"mouse2,mouse1,avoid\", \"mouse2,mouse1,chase\", \"mouse2,mouse1,chaseattack\", \"mouse2,mouse1,submit\", \"mouse2,mouse3,approach\", \"mouse2,mouse3,attack\", \"mouse2,mouse3,avoid\", \"mouse2,mouse3,chase\", \"mouse2,mouse3,chaseattack\", \"mouse2,mouse3,submit\", \"mouse2,mouse4,avoid\", \"mouse2,mouse4,chase\", \"mouse2,self,rear\", \"mouse3,mouse1,approach\", \"mouse3,mouse1,attack\", \"mouse3,mouse1,avoid\", \"mouse3,mouse1,chase\", \"mouse3,mouse1,chaseattack\", \"mouse3,mouse1,submit\", \"mouse3,mouse2,approach\", \"mouse3,mouse2,attack\", \"mouse3,mouse2,avoid\", \"mouse3,mouse2,chase\", \"mouse3,mouse2,chaseattack\", \"mouse3,mouse2,submit\", \"mouse3,self,rear\", \"mouse4,mouse1,avoid\", \"mouse4,mouse2,avoid\"]'\n",
      " '[\"mouse1,mouse2,shepherd\", \"mouse2,mouse1,shepherd\"]'\n",
      " '[\"mouse1,mouse2,approach\", \"mouse1,mouse2,attack\", \"mouse1,mouse2,disengage\", \"mouse1,mouse2,mount\", \"mouse1,mouse2,sniff\", \"mouse1,self,rear\", \"mouse1,self,selfgroom\"]'\n",
      " '[\"mouse1,mouse2,attack\", \"mouse1,mouse2,sniff\", \"mouse1,mouse2,sniffgenital\"]'\n",
      " '[\"mouse1,mouse2,mount\", \"mouse1,mouse2,sniff\", \"mouse1,mouse2,sniffgenital\"]'\n",
      " '[\"mouse1,mouse2,attack\", \"mouse1,mouse2,sniff\"]'\n",
      " '[\"mouse1,mouse2,approach\", \"mouse1,mouse2,attack\", \"mouse1,mouse2,dominancemount\", \"mouse1,mouse2,sniffbody\", \"mouse1,mouse2,sniffface\", \"mouse1,mouse2,sniffgenital\"]'\n",
      " '[\"mouse1,mouse2,sniff\", \"mouse1,mouse2,sniffgenital\"]'\n",
      " '[\"mouse1,mouse2,attack\", \"mouse1,mouse2,dominancemount\", \"mouse1,mouse2,sniff\", \"mouse1,mouse2,sniffgenital\"]'\n",
      " '[\"mouse1,mouse2,approach\", \"mouse1,mouse2,attemptmount\", \"mouse1,mouse2,mount\", \"mouse1,mouse2,sniffbody\", \"mouse1,mouse2,sniffface\", \"mouse1,mouse2,sniffgenital\"]'\n",
      " '[\"mouse1,mouse2,dominancemount\", \"mouse1,mouse2,sniff\", \"mouse1,mouse2,sniffgenital\"]'\n",
      " '[\"mouse1,mouse2,approach\", \"mouse1,mouse2,attack\", \"mouse1,mouse2,attemptmount\", \"mouse1,mouse2,mount\", \"mouse1,mouse2,sniffbody\", \"mouse1,mouse2,sniffface\", \"mouse1,mouse2,sniffgenital\"]'\n",
      " '[\"mouse1,mouse2,attemptmount\", \"mouse1,mouse2,mount\", \"mouse1,mouse2,sniff\", \"mouse1,mouse2,sniffgenital\"]'\n",
      " '[\"mouse1,mouse2,attemptmount\", \"mouse1,mouse2,intromit\", \"mouse1,mouse2,mount\", \"mouse1,mouse2,sniff\", \"mouse1,mouse2,sniffgenital\"]'\n",
      " '[\"mouse1,mouse2,intromit\", \"mouse1,mouse2,mount\", \"mouse1,mouse2,sniff\"]'\n",
      " '[\"mouse1,mouse2,sniff\"]'\n",
      " '[\"mouse1,mouse2,approach\", \"mouse1,mouse2,sniffbody\", \"mouse1,mouse2,sniffface\", \"mouse1,mouse2,sniffgenital\"]'\n",
      " '[\"mouse1,mouse2,intromit\", \"mouse1,mouse2,mount\", \"mouse1,mouse2,sniff\", \"mouse1,mouse2,sniffgenital\"]'\n",
      " '[\"mouse1,mouse2,approach\", \"mouse1,mouse2,attemptmount\", \"mouse1,mouse2,intromit\", \"mouse1,mouse2,mount\", \"mouse1,mouse2,sniffbody\", \"mouse1,mouse2,sniffface\", \"mouse1,mouse2,sniffgenital\"]'\n",
      " '[\"mouse1,mouse2,mount\", \"mouse1,mouse2,sniff\"]'\n",
      " '[\"mouse1,mouse2,attack\", \"mouse1,mouse2,dominancemount\", \"mouse1,mouse2,sniff\"]'\n",
      " '[\"mouse1,mouse2,approach\", \"mouse1,mouse2,mount\", \"mouse1,mouse2,sniffbody\", \"mouse1,mouse2,sniffface\", \"mouse1,mouse2,sniffgenital\"]'\n",
      " '[\"mouse1,mouse2,attemptmount\", \"mouse1,mouse2,mount\", \"mouse1,mouse2,sniff\"]'\n",
      " '[\"mouse1,mouse2,approach\", \"mouse1,mouse2,attemptmount\", \"mouse1,mouse2,intromit\", \"mouse1,mouse2,mount\", \"mouse1,mouse2,sniff\", \"mouse1,mouse2,sniffbody\", \"mouse1,mouse2,sniffface\", \"mouse1,mouse2,sniffgenital\"]'\n",
      " '[\"mouse1,mouse2,attemptmount\", \"mouse1,mouse2,dominancemount\", \"mouse1,mouse2,mount\", \"mouse1,mouse2,sniff\", \"mouse1,mouse2,sniffgenital\"]'\n",
      " '[\"mouse1,mouse2,attack\", \"mouse1,mouse2,mount\", \"mouse1,mouse2,sniff\", \"mouse1,mouse2,sniffgenital\"]'\n",
      " '[\"mouse1,mouse2,attack\", \"mouse1,mouse2,dominancemount\", \"mouse1,mouse2,mount\", \"mouse1,mouse2,sniff\", \"mouse1,mouse2,sniffgenital\"]'\n",
      " '[\"mouse1,mouse2,approach\", \"mouse1,mouse2,mount\", \"mouse1,mouse2,sniffbody\", \"mouse1,mouse2,sniffface\", \"mouse1,self,genitalgroom\"]'\n",
      " '[\"mouse1,mouse2,approach\", \"mouse1,mouse2,attack\", \"mouse1,mouse2,sniffbody\", \"mouse1,mouse2,sniffgenital\"]'\n",
      " '[\"mouse1,mouse2,approach\", \"mouse1,mouse2,intromit\", \"mouse1,mouse2,mount\", \"mouse1,mouse2,sniffbody\", \"mouse1,mouse2,sniffface\", \"mouse1,mouse2,sniffgenital\", \"mouse1,self,genitalgroom\"]'\n",
      " '[\"mouse1,mouse2,attack\", \"mouse1,mouse2,mount\", \"mouse1,mouse2,sniff\"]'\n",
      " '[\"mouse1,mouse2,approach\", \"mouse1,mouse2,mount\", \"mouse1,mouse2,sniffbody\", \"mouse1,mouse2,sniffface\", \"mouse1,mouse2,sniffgenital\", \"mouse1,self,genitalgroom\"]'\n",
      " '[\"mouse1,mouse2,approach\", \"mouse1,mouse2,sniffbody\", \"mouse1,mouse2,sniffface\"]'\n",
      " '[\"mouse1,mouse2,approach\", \"mouse1,mouse2,attack\", \"mouse1,mouse2,sniffbody\", \"mouse1,mouse2,sniffface\", \"mouse1,mouse2,sniffgenital\"]'\n",
      " '[\"mouse1,mouse2,sniffbody\", \"mouse1,mouse2,sniffface\", \"mouse1,mouse2,sniffgenital\"]'\n",
      " '[\"mouse1,mouse2,approach\", \"mouse1,mouse2,attack\", \"mouse1,mouse2,sniffbody\", \"mouse1,mouse2,sniffface\"]'\n",
      " '[\"mouse1,mouse2,mount\", \"mouse1,mouse2,sniffbody\", \"mouse1,mouse2,sniffface\", \"mouse1,mouse2,sniffgenital\", \"mouse1,self,genitalgroom\"]'\n",
      " '[\"mouse1,mouse2,approach\", \"mouse1,mouse2,intromit\", \"mouse1,mouse2,mount\", \"mouse1,mouse2,sniffbody\", \"mouse1,mouse2,sniffface\", \"mouse1,mouse2,sniffgenital\"]'\n",
      " '[\"mouse1,mouse2,attack\", \"mouse1,mouse2,sniffbody\", \"mouse1,mouse2,sniffface\", \"mouse1,mouse2,sniffgenital\"]'\n",
      " '[\"mouse1,mouse2,mount\", \"mouse1,mouse2,sniffbody\", \"mouse1,mouse2,sniffface\", \"mouse1,mouse2,sniffgenital\"]'\n",
      " '[\"mouse1,mouse2,approach\", \"mouse1,mouse2,intromit\", \"mouse1,mouse2,mount\", \"mouse1,mouse2,sniffbody\", \"mouse1,mouse2,sniffgenital\"]'\n",
      " '[\"mouse1,mouse2,sniff\", \"mouse1,mouse2,sniffface\", \"mouse1,mouse2,sniffgenital\"]'\n",
      " '[\"mouse1,mouse2,approach\", \"mouse1,mouse2,attack\", \"mouse1,mouse2,sniffbody\"]'\n",
      " '[\"mouse1,mouse2,mount\", \"mouse1,mouse2,sniff\", \"mouse1,mouse2,sniffface\", \"mouse1,mouse2,sniffgenital\"]'\n",
      " '[\"mouse1,mouse2,approach\", \"mouse1,mouse2,chase\", \"mouse1,mouse2,escape\", \"mouse1,mouse2,reciprocalsniff\", \"mouse1,mouse2,sniffbody\", \"mouse1,mouse2,sniffgenital\", \"mouse2,mouse1,reciprocalsniff\", \"mouse2,mouse1,sniff\"]'\n",
      " '[\"\\'mouse1\\',\\'mouse2\\',\\'sniff\\'\", \"mouse1\\',\\'mouse2\\',\\'attack\\'\", \"mouse1\\',\\'mouse2\\',\\'dominance\\'\", \"mouse1,mouse2,attack\", \"mouse1,mouse2,dominance\", \"mouse1,mouse2,sniff\"]'\n",
      " '[\"mouse1,mouse2,attack\", \"mouse1,mouse2,intromit\", \"mouse1,mouse2,mount\", \"mouse1,mouse2,sniff\", \"mouse1,mouse2,sniffgenital\", \"mouse2,self,rear\", \"mouse2,self,selfgroom\"]'\n",
      " '[\"mouse1,mouse2,intromit\", \"mouse1,mouse2,mount\", \"mouse1,mouse2,sniff\", \"mouse1,mouse2,sniffgenital\", \"mouse2,self,rear\", \"mouse2,self,selfgroom\"]'\n",
      " '[\"mouse1,mouse2,attemptmount\", \"mouse1,mouse2,intromit\", \"mouse1,mouse2,mount\", \"mouse1,mouse2,sniff\", \"mouse1,mouse2,sniffgenital\", \"mouse2,self,rear\"]'\n",
      " '[\"mouse1,mouse2,allogroom\", \"mouse1,mouse2,intromit\", \"mouse1,mouse2,mount\", \"mouse1,mouse2,sniff\", \"mouse1,mouse2,sniffgenital\", \"mouse2,self,rear\"]'\n",
      " '[\"mouse1,mouse2,allogroom\", \"mouse1,mouse2,ejaculate\", \"mouse1,mouse2,intromit\", \"mouse1,mouse2,mount\", \"mouse1,mouse2,sniff\", \"mouse1,mouse2,sniffgenital\", \"mouse2,self,rear\", \"mouse2,self,selfgroom\"]'\n",
      " '[\"mouse1,mouse2,allogroom\", \"mouse1,mouse2,sniff\", \"mouse1,mouse2,sniffgenital\", \"mouse2,self,rear\"]'\n",
      " '[\"mouse1,mouse2,sniff\", \"mouse1,mouse2,sniffgenital\", \"mouse2,self,rear\", \"mouse2,self,selfgroom\"]'\n",
      " '[\"mouse1,mouse2,attack\", \"mouse1,mouse2,intromit\", \"mouse1,mouse2,mount\", \"mouse1,mouse2,sniff\", \"mouse1,mouse2,sniffgenital\", \"mouse2,self,rear\"]'\n",
      " '[\"mouse1,mouse2,allogroom\", \"mouse1,mouse2,mount\", \"mouse1,mouse2,sniff\", \"mouse2,self,rear\"]'\n",
      " '[\"mouse1,mouse2,allogroom\", \"mouse1,mouse2,ejaculate\", \"mouse1,mouse2,intromit\", \"mouse1,mouse2,mount\", \"mouse1,mouse2,sniff\", \"mouse1,mouse2,sniffgenital\", \"mouse2,self,rear\"]'\n",
      " '[\"mouse1,mouse2,allogroom\", \"mouse1,mouse2,attemptmount\", \"mouse1,mouse2,intromit\", \"mouse1,mouse2,mount\", \"mouse1,mouse2,sniff\", \"mouse1,mouse2,sniffgenital\", \"mouse2,self,rear\"]'\n",
      " '[\"mouse1,mouse2,mount\", \"mouse1,mouse2,sniff\", \"mouse2,self,rear\"]'\n",
      " '[\"mouse1,mouse2,attemptmount\", \"mouse1,mouse2,intromit\", \"mouse1,mouse2,mount\", \"mouse1,mouse2,sniff\", \"mouse1,mouse2,sniffgenital\", \"mouse2,self,rear\", \"mouse2,self,selfgroom\"]'\n",
      " '[\"mouse1,mouse2,ejaculate\", \"mouse1,mouse2,intromit\", \"mouse1,mouse2,mount\", \"mouse1,mouse2,sniff\", \"mouse1,mouse2,sniffgenital\", \"mouse2,self,rear\", \"mouse2,self,selfgroom\"]'\n",
      " '[\"mouse1,mouse2,intromit\", \"mouse1,mouse2,mount\", \"mouse1,mouse2,sniff\", \"mouse1,mouse2,sniffgenital\", \"mouse1,self,rear\", \"mouse1,self,rest\", \"mouse1,self,selfgroom\", \"mouse2,mouse1,approach\", \"mouse2,mouse1,defend\", \"mouse2,mouse1,escape\", \"mouse2,mouse1,sniff\", \"mouse2,mouse1,sniffgenital\", \"mouse2,self,climb\", \"mouse2,self,dig\", \"mouse2,self,rear\", \"mouse2,self,rest\", \"mouse2,self,selfgroom\"]'\n",
      " '[\"mouse1,mouse2,approach\", \"mouse1,mouse2,escape\", \"mouse1,mouse2,sniff\", \"mouse1,mouse2,sniffgenital\", \"mouse1,self,climb\", \"mouse1,self,dig\", \"mouse1,self,rear\", \"mouse1,self,selfgroom\", \"mouse2,mouse1,approach\", \"mouse2,mouse1,escape\", \"mouse2,mouse1,sniff\", \"mouse2,mouse1,sniffgenital\", \"mouse2,self,dig\", \"mouse2,self,rear\", \"mouse2,self,selfgroom\"]'\n",
      " '[\"mouse1,mouse2,approach\", \"mouse1,mouse2,attemptmount\", \"mouse1,mouse2,sniff\", \"mouse1,mouse2,sniffgenital\", \"mouse1,self,climb\", \"mouse1,self,dig\", \"mouse1,self,rear\", \"mouse1,self,selfgroom\", \"mouse2,mouse1,approach\", \"mouse2,mouse1,escape\", \"mouse2,mouse1,sniff\", \"mouse2,mouse1,sniffgenital\", \"mouse2,self,climb\", \"mouse2,self,dig\", \"mouse2,self,rear\", \"mouse2,self,rest\", \"mouse2,self,selfgroom\"]'\n",
      " '[\"mouse1,mouse2,approach\", \"mouse1,mouse2,intromit\", \"mouse1,mouse2,mount\", \"mouse1,mouse2,sniff\", \"mouse1,mouse2,sniffgenital\", \"mouse1,self,rear\", \"mouse1,self,rest\", \"mouse1,self,selfgroom\", \"mouse2,mouse1,escape\", \"mouse2,mouse1,sniff\", \"mouse2,self,rear\", \"mouse2,self,rest\", \"mouse2,self,selfgroom\"]'\n",
      " '[\"mouse1,mouse2,approach\", \"mouse1,mouse2,escape\", \"mouse1,mouse2,intromit\", \"mouse1,mouse2,mount\", \"mouse1,mouse2,sniff\", \"mouse1,mouse2,sniffgenital\", \"mouse1,self,dig\", \"mouse1,self,rear\", \"mouse1,self,run\", \"mouse1,self,selfgroom\", \"mouse2,mouse1,approach\", \"mouse2,mouse1,escape\", \"mouse2,mouse1,sniff\", \"mouse2,mouse1,sniffgenital\", \"mouse2,self,climb\", \"mouse2,self,dig\", \"mouse2,self,rear\", \"mouse2,self,rest\", \"mouse2,self,run\", \"mouse2,self,selfgroom\"]'\n",
      " '[\"mouse1,mouse2,approach\", \"mouse1,mouse2,escape\", \"mouse1,mouse2,sniff\", \"mouse1,mouse2,sniffgenital\", \"mouse1,self,dig\", \"mouse1,self,rear\", \"mouse1,self,rest\", \"mouse1,self,run\", \"mouse1,self,selfgroom\", \"mouse2,mouse1,approach\", \"mouse2,mouse1,defend\", \"mouse2,mouse1,escape\", \"mouse2,mouse1,sniff\", \"mouse2,mouse1,sniffgenital\", \"mouse2,self,climb\", \"mouse2,self,dig\", \"mouse2,self,rear\", \"mouse2,self,rest\", \"mouse2,self,run\", \"mouse2,self,selfgroom\"]'\n",
      " '[\"mouse1,mouse2,approach\", \"mouse1,mouse2,attemptmount\", \"mouse1,mouse2,escape\", \"mouse1,mouse2,intromit\", \"mouse1,mouse2,mount\", \"mouse1,mouse2,sniff\", \"mouse1,mouse2,sniffgenital\", \"mouse1,self,dig\", \"mouse1,self,rear\", \"mouse1,self,selfgroom\", \"mouse2,mouse1,approach\", \"mouse2,mouse1,escape\", \"mouse2,mouse1,sniff\", \"mouse2,mouse1,sniffgenital\", \"mouse2,self,dig\", \"mouse2,self,rear\", \"mouse2,self,selfgroom\"]'\n",
      " '[\"mouse1,mouse2,approach\", \"mouse1,mouse2,attemptmount\", \"mouse1,mouse2,escape\", \"mouse1,mouse2,intromit\", \"mouse1,mouse2,mount\", \"mouse1,mouse2,sniff\", \"mouse1,mouse2,sniffgenital\", \"mouse1,self,dig\", \"mouse1,self,rear\", \"mouse1,self,rest\", \"mouse1,self,run\", \"mouse1,self,selfgroom\", \"mouse2,mouse1,approach\", \"mouse2,mouse1,escape\", \"mouse2,mouse1,sniff\", \"mouse2,mouse1,sniffgenital\", \"mouse2,self,dig\", \"mouse2,self,rear\", \"mouse2,self,rest\", \"mouse2,self,selfgroom\"]'\n",
      " '[\"mouse1,mouse2,approach\", \"mouse1,mouse2,escape\", \"mouse1,mouse2,sniff\", \"mouse1,mouse2,sniffgenital\", \"mouse1,self,dig\", \"mouse1,self,rear\", \"mouse1,self,selfgroom\", \"mouse2,mouse1,approach\", \"mouse2,mouse1,escape\", \"mouse2,mouse1,sniff\", \"mouse2,mouse1,sniffgenital\", \"mouse2,self,dig\", \"mouse2,self,rear\", \"mouse2,self,selfgroom\"]'\n",
      " '[\"mouse1,mouse2,approach\", \"mouse1,mouse2,escape\", \"mouse1,mouse2,intromit\", \"mouse1,mouse2,mount\", \"mouse1,mouse2,sniff\", \"mouse1,mouse2,sniffgenital\", \"mouse1,self,dig\", \"mouse1,self,rear\", \"mouse1,self,rest\", \"mouse1,self,selfgroom\", \"mouse2,mouse1,approach\", \"mouse2,mouse1,escape\", \"mouse2,mouse1,sniff\", \"mouse2,mouse1,sniffgenital\", \"mouse2,self,climb\", \"mouse2,self,dig\", \"mouse2,self,rear\", \"mouse2,self,rest\", \"mouse2,self,run\", \"mouse2,self,selfgroom\"]'\n",
      " '[\"mouse1,mouse2,approach\", \"mouse1,mouse2,sniff\", \"mouse1,mouse2,sniffgenital\", \"mouse1,self,climb\", \"mouse1,self,dig\", \"mouse1,self,rear\", \"mouse1,self,selfgroom\", \"mouse2,mouse1,approach\", \"mouse2,mouse1,escape\", \"mouse2,mouse1,sniff\", \"mouse2,mouse1,sniffgenital\", \"mouse2,self,dig\", \"mouse2,self,rear\", \"mouse2,self,rest\", \"mouse2,self,run\", \"mouse2,self,selfgroom\"]'\n",
      " '[\"mouse1,mouse2,approach\", \"mouse1,mouse2,defend\", \"mouse1,mouse2,escape\", \"mouse1,mouse2,intromit\", \"mouse1,mouse2,mount\", \"mouse1,mouse2,sniff\", \"mouse1,mouse2,sniffgenital\", \"mouse1,self,dig\", \"mouse1,self,rear\", \"mouse1,self,rest\", \"mouse1,self,run\", \"mouse1,self,selfgroom\", \"mouse2,mouse1,approach\", \"mouse2,mouse1,defend\", \"mouse2,mouse1,escape\", \"mouse2,mouse1,sniff\", \"mouse2,self,rear\", \"mouse2,self,rest\", \"mouse2,self,run\", \"mouse2,self,selfgroom\"]'\n",
      " '[\"mouse1,mouse2,approach\", \"mouse1,mouse2,defend\", \"mouse1,mouse2,escape\", \"mouse1,mouse2,sniff\", \"mouse1,self,dig\", \"mouse1,self,rear\", \"mouse1,self,rest\", \"mouse1,self,run\", \"mouse1,self,selfgroom\", \"mouse2,mouse1,approach\", \"mouse2,mouse1,escape\", \"mouse2,mouse1,sniff\", \"mouse2,mouse1,sniffgenital\", \"mouse2,self,dig\", \"mouse2,self,rear\", \"mouse2,self,rest\", \"mouse2,self,run\", \"mouse2,self,selfgroom\"]'\n",
      " '[\"mouse1,mouse2,approach\", \"mouse1,mouse2,sniff\", \"mouse1,mouse2,sniffgenital\", \"mouse1,self,dig\", \"mouse1,self,rear\", \"mouse1,self,rest\", \"mouse1,self,run\", \"mouse1,self,selfgroom\", \"mouse2,mouse1,approach\", \"mouse2,mouse1,escape\", \"mouse2,mouse1,sniff\", \"mouse2,mouse1,sniffgenital\", \"mouse2,self,climb\", \"mouse2,self,dig\", \"mouse2,self,rear\", \"mouse2,self,run\", \"mouse2,self,selfgroom\"]'\n",
      " '[\"mouse1,mouse2,approach\", \"mouse1,mouse2,defend\", \"mouse1,mouse2,escape\", \"mouse1,mouse2,sniff\", \"mouse1,mouse2,sniffgenital\", \"mouse1,self,climb\", \"mouse1,self,dig\", \"mouse1,self,rear\", \"mouse1,self,run\", \"mouse1,self,selfgroom\", \"mouse2,mouse1,approach\", \"mouse2,mouse1,escape\", \"mouse2,mouse1,sniff\", \"mouse2,self,dig\", \"mouse2,self,rear\", \"mouse2,self,rest\", \"mouse2,self,run\", \"mouse2,self,selfgroom\"]'\n",
      " '[\"mouse1,mouse2,approach\", \"mouse1,mouse2,defend\", \"mouse1,mouse2,escape\", \"mouse1,mouse2,sniff\", \"mouse1,self,dig\", \"mouse1,self,rear\", \"mouse1,self,rest\", \"mouse1,self,run\", \"mouse1,self,selfgroom\", \"mouse2,mouse1,approach\", \"mouse2,mouse1,escape\", \"mouse2,mouse1,sniff\", \"mouse2,self,dig\", \"mouse2,self,rear\", \"mouse2,self,rest\", \"mouse2,self,run\", \"mouse2,self,selfgroom\"]'\n",
      " '[\"mouse1,mouse2,approach\", \"mouse1,mouse2,defend\", \"mouse1,mouse2,escape\", \"mouse1,mouse2,sniff\", \"mouse1,mouse2,sniffgenital\", \"mouse1,self,dig\", \"mouse1,self,rear\", \"mouse1,self,run\", \"mouse1,self,selfgroom\", \"mouse2,mouse1,approach\", \"mouse2,mouse1,sniff\", \"mouse2,mouse1,sniffgenital\", \"mouse2,self,climb\", \"mouse2,self,dig\", \"mouse2,self,rear\", \"mouse2,self,run\", \"mouse2,self,selfgroom\"]'\n",
      " '[\"mouse1,mouse2,allogroom\", \"mouse1,mouse2,attack\", \"mouse1,mouse2,dominancegroom\", \"mouse1,mouse2,escape\", \"mouse1,mouse2,sniff\", \"mouse1,mouse2,sniffgenital\", \"mouse1,self,dig\", \"mouse1,self,selfgroom\", \"mouse2,mouse1,sniffgenital\"]'\n",
      " '[\"mouse1,mouse2,attack\", \"mouse1,mouse2,chase\", \"mouse1,mouse2,sniff\"]'\n",
      " '[\"mouse1,mouse2,approach\", \"mouse1,mouse2,attack\", \"mouse2,mouse1,defend\", \"mouse2,mouse1,escape\"]'\n",
      " '[\"mouse1,mouse2,attack\", \"mouse2,mouse1,defend\", \"mouse2,mouse1,escape\"]'\n",
      " '[\"mouse1,mouse2,sniff\", \"mouse2,mouse1,defend\", \"mouse2,self,freeze\", \"mouse2,self,rear\"]'\n",
      " '[\"mouse2,mouse1,defend\", \"mouse2,self,freeze\"]'\n",
      " '[\"mouse2,mouse1,defend\", \"mouse2,self,freeze\", \"mouse2,self,rear\"]'\n",
      " '[\"mouse1,mouse2,attack\", \"mouse2,mouse1,escape\"]'\n",
      " '[\"mouse1,mouse2,approach\", \"mouse1,mouse2,attack\", \"mouse1,mouse2,sniff\", \"mouse2,mouse1,defend\", \"mouse2,self,freeze\", \"mouse2,self,rear\"]'\n",
      " '[\"mouse1,mouse2,sniff\", \"mouse2,mouse1,defend\"]'\n",
      " '[\"mouse1,mouse2,approach\", \"mouse1,mouse2,attack\", \"mouse1,mouse2,sniff\", \"mouse2,mouse1,defend\", \"mouse2,self,freeze\"]'\n",
      " nan\n",
      " '[\"mouse1,mouse2,approach\", \"mouse1,mouse2,attack\", \"mouse1,mouse2,chase\", \"mouse1,mouse2,defend\", \"mouse1,mouse2,escape\", \"mouse1,mouse2,flinch\", \"mouse1,mouse2,follow\", \"mouse1,mouse2,sniff\", \"mouse1,mouse2,sniffface\", \"mouse1,mouse2,sniffgenital\", \"mouse1,mouse2,tussle\", \"mouse1,self,biteobject\", \"mouse1,self,climb\", \"mouse1,self,dig\", \"mouse1,self,exploreobject\", \"mouse1,self,rear\", \"mouse1,self,selfgroom\", \"mouse2,mouse1,approach\", \"mouse2,mouse1,attack\", \"mouse2,mouse1,chase\", \"mouse2,mouse1,defend\", \"mouse2,mouse1,escape\", \"mouse2,mouse1,flinch\", \"mouse2,mouse1,follow\", \"mouse2,mouse1,sniff\", \"mouse2,mouse1,sniffface\", \"mouse2,mouse1,sniffgenital\", \"mouse2,mouse1,tussle\", \"mouse2,self,biteobject\", \"mouse2,self,climb\", \"mouse2,self,dig\", \"mouse2,self,exploreobject\", \"mouse2,self,rear\", \"mouse2,self,selfgroom\"]'\n",
      " '[\"mouse1,mouse2,attack\", \"mouse1,mouse2,chase\", \"mouse1,mouse2,escape\", \"mouse1,mouse2,follow\", \"mouse2,mouse1,attack\", \"mouse2,mouse1,chase\", \"mouse2,mouse1,escape\", \"mouse2,mouse1,follow\"]'\n",
      " '[\"mouse1,mouse2,attack\", \"mouse1,mouse2,chase\", \"mouse1,mouse2,escape\", \"mouse2,mouse1,attack\", \"mouse2,mouse1,chase\", \"mouse2,mouse1,escape\"]'\n",
      " '[\"\\'mouse1\\',\\'mouse2\\',\\'sniff\\'\", \"mouse1\\',\\'mouse2\\',\\'attack\\'\", \"mouse1,mouse2,attack\", \"mouse1,mouse2,sniff\"]'\n",
      " '[\"\\'mouse1\\',\\'mouse2\\',\\'sniff\\'\", \"mouse1\\',\\'mouse2\\',\\'attack\\'\", \"mouse1,mouse2,sniff\"]'\n",
      " '[\"mouse1,mouse2,attack\"]' '[\"mouse1,mouse2,chase\"]'\n",
      " '[\"mouse1,mouse2,attack\", \"mouse1,mouse2,chase\", \"mouse1,mouse2,sniffgenital\"]'\n",
      " '[\"mouse2,mouse1,defend\", \"mouse2,mouse1,escape\"]'\n",
      " '[\"mouse1,mouse2,chase\", \"mouse1,mouse2,sniffgenital\"]'\n",
      " '[\"mouse1,mouse2,mount\", \"mouse2,mouse1,defend\"]'\n",
      " '[\"mouse1,mouse2,sniffgenital\"]'\n",
      " '[\"mouse1,mouse2,attack\", \"mouse1,mouse2,chase\"]'\n",
      " '[\"mouse1,mouse2,mount\"]'\n",
      " '[\"mouse1,mouse2,chase\", \"mouse1,mouse2,sniffgenital\", \"mouse2,mouse1,defend\", \"mouse2,mouse1,escape\"]'\n",
      " '[\"mouse1,mouse2,attack\", \"mouse1,mouse2,sniffgenital\"]'\n",
      " '[\"mouse1,mouse2,sniffgenital\", \"mouse2,mouse1,defend\", \"mouse2,mouse1,escape\"]'\n",
      " '[\"mouse1,mouse2,chase\", \"mouse1,mouse2,mount\", \"mouse1,mouse2,sniffgenital\"]'\n",
      " '[\"mouse1,mouse2,sniff\", \"mouse2,self,rear\"]'\n",
      " '[\"mouse1,mouse2,intromit\", \"mouse1,mouse2,mount\", \"mouse1,mouse2,sniff\", \"mouse1,mouse2,sniffgenital\", \"mouse2,self,rear\"]'\n",
      " '[\"mouse1,mouse2,sniff\", \"mouse1,mouse2,sniffgenital\", \"mouse2,self,rear\"]'\n",
      " '[\"mouse1,mouse2,reciprocalsniff\", \"mouse1,mouse2,sniff\", \"mouse1,mouse2,sniffgenital\", \"mouse1,self,huddle\", \"mouse2,mouse1,reciprocalsniff\", \"mouse2,mouse1,sniffgenital\", \"mouse2,self,rear\"]'\n",
      " '[\"mouse1,mouse2,intromit\", \"mouse1,mouse2,mount\", \"mouse1,mouse2,sniff\", \"mouse1,mouse2,sniffgenital\", \"mouse2,mouse1,sniffgenital\", \"mouse2,self,rear\", \"mouse2,self,selfgroom\"]'\n",
      " '[\"mouse1,mouse2,sniff\", \"mouse1,mouse2,sniffgenital\", \"mouse2,mouse1,sniffgenital\", \"mouse2,self,rear\"]'\n",
      " '[\"mouse1,mouse2,reciprocalsniff\", \"mouse1,mouse2,sniff\", \"mouse1,mouse2,sniffgenital\", \"mouse1,self,huddle\", \"mouse2,mouse1,reciprocalsniff\", \"mouse2,mouse1,sniffgenital\", \"mouse2,self,rear\", \"mouse2,self,selfgroom\"]'\n",
      " '[\"mouse1,mouse2,intromit\", \"mouse1,mouse2,mount\", \"mouse1,mouse2,reciprocalsniff\", \"mouse1,mouse2,sniff\", \"mouse1,mouse2,sniffgenital\", \"mouse1,self,huddle\", \"mouse2,mouse1,reciprocalsniff\", \"mouse2,mouse1,sniffgenital\", \"mouse2,self,rear\", \"mouse2,self,selfgroom\"]']\n"
     ]
    }
   ],
   "source": [
    "print(train_metadata[col].unique())"
   ]
  },
  {
   "cell_type": "code",
   "execution_count": 27,
   "id": "e10f1f10",
   "metadata": {},
   "outputs": [
    {
     "name": "stdout",
     "output_type": "stream",
     "text": [
      "tracking_method\n",
      "custom HRnet    7926\n",
      "MARS             528\n",
      "DeepLabCut       212\n",
      "SLEAP            124\n",
      "Name: count, dtype: int64\n"
     ]
    }
   ],
   "source": [
    "col = \"tracking_method\"\n",
    "print(train_metadata[col].value_counts())"
   ]
  },
  {
   "cell_type": "code",
   "execution_count": 28,
   "id": "f96575f9",
   "metadata": {},
   "outputs": [
    {
     "name": "stdout",
     "output_type": "stream",
     "text": [
      "MABe22_keypoints       5320\n",
      "MABe22_movies       2606\n",
      "CalMS21_supplemental       297\n",
      "CalMS21_task1       101\n",
      "CalMS21_task2       76\n",
      "SparklingTapir       70\n",
      "JovialSwallow       52\n",
      "PleasantMeerkat       36\n",
      "InvincibleJellyfish       33\n",
      "TranquilPanther       25\n",
      "LyricalHare       24\n",
      "UppityFerret       21\n",
      "CRIM13       21\n",
      "ReflectiveManatee       20\n",
      "ElegantMink       19\n",
      "GroovyShrew       17\n",
      "AdaptableSnail       17\n",
      "NiftyGoldfinch       11\n",
      "CautiousGiraffe       10\n",
      "BoisterousParrot       8\n",
      "DeliriousFly       6\n"
     ]
    }
   ],
   "source": [
    "for lab_id, count in train_metadata.groupby(\"lab_id\").size().sort_values(ascending=False).items():\n",
    "    print(f\"{lab_id}       {count}\")"
   ]
  },
  {
   "cell_type": "code",
   "execution_count": 55,
   "id": "e7b1b6f9",
   "metadata": {},
   "outputs": [
    {
     "data": {
      "text/plain": [
       "(['body_center',\n",
       "  'ear_left',\n",
       "  'ear_right',\n",
       "  'forepaw_left',\n",
       "  'forepaw_right',\n",
       "  'hindpaw_left',\n",
       "  'hindpaw_right',\n",
       "  'neck',\n",
       "  'nose',\n",
       "  'tail_base',\n",
       "  'tail_midpoint',\n",
       "  'tail_tip'],\n",
       " 1593)"
      ]
     },
     "execution_count": 55,
     "metadata": {},
     "output_type": "execute_result"
    }
   ],
   "source": [
    "import ast\n",
    "\n",
    "index = get_index(range(8000))\n",
    "ast.literal_eval(train_metadata[\"body_parts_tracked\"][index]), index"
   ]
  },
  {
   "cell_type": "code",
   "execution_count": 60,
   "id": "e6f8ec26",
   "metadata": {},
   "outputs": [
    {
     "data": {
      "text/plain": [
       "'[\"mouse1,mouse2,approach\", \"mouse1,mouse2,attack\", \"mouse1,mouse2,avoid\", \"mouse1,mouse2,chase\", \"mouse1,mouse2,chaseattack\", \"mouse1,mouse2,submit\", \"mouse1,mouse3,approach\", \"mouse1,mouse3,attack\", \"mouse1,mouse3,avoid\", \"mouse1,mouse3,chase\", \"mouse1,mouse3,chaseattack\", \"mouse1,mouse3,submit\", \"mouse1,mouse4,approach\", \"mouse1,mouse4,attack\", \"mouse1,mouse4,avoid\", \"mouse1,mouse4,chase\", \"mouse1,mouse4,chaseattack\", \"mouse1,mouse4,submit\", \"mouse1,self,rear\", \"mouse2,mouse1,approach\", \"mouse2,mouse1,attack\", \"mouse2,mouse1,avoid\", \"mouse2,mouse1,chase\", \"mouse2,mouse1,chaseattack\", \"mouse2,mouse1,submit\", \"mouse2,mouse3,approach\", \"mouse2,mouse3,attack\", \"mouse2,mouse3,avoid\", \"mouse2,mouse3,chase\", \"mouse2,mouse3,chaseattack\", \"mouse2,mouse3,submit\", \"mouse2,mouse4,approach\", \"mouse2,mouse4,attack\", \"mouse2,mouse4,avoid\", \"mouse2,mouse4,chase\", \"mouse2,mouse4,chaseattack\", \"mouse2,mouse4,submit\", \"mouse2,self,rear\", \"mouse3,mouse1,approach\", \"mouse3,mouse1,attack\", \"mouse3,mouse1,avoid\", \"mouse3,mouse1,chase\", \"mouse3,mouse1,chaseattack\", \"mouse3,mouse1,submit\", \"mouse3,mouse2,approach\", \"mouse3,mouse2,attack\", \"mouse3,mouse2,avoid\", \"mouse3,mouse2,chase\", \"mouse3,mouse2,chaseattack\", \"mouse3,mouse2,submit\", \"mouse3,mouse4,approach\", \"mouse3,mouse4,attack\", \"mouse3,mouse4,avoid\", \"mouse3,mouse4,chase\", \"mouse3,mouse4,chaseattack\", \"mouse3,mouse4,submit\", \"mouse3,self,rear\", \"mouse4,mouse1,approach\", \"mouse4,mouse1,attack\", \"mouse4,mouse1,avoid\", \"mouse4,mouse1,chase\", \"mouse4,mouse1,chaseattack\", \"mouse4,mouse1,submit\", \"mouse4,mouse2,approach\", \"mouse4,mouse2,attack\", \"mouse4,mouse2,avoid\", \"mouse4,mouse2,chase\", \"mouse4,mouse2,chaseattack\", \"mouse4,mouse2,submit\", \"mouse4,mouse3,approach\", \"mouse4,mouse3,attack\", \"mouse4,mouse3,avoid\", \"mouse4,mouse3,chase\", \"mouse4,mouse3,chaseattack\", \"mouse4,mouse3,submit\", \"mouse4,self,rear\"]'"
      ]
     },
     "execution_count": 60,
     "metadata": {},
     "output_type": "execute_result"
    }
   ],
   "source": [
    "train_metadata[\"behaviors_labeled\"][0]"
   ]
  },
  {
   "cell_type": "code",
   "execution_count": 5,
   "id": "32d038fa",
   "metadata": {},
   "outputs": [
    {
     "data": {
      "text/plain": [
       "['sample_submission.csv',\n",
       " 'test.csv',\n",
       " 'test_tracking',\n",
       " 'train.csv',\n",
       " 'train_annotation',\n",
       " 'train_tracking']"
      ]
     },
     "execution_count": 5,
     "metadata": {},
     "output_type": "execute_result"
    }
   ],
   "source": [
    "get_file_names(path)"
   ]
  },
  {
   "cell_type": "code",
   "execution_count": 6,
   "id": "6f6b46ff",
   "metadata": {},
   "outputs": [
    {
     "data": {
      "text/plain": [
       "['AdaptableSnail',\n",
       " 'BoisterousParrot',\n",
       " 'CRIM13',\n",
       " 'CalMS21_supplemental',\n",
       " 'CalMS21_task1',\n",
       " 'CalMS21_task2',\n",
       " 'CautiousGiraffe',\n",
       " 'DeliriousFly',\n",
       " 'ElegantMink',\n",
       " 'GroovyShrew',\n",
       " 'InvincibleJellyfish',\n",
       " 'JovialSwallow',\n",
       " 'LyricalHare',\n",
       " 'MABe22_keypoints',\n",
       " 'MABe22_movies',\n",
       " 'NiftyGoldfinch',\n",
       " 'PleasantMeerkat',\n",
       " 'ReflectiveManatee',\n",
       " 'SparklingTapir',\n",
       " 'TranquilPanther',\n",
       " 'UppityFerret']"
      ]
     },
     "execution_count": 6,
     "metadata": {},
     "output_type": "execute_result"
    }
   ],
   "source": [
    "dataset_names = get_file_names(path+\"/train_tracking\")\n",
    "dataset_names"
   ]
  },
  {
   "cell_type": "code",
   "execution_count": 7,
   "id": "a9a8cb5e",
   "metadata": {},
   "outputs": [
    {
     "data": {
      "text/plain": [
       "['/kaggle/input/MABe-mouse-behavior-detection/train_tracking/AdaptableSnail',\n",
       " '/kaggle/input/MABe-mouse-behavior-detection/train_tracking/BoisterousParrot',\n",
       " '/kaggle/input/MABe-mouse-behavior-detection/train_tracking/CRIM13',\n",
       " '/kaggle/input/MABe-mouse-behavior-detection/train_tracking/CalMS21_supplemental',\n",
       " '/kaggle/input/MABe-mouse-behavior-detection/train_tracking/CalMS21_task1',\n",
       " '/kaggle/input/MABe-mouse-behavior-detection/train_tracking/CalMS21_task2',\n",
       " '/kaggle/input/MABe-mouse-behavior-detection/train_tracking/CautiousGiraffe',\n",
       " '/kaggle/input/MABe-mouse-behavior-detection/train_tracking/DeliriousFly',\n",
       " '/kaggle/input/MABe-mouse-behavior-detection/train_tracking/ElegantMink',\n",
       " '/kaggle/input/MABe-mouse-behavior-detection/train_tracking/GroovyShrew',\n",
       " '/kaggle/input/MABe-mouse-behavior-detection/train_tracking/InvincibleJellyfish',\n",
       " '/kaggle/input/MABe-mouse-behavior-detection/train_tracking/JovialSwallow',\n",
       " '/kaggle/input/MABe-mouse-behavior-detection/train_tracking/LyricalHare',\n",
       " '/kaggle/input/MABe-mouse-behavior-detection/train_tracking/MABe22_keypoints',\n",
       " '/kaggle/input/MABe-mouse-behavior-detection/train_tracking/MABe22_movies',\n",
       " '/kaggle/input/MABe-mouse-behavior-detection/train_tracking/NiftyGoldfinch',\n",
       " '/kaggle/input/MABe-mouse-behavior-detection/train_tracking/PleasantMeerkat',\n",
       " '/kaggle/input/MABe-mouse-behavior-detection/train_tracking/ReflectiveManatee',\n",
       " '/kaggle/input/MABe-mouse-behavior-detection/train_tracking/SparklingTapir',\n",
       " '/kaggle/input/MABe-mouse-behavior-detection/train_tracking/TranquilPanther',\n",
       " '/kaggle/input/MABe-mouse-behavior-detection/train_tracking/UppityFerret']"
      ]
     },
     "execution_count": 7,
     "metadata": {},
     "output_type": "execute_result"
    }
   ],
   "source": [
    "dataset_paths = get_paths(path+\"/train_tracking\")\n",
    "dataset_paths"
   ]
  },
  {
   "cell_type": "code",
   "execution_count": 17,
   "id": "84d7c50a",
   "metadata": {},
   "outputs": [
    {
     "data": {
      "text/plain": [
       "['1212811043.parquet',\n",
       " '1260392287.parquet',\n",
       " '1351098077.parquet',\n",
       " '1408652858.parquet',\n",
       " '143861384.parquet',\n",
       " '1596473327.parquet',\n",
       " '1643942986.parquet',\n",
       " '1717182687.parquet',\n",
       " '2078515636.parquet',\n",
       " '209576908.parquet',\n",
       " '278643799.parquet',\n",
       " '351967631.parquet',\n",
       " '355542626.parquet',\n",
       " '44566106.parquet',\n",
       " '678426900.parquet',\n",
       " '705948978.parquet',\n",
       " '878123481.parquet']"
      ]
     },
     "execution_count": 17,
     "metadata": {},
     "output_type": "execute_result"
    }
   ],
   "source": [
    "videos = get_file_names(dataset_paths[0])\n",
    "videos"
   ]
  },
  {
   "cell_type": "code",
   "execution_count": 19,
   "id": "0fa116bd",
   "metadata": {},
   "outputs": [
    {
     "data": {
      "text/html": [
       "<div>\n",
       "<style scoped>\n",
       "    .dataframe tbody tr th:only-of-type {\n",
       "        vertical-align: middle;\n",
       "    }\n",
       "\n",
       "    .dataframe tbody tr th {\n",
       "        vertical-align: top;\n",
       "    }\n",
       "\n",
       "    .dataframe thead th {\n",
       "        text-align: right;\n",
       "    }\n",
       "</style>\n",
       "<table border=\"1\" class=\"dataframe\">\n",
       "  <thead>\n",
       "    <tr style=\"text-align: right;\">\n",
       "      <th></th>\n",
       "      <th>video_frame</th>\n",
       "      <th>mouse_id</th>\n",
       "      <th>bodypart</th>\n",
       "      <th>x</th>\n",
       "      <th>y</th>\n",
       "    </tr>\n",
       "  </thead>\n",
       "  <tbody>\n",
       "    <tr>\n",
       "      <th>0</th>\n",
       "      <td>0</td>\n",
       "      <td>1</td>\n",
       "      <td>body_center</td>\n",
       "      <td>496.187012</td>\n",
       "      <td>376.475006</td>\n",
       "    </tr>\n",
       "    <tr>\n",
       "      <th>1</th>\n",
       "      <td>0</td>\n",
       "      <td>1</td>\n",
       "      <td>ear_left</td>\n",
       "      <td>494.059998</td>\n",
       "      <td>343.924011</td>\n",
       "    </tr>\n",
       "    <tr>\n",
       "      <th>2</th>\n",
       "      <td>0</td>\n",
       "      <td>1</td>\n",
       "      <td>ear_right</td>\n",
       "      <td>518.765015</td>\n",
       "      <td>367.362000</td>\n",
       "    </tr>\n",
       "    <tr>\n",
       "      <th>3</th>\n",
       "      <td>0</td>\n",
       "      <td>1</td>\n",
       "      <td>lateral_left</td>\n",
       "      <td>474.536987</td>\n",
       "      <td>370.563995</td>\n",
       "    </tr>\n",
       "    <tr>\n",
       "      <th>4</th>\n",
       "      <td>0</td>\n",
       "      <td>1</td>\n",
       "      <td>lateral_right</td>\n",
       "      <td>505.825012</td>\n",
       "      <td>394.937012</td>\n",
       "    </tr>\n",
       "  </tbody>\n",
       "</table>\n",
       "</div>"
      ],
      "text/plain": [
       "   video_frame  mouse_id       bodypart           x           y\n",
       "0            0         1    body_center  496.187012  376.475006\n",
       "1            0         1       ear_left  494.059998  343.924011\n",
       "2            0         1      ear_right  518.765015  367.362000\n",
       "3            0         1   lateral_left  474.536987  370.563995\n",
       "4            0         1  lateral_right  505.825012  394.937012"
      ]
     },
     "execution_count": 19,
     "metadata": {},
     "output_type": "execute_result"
    }
   ],
   "source": [
    "snail_ds_path = os.path.join(dataset_paths[0], videos[0])\n",
    "snail = get_parqt(snail_ds_path)\n",
    "snail.head()"
   ]
  },
  {
   "cell_type": "code",
   "execution_count": 22,
   "id": "9420b913",
   "metadata": {},
   "outputs": [
    {
     "name": "stdout",
     "output_type": "stream",
     "text": [
      "0      video_frame  mouse_id       bodypart           x           y\n",
      "0             0         1    body_center  496.187012  376.475006\n",
      "1             0         1       ear_left  494.059998  343.924011\n",
      "2             0         1      ear_right  518.765015  367.362000\n",
      "3             0         1   lateral_left  474.536987  370.563995\n",
      "4             0         1  lateral_right  505.825012  394.937012\n",
      "5             0         1           nose  527.765015  342.686005\n",
      "6             0         1      tail_base  477.536011  398.338013\n",
      "7             0         1  tail_midpoint  446.834015  429.035004\n",
      "8             0         1       tail_tip  424.618011  457.161011\n",
      "9             0         2    body_center  702.916016  322.872986\n",
      "10            0         2       ear_left  727.033020  302.700989\n",
      "11            0         2      ear_right  740.577026  331.324005\n",
      "12            0         2   lateral_left  698.749023  300.458008\n",
      "13            0         2  lateral_right  702.254028  346.290009\n",
      "14            0         2           nose  753.237000  299.127991\n",
      "15            0         2      tail_base  670.831970  325.459991\n",
      "16            0         2  tail_midpoint  635.299988  324.936005\n",
      "17            0         3    body_center  480.436005  168.886002\n",
      "18            0         3       ear_left  509.897003  187.037994\n",
      "19            0         3      ear_right  489.697998  202.128006\n",
      "20            0         3   lateral_left  475.692993  148.324997\n",
      "21            0         3  lateral_right  456.411987  171.460999\n",
      "22            0         3           nose  515.994019  220.070007\n",
      "23            0         3      tail_base  440.216003  145.406006\n",
      "24            0         3  tail_midpoint  398.580994  144.289993\n",
      "25            0         3       tail_tip  346.510986  139.556000\n",
      "26            0         4    body_center  552.950012  311.082001\n",
      "27            0         4       ear_left  541.341003  270.950012\n",
      "28            0         4      ear_right  574.250000  272.709015\n",
      "29            0         4   lateral_left  527.999023  312.260010\n",
      "30            0         4  lateral_right  568.708984  329.032013\n",
      "31            0         4           neck  564.307983  275.859985\n",
      "32            0         4           nose  554.760986  267.890991\n",
      "33            0         4      tail_base  536.866028  340.485992\n",
      "34            0         4       tail_tip  602.968994  314.808014\n"
     ]
    }
   ],
   "source": [
    "for frame, grp in snail.groupby(\"video_frame\"):\n",
    "    print(f\"{frame}  {grp}\")\n",
    "    break"
   ]
  },
  {
   "cell_type": "code",
   "execution_count": 26,
   "id": "a1460ae0",
   "metadata": {},
   "outputs": [
    {
     "data": {
      "text/plain": [
       "[1212811043,\n",
       " 1260392287,\n",
       " 1351098077,\n",
       " 1408652858,\n",
       " 143861384,\n",
       " 1596473327,\n",
       " 1643942986,\n",
       " 1717182687,\n",
       " 2078515636,\n",
       " 209576908,\n",
       " 278643799,\n",
       " 351967631,\n",
       " 355542626,\n",
       " 44566106,\n",
       " 678426900,\n",
       " 705948978,\n",
       " 878123481]"
      ]
     },
     "execution_count": 26,
     "metadata": {},
     "output_type": "execute_result"
    }
   ],
   "source": [
    "videos = [\n",
    " '1212811043.parquet',\n",
    " '1260392287.parquet',\n",
    " '1351098077.parquet',\n",
    " '1408652858.parquet',\n",
    " '143861384.parquet',\n",
    " '1596473327.parquet',\n",
    " '1643942986.parquet',\n",
    " '1717182687.parquet',\n",
    " '2078515636.parquet',\n",
    " '209576908.parquet',\n",
    " '278643799.parquet',\n",
    " '351967631.parquet',\n",
    " '355542626.parquet',\n",
    " '44566106.parquet',\n",
    " '678426900.parquet',\n",
    " '705948978.parquet',\n",
    " '878123481.parquet'\n",
    "]\n",
    "\n",
    "video_ids = [int(v.split(\".\")[0]) for v in videos]\n",
    "video_ids"
   ]
  },
  {
   "cell_type": "code",
   "execution_count": 33,
   "id": "f253948d",
   "metadata": {},
   "outputs": [
    {
     "data": {
      "text/plain": [
       "[44566106,\n",
       " 143861384,\n",
       " 209576908,\n",
       " 278643799,\n",
       " 351967631,\n",
       " 355542626,\n",
       " 678426900,\n",
       " 705948978,\n",
       " 878123481,\n",
       " 1212811043,\n",
       " 1260392287,\n",
       " 1351098077,\n",
       " 1408652858,\n",
       " 1596473327,\n",
       " 1643942986,\n",
       " 1717182687,\n",
       " 2078515636]"
      ]
     },
     "execution_count": 33,
     "metadata": {},
     "output_type": "execute_result"
    }
   ],
   "source": [
    "group = train_metadata.groupby(\"lab_id\").get_group(\"AdaptableSnail\")\n",
    "grp_video_ids = group[\"video_id\"].unique().tolist()\n",
    "grp_video_ids"
   ]
  },
  {
   "cell_type": "code",
   "execution_count": 34,
   "id": "2a8a8a30",
   "metadata": {},
   "outputs": [
    {
     "data": {
      "text/plain": [
       "[True,\n",
       " True,\n",
       " True,\n",
       " True,\n",
       " True,\n",
       " True,\n",
       " True,\n",
       " True,\n",
       " True,\n",
       " True,\n",
       " True,\n",
       " True,\n",
       " True,\n",
       " True,\n",
       " True,\n",
       " True,\n",
       " True]"
      ]
     },
     "execution_count": 34,
     "metadata": {},
     "output_type": "execute_result"
    }
   ],
   "source": [
    "[id in grp_video_ids for id in video_ids]"
   ]
  }
 ],
 "metadata": {
  "kernelspec": {
   "display_name": "Python 3 (ipykernel)",
   "language": "python",
   "name": "python3"
  },
  "language_info": {
   "codemirror_mode": {
    "name": "ipython",
    "version": 3
   },
   "file_extension": ".py",
   "mimetype": "text/x-python",
   "name": "python",
   "nbconvert_exporter": "python",
   "pygments_lexer": "ipython3",
   "version": "3.11.13"
  }
 },
 "nbformat": 4,
 "nbformat_minor": 5
}
